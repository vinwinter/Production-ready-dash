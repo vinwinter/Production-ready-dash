{
 "cells": [
  {
   "cell_type": "code",
   "execution_count": 1,
   "metadata": {},
   "outputs": [],
   "source": [
    "import pandas as pd\n",
    "import numpy as np\n",
    "\n",
    "import dash\n",
    "import dash_core_components as dcc\n",
    "import dash_html_components as html\n",
    "import plotly.graph_objects as go\n",
    "import plotly.express as px\n",
    "from jupyter_dash import JupyterDash\n",
    "import dash_bootstrap_components as dbc\n",
    "from plotly.offline import download_plotlyjs, init_notebook_mode, plot, iplot\n",
    "\n",
    "import io\n",
    "import json\n",
    "import geojson\n",
    "#init_notebook_mode(connected = True)\n"
   ]
  },
  {
   "cell_type": "code",
   "execution_count": 2,
   "metadata": {},
   "outputs": [],
   "source": [
    "df = pd.read_csv(\"mor_loc.csv\",header=None, skiprows=3)\n",
    "df = df[0].str.split(';', expand=True).replace('\"', '', regex=True)\n",
    "df.columns = df.iloc[0]\n",
    "df = df.drop([0])\n",
    "df.rename(columns={'INLANDAUSLAND': 'Cantons'}, inplace=True)\n"
   ]
  },
  {
   "cell_type": "code",
   "execution_count": 3,
   "metadata": {},
   "outputs": [
    {
     "data": {
      "text/html": [
       "<div>\n",
       "<style scoped>\n",
       "    .dataframe tbody tr th:only-of-type {\n",
       "        vertical-align: middle;\n",
       "    }\n",
       "\n",
       "    .dataframe tbody tr th {\n",
       "        vertical-align: top;\n",
       "    }\n",
       "\n",
       "    .dataframe thead th {\n",
       "        text-align: right;\n",
       "    }\n",
       "</style>\n",
       "<table border=\"1\" class=\"dataframe\">\n",
       "  <thead>\n",
       "    <tr style=\"text-align: right;\">\n",
       "      <th></th>\n",
       "      <th>Date</th>\n",
       "      <th>Cantons</th>\n",
       "      <th>BANKENGRUPPE</th>\n",
       "      <th>Value</th>\n",
       "    </tr>\n",
       "  </thead>\n",
       "  <tbody>\n",
       "    <tr>\n",
       "      <th>1</th>\n",
       "      <td>2002</td>\n",
       "      <td>CHE1</td>\n",
       "      <td>AllBanks</td>\n",
       "      <td>539800.725</td>\n",
       "    </tr>\n",
       "    <tr>\n",
       "      <th>2</th>\n",
       "      <td>2002</td>\n",
       "      <td>CHE1</td>\n",
       "      <td>CantonalBanks</td>\n",
       "      <td>192223.564</td>\n",
       "    </tr>\n",
       "    <tr>\n",
       "      <th>3</th>\n",
       "      <td>2002</td>\n",
       "      <td>CHE1</td>\n",
       "      <td>BigBanks</td>\n",
       "      <td>181508.542</td>\n",
       "    </tr>\n",
       "    <tr>\n",
       "      <th>4</th>\n",
       "      <td>2002</td>\n",
       "      <td>CHE1</td>\n",
       "      <td>RegAndSavBanks</td>\n",
       "      <td>61235.759</td>\n",
       "    </tr>\n",
       "    <tr>\n",
       "      <th>5</th>\n",
       "      <td>2002</td>\n",
       "      <td>CHE1</td>\n",
       "      <td>Raiffeisen</td>\n",
       "      <td>68570.353</td>\n",
       "    </tr>\n",
       "    <tr>\n",
       "      <th>...</th>\n",
       "      <td>...</td>\n",
       "      <td>...</td>\n",
       "      <td>...</td>\n",
       "      <td>...</td>\n",
       "    </tr>\n",
       "    <tr>\n",
       "      <th>2426</th>\n",
       "      <td>2019</td>\n",
       "      <td>JU</td>\n",
       "      <td>AllBanks</td>\n",
       "      <td>7924.59101535</td>\n",
       "    </tr>\n",
       "    <tr>\n",
       "      <th>2427</th>\n",
       "      <td>2019</td>\n",
       "      <td>JU</td>\n",
       "      <td>CantonalBanks</td>\n",
       "      <td>2393.74600703</td>\n",
       "    </tr>\n",
       "    <tr>\n",
       "      <th>2428</th>\n",
       "      <td>2019</td>\n",
       "      <td>JU</td>\n",
       "      <td>BigBanks</td>\n",
       "      <td>1716.07640735</td>\n",
       "    </tr>\n",
       "    <tr>\n",
       "      <th>2429</th>\n",
       "      <td>2019</td>\n",
       "      <td>JU</td>\n",
       "      <td>RegAndSavBanks</td>\n",
       "      <td>682.45943634</td>\n",
       "    </tr>\n",
       "    <tr>\n",
       "      <th>2430</th>\n",
       "      <td>2019</td>\n",
       "      <td>JU</td>\n",
       "      <td>Raiffeisen</td>\n",
       "      <td>2841.20766297</td>\n",
       "    </tr>\n",
       "  </tbody>\n",
       "</table>\n",
       "<p>2430 rows × 4 columns</p>\n",
       "</div>"
      ],
      "text/plain": [
       "0     Date Cantons    BANKENGRUPPE          Value\n",
       "1     2002    CHE1        AllBanks     539800.725\n",
       "2     2002    CHE1   CantonalBanks     192223.564\n",
       "3     2002    CHE1        BigBanks     181508.542\n",
       "4     2002    CHE1  RegAndSavBanks      61235.759\n",
       "5     2002    CHE1      Raiffeisen      68570.353\n",
       "...    ...     ...             ...            ...\n",
       "2426  2019      JU        AllBanks  7924.59101535\n",
       "2427  2019      JU   CantonalBanks  2393.74600703\n",
       "2428  2019      JU        BigBanks  1716.07640735\n",
       "2429  2019      JU  RegAndSavBanks   682.45943634\n",
       "2430  2019      JU      Raiffeisen  2841.20766297\n",
       "\n",
       "[2430 rows x 4 columns]"
      ]
     },
     "execution_count": 3,
     "metadata": {},
     "output_type": "execute_result"
    }
   ],
   "source": [
    "df['BANKENGRUPPE'] = df['BANKENGRUPPE'].replace({'S10': 'AllBanks', 'G10': 'CantonalBanks', 'G15': 'BigBanks', 'G20': 'RegAndSavBanks', 'G25':'Raiffeisen'})\n",
    "df"
   ]
  },
  {
   "cell_type": "code",
   "execution_count": 4,
   "metadata": {},
   "outputs": [],
   "source": [
    "mor_Cant = df.groupby([\"Date\",\"Cantons\", \"BANKENGRUPPE\"])['Value'].aggregate(lambda x: x).unstack().reset_index()"
   ]
  },
  {
   "cell_type": "code",
   "execution_count": 5,
   "metadata": {},
   "outputs": [
    {
     "data": {
      "text/html": [
       "<div>\n",
       "<style scoped>\n",
       "    .dataframe tbody tr th:only-of-type {\n",
       "        vertical-align: middle;\n",
       "    }\n",
       "\n",
       "    .dataframe tbody tr th {\n",
       "        vertical-align: top;\n",
       "    }\n",
       "\n",
       "    .dataframe thead th {\n",
       "        text-align: right;\n",
       "    }\n",
       "</style>\n",
       "<table border=\"1\" class=\"dataframe\">\n",
       "  <thead>\n",
       "    <tr style=\"text-align: right;\">\n",
       "      <th>BANKENGRUPPE</th>\n",
       "      <th>Date</th>\n",
       "      <th>Cantons</th>\n",
       "      <th>AllBanks</th>\n",
       "      <th>BigBanks</th>\n",
       "      <th>CantonalBanks</th>\n",
       "      <th>Raiffeisen</th>\n",
       "      <th>RegAndSavBanks</th>\n",
       "    </tr>\n",
       "  </thead>\n",
       "  <tbody>\n",
       "    <tr>\n",
       "      <th>0</th>\n",
       "      <td>2002</td>\n",
       "      <td>AG</td>\n",
       "      <td>48219</td>\n",
       "      <td>10901</td>\n",
       "      <td>10341</td>\n",
       "      <td>8683</td>\n",
       "      <td>16029</td>\n",
       "    </tr>\n",
       "    <tr>\n",
       "      <th>1</th>\n",
       "      <td>2002</td>\n",
       "      <td>AI</td>\n",
       "      <td>1168</td>\n",
       "      <td>121</td>\n",
       "      <td>782</td>\n",
       "      <td>244</td>\n",
       "      <td>12</td>\n",
       "    </tr>\n",
       "    <tr>\n",
       "      <th>2</th>\n",
       "      <td>2002</td>\n",
       "      <td>AR</td>\n",
       "      <td>3132</td>\n",
       "      <td>1563</td>\n",
       "      <td>610</td>\n",
       "      <td>617</td>\n",
       "      <td>220</td>\n",
       "    </tr>\n",
       "    <tr>\n",
       "      <th>3</th>\n",
       "      <td>2002</td>\n",
       "      <td>BE</td>\n",
       "      <td>60454</td>\n",
       "      <td>23585</td>\n",
       "      <td>11264</td>\n",
       "      <td>5264</td>\n",
       "      <td>15828</td>\n",
       "    </tr>\n",
       "    <tr>\n",
       "      <th>4</th>\n",
       "      <td>2002</td>\n",
       "      <td>BL</td>\n",
       "      <td>21310</td>\n",
       "      <td>6739</td>\n",
       "      <td>10391</td>\n",
       "      <td>1659</td>\n",
       "      <td>590</td>\n",
       "    </tr>\n",
       "    <tr>\n",
       "      <th>...</th>\n",
       "      <td>...</td>\n",
       "      <td>...</td>\n",
       "      <td>...</td>\n",
       "      <td>...</td>\n",
       "      <td>...</td>\n",
       "      <td>...</td>\n",
       "      <td>...</td>\n",
       "    </tr>\n",
       "    <tr>\n",
       "      <th>481</th>\n",
       "      <td>2019</td>\n",
       "      <td>UR</td>\n",
       "      <td>4380</td>\n",
       "      <td>628</td>\n",
       "      <td>2314</td>\n",
       "      <td>1265</td>\n",
       "      <td>48</td>\n",
       "    </tr>\n",
       "    <tr>\n",
       "      <th>482</th>\n",
       "      <td>2019</td>\n",
       "      <td>VD</td>\n",
       "      <td>88451</td>\n",
       "      <td>32625</td>\n",
       "      <td>31015</td>\n",
       "      <td>10969</td>\n",
       "      <td>2974</td>\n",
       "    </tr>\n",
       "    <tr>\n",
       "      <th>483</th>\n",
       "      <td>2019</td>\n",
       "      <td>VS</td>\n",
       "      <td>40481</td>\n",
       "      <td>12366</td>\n",
       "      <td>11075</td>\n",
       "      <td>13666</td>\n",
       "      <td>455</td>\n",
       "    </tr>\n",
       "    <tr>\n",
       "      <th>484</th>\n",
       "      <td>2019</td>\n",
       "      <td>ZG</td>\n",
       "      <td>19606</td>\n",
       "      <td>4855</td>\n",
       "      <td>10204</td>\n",
       "      <td>3358</td>\n",
       "      <td>311</td>\n",
       "    </tr>\n",
       "    <tr>\n",
       "      <th>485</th>\n",
       "      <td>2019</td>\n",
       "      <td>ZH</td>\n",
       "      <td>197071</td>\n",
       "      <td>60859</td>\n",
       "      <td>91126</td>\n",
       "      <td>15436</td>\n",
       "      <td>13379</td>\n",
       "    </tr>\n",
       "  </tbody>\n",
       "</table>\n",
       "<p>468 rows × 7 columns</p>\n",
       "</div>"
      ],
      "text/plain": [
       "BANKENGRUPPE  Date Cantons  AllBanks  BigBanks  CantonalBanks  Raiffeisen  \\\n",
       "0             2002      AG     48219     10901          10341        8683   \n",
       "1             2002      AI      1168       121            782         244   \n",
       "2             2002      AR      3132      1563            610         617   \n",
       "3             2002      BE     60454     23585          11264        5264   \n",
       "4             2002      BL     21310      6739          10391        1659   \n",
       "..             ...     ...       ...       ...            ...         ...   \n",
       "481           2019      UR      4380       628           2314        1265   \n",
       "482           2019      VD     88451     32625          31015       10969   \n",
       "483           2019      VS     40481     12366          11075       13666   \n",
       "484           2019      ZG     19606      4855          10204        3358   \n",
       "485           2019      ZH    197071     60859          91126       15436   \n",
       "\n",
       "BANKENGRUPPE  RegAndSavBanks  \n",
       "0                      16029  \n",
       "1                         12  \n",
       "2                        220  \n",
       "3                      15828  \n",
       "4                        590  \n",
       "..                       ...  \n",
       "481                       48  \n",
       "482                     2974  \n",
       "483                      455  \n",
       "484                      311  \n",
       "485                    13379  \n",
       "\n",
       "[468 rows x 7 columns]"
      ]
     },
     "execution_count": 5,
     "metadata": {},
     "output_type": "execute_result"
    }
   ],
   "source": [
    "cols = mor_Cant.columns.drop('Cantons')\n",
    "mor_Cant[cols] = mor_Cant[cols].apply(pd.to_numeric, errors='coerce')\n",
    "#mor_Cant = mor_Cant.astype({'Date': 'int8','Cantons': 'str','AllBanks': 'float32','BigBanks': 'float32','CantonalBanks': 'float32','Raiffeisen': 'float32','RegAndSavBanks': 'float32'})\n",
    "mor_Nat = mor_Cant[mor_Cant[\"Cantons\"] == 'CHE1']\n",
    "mor_Cant = mor_Cant[~mor_Cant.isin(mor_Nat)].dropna()\n",
    "mor_Cant[cols] = mor_Cant[cols].astype(int)\n",
    "mor_Cant"
   ]
  },
  {
   "cell_type": "code",
   "execution_count": 16,
   "metadata": {},
   "outputs": [],
   "source": [
    "All_Bank2002 = df.loc[df[\"Date\"] == 2002,:]"
   ]
  },
  {
   "cell_type": "code",
   "execution_count": 17,
   "metadata": {},
   "outputs": [
    {
     "data": {
      "text/html": [
       "<div>\n",
       "<style scoped>\n",
       "    .dataframe tbody tr th:only-of-type {\n",
       "        vertical-align: middle;\n",
       "    }\n",
       "\n",
       "    .dataframe tbody tr th {\n",
       "        vertical-align: top;\n",
       "    }\n",
       "\n",
       "    .dataframe thead th {\n",
       "        text-align: right;\n",
       "    }\n",
       "</style>\n",
       "<table border=\"1\" class=\"dataframe\">\n",
       "  <thead>\n",
       "    <tr style=\"text-align: right;\">\n",
       "      <th></th>\n",
       "      <th>Date</th>\n",
       "      <th>Cantons</th>\n",
       "      <th>BANKENGRUPPE</th>\n",
       "      <th>Value</th>\n",
       "    </tr>\n",
       "  </thead>\n",
       "  <tbody>\n",
       "  </tbody>\n",
       "</table>\n",
       "</div>"
      ],
      "text/plain": [
       "Empty DataFrame\n",
       "Columns: [Date, Cantons, BANKENGRUPPE, Value]\n",
       "Index: []"
      ]
     },
     "execution_count": 17,
     "metadata": {},
     "output_type": "execute_result"
    }
   ],
   "source": [
    "df2002"
   ]
  },
  {
   "cell_type": "code",
   "execution_count": 23,
   "metadata": {},
   "outputs": [
    {
     "data": {
      "application/vnd.plotly.v1+json": {
       "config": {
        "plotlyServerURL": "https://plot.ly"
       },
       "data": [
        {
         "alignmentgroup": "True",
         "hovertemplate": "Type of Bank=BigBanks<br>Date=2002<br>Cantons=%{x}<br>CHF mill=%{y}<extra></extra>",
         "legendgroup": "BigBanks",
         "marker": {
          "color": "#636efa"
         },
         "name": "BigBanks",
         "offsetgroup": "BigBanks",
         "orientation": "v",
         "showlegend": true,
         "textposition": "auto",
         "type": "bar",
         "x": [
          "AG",
          "AI",
          "AR",
          "BE",
          "BL",
          "BS",
          "FR",
          "GE",
          "GL",
          "GR",
          "JU",
          "LU",
          "NE",
          "NW",
          "OW",
          "SG",
          "SH",
          "SO",
          "SZ",
          "TG",
          "TI",
          "UR",
          "VD",
          "VS",
          "ZG",
          "ZH"
         ],
         "xaxis": "x",
         "y": [
          10901,
          121,
          1563,
          23585,
          6739,
          5030,
          4960,
          13002,
          607,
          5048,
          1343,
          6524,
          3495,
          872,
          487,
          6848,
          1478,
          5823,
          2693,
          4180,
          10229,
          513,
          14439,
          6457,
          2519,
          42040
         ],
         "yaxis": "y"
        },
        {
         "alignmentgroup": "True",
         "hovertemplate": "Type of Bank=CantonalBanks<br>Date=2002<br>Cantons=%{x}<br>CHF mill=%{y}<extra></extra>",
         "legendgroup": "CantonalBanks",
         "marker": {
          "color": "#EF553B"
         },
         "name": "CantonalBanks",
         "offsetgroup": "CantonalBanks",
         "orientation": "v",
         "showlegend": true,
         "textposition": "auto",
         "type": "bar",
         "x": [
          "AG",
          "AI",
          "AR",
          "BE",
          "BL",
          "BS",
          "FR",
          "GE",
          "GL",
          "GR",
          "JU",
          "LU",
          "NE",
          "NW",
          "OW",
          "SG",
          "SH",
          "SO",
          "SZ",
          "TG",
          "TI",
          "UR",
          "VD",
          "VS",
          "ZG",
          "ZH"
         ],
         "xaxis": "x",
         "y": [
          10341,
          782,
          610,
          11264,
          10391,
          4941,
          5700,
          6021,
          1733,
          9458,
          1211,
          11110,
          3132,
          1577,
          1908,
          11052,
          2566,
          1317,
          6702,
          10551,
          4470,
          1442,
          15636,
          4402,
          6013,
          47880
         ],
         "yaxis": "y"
        },
        {
         "alignmentgroup": "True",
         "hovertemplate": "Type of Bank=Raiffeisen<br>Date=2002<br>Cantons=%{x}<br>CHF mill=%{y}<extra></extra>",
         "legendgroup": "Raiffeisen",
         "marker": {
          "color": "#00cc96"
         },
         "name": "Raiffeisen",
         "offsetgroup": "Raiffeisen",
         "orientation": "v",
         "showlegend": true,
         "textposition": "auto",
         "type": "bar",
         "x": [
          "AG",
          "AI",
          "AR",
          "BE",
          "BL",
          "BS",
          "FR",
          "GE",
          "GL",
          "GR",
          "JU",
          "LU",
          "NE",
          "NW",
          "OW",
          "SG",
          "SH",
          "SO",
          "SZ",
          "TG",
          "TI",
          "UR",
          "VD",
          "VS",
          "ZG",
          "ZH"
         ],
         "xaxis": "x",
         "y": [
          8683,
          244,
          617,
          5264,
          1659,
          83,
          3293,
          1003,
          159,
          2512,
          1184,
          3660,
          746,
          738,
          447,
          11104,
          259,
          5907,
          1246,
          4517,
          4083,
          541,
          2574,
          4630,
          1818,
          1585
         ],
         "yaxis": "y"
        },
        {
         "alignmentgroup": "True",
         "hovertemplate": "Type of Bank=RegAndSavBanks<br>Date=2002<br>Cantons=%{x}<br>CHF mill=%{y}<extra></extra>",
         "legendgroup": "RegAndSavBanks",
         "marker": {
          "color": "#ab63fa"
         },
         "name": "RegAndSavBanks",
         "offsetgroup": "RegAndSavBanks",
         "orientation": "v",
         "showlegend": true,
         "textposition": "auto",
         "type": "bar",
         "x": [
          "AG",
          "AI",
          "AR",
          "BE",
          "BL",
          "BS",
          "FR",
          "GE",
          "GL",
          "GR",
          "JU",
          "LU",
          "NE",
          "NW",
          "OW",
          "SG",
          "SH",
          "SO",
          "SZ",
          "TG",
          "TI",
          "UR",
          "VD",
          "VS",
          "ZG",
          "ZH"
         ],
         "xaxis": "x",
         "y": [
          16029,
          12,
          220,
          15828,
          590,
          99,
          1312,
          30,
          278,
          101,
          506,
          3972,
          18,
          17,
          90,
          5350,
          1177,
          6034,
          1345,
          129,
          134,
          5,
          1027,
          130,
          96,
          6694
         ],
         "yaxis": "y"
        }
       ],
       "frames": [
        {
         "data": [
          {
           "alignmentgroup": "True",
           "hovertemplate": "Type of Bank=BigBanks<br>Date=2002<br>Cantons=%{x}<br>CHF mill=%{y}<extra></extra>",
           "legendgroup": "BigBanks",
           "marker": {
            "color": "#636efa"
           },
           "name": "BigBanks",
           "offsetgroup": "BigBanks",
           "orientation": "v",
           "showlegend": true,
           "textposition": "auto",
           "type": "bar",
           "x": [
            "AG",
            "AI",
            "AR",
            "BE",
            "BL",
            "BS",
            "FR",
            "GE",
            "GL",
            "GR",
            "JU",
            "LU",
            "NE",
            "NW",
            "OW",
            "SG",
            "SH",
            "SO",
            "SZ",
            "TG",
            "TI",
            "UR",
            "VD",
            "VS",
            "ZG",
            "ZH"
           ],
           "xaxis": "x",
           "y": [
            10901,
            121,
            1563,
            23585,
            6739,
            5030,
            4960,
            13002,
            607,
            5048,
            1343,
            6524,
            3495,
            872,
            487,
            6848,
            1478,
            5823,
            2693,
            4180,
            10229,
            513,
            14439,
            6457,
            2519,
            42040
           ],
           "yaxis": "y"
          },
          {
           "alignmentgroup": "True",
           "hovertemplate": "Type of Bank=CantonalBanks<br>Date=2002<br>Cantons=%{x}<br>CHF mill=%{y}<extra></extra>",
           "legendgroup": "CantonalBanks",
           "marker": {
            "color": "#EF553B"
           },
           "name": "CantonalBanks",
           "offsetgroup": "CantonalBanks",
           "orientation": "v",
           "showlegend": true,
           "textposition": "auto",
           "type": "bar",
           "x": [
            "AG",
            "AI",
            "AR",
            "BE",
            "BL",
            "BS",
            "FR",
            "GE",
            "GL",
            "GR",
            "JU",
            "LU",
            "NE",
            "NW",
            "OW",
            "SG",
            "SH",
            "SO",
            "SZ",
            "TG",
            "TI",
            "UR",
            "VD",
            "VS",
            "ZG",
            "ZH"
           ],
           "xaxis": "x",
           "y": [
            10341,
            782,
            610,
            11264,
            10391,
            4941,
            5700,
            6021,
            1733,
            9458,
            1211,
            11110,
            3132,
            1577,
            1908,
            11052,
            2566,
            1317,
            6702,
            10551,
            4470,
            1442,
            15636,
            4402,
            6013,
            47880
           ],
           "yaxis": "y"
          },
          {
           "alignmentgroup": "True",
           "hovertemplate": "Type of Bank=Raiffeisen<br>Date=2002<br>Cantons=%{x}<br>CHF mill=%{y}<extra></extra>",
           "legendgroup": "Raiffeisen",
           "marker": {
            "color": "#00cc96"
           },
           "name": "Raiffeisen",
           "offsetgroup": "Raiffeisen",
           "orientation": "v",
           "showlegend": true,
           "textposition": "auto",
           "type": "bar",
           "x": [
            "AG",
            "AI",
            "AR",
            "BE",
            "BL",
            "BS",
            "FR",
            "GE",
            "GL",
            "GR",
            "JU",
            "LU",
            "NE",
            "NW",
            "OW",
            "SG",
            "SH",
            "SO",
            "SZ",
            "TG",
            "TI",
            "UR",
            "VD",
            "VS",
            "ZG",
            "ZH"
           ],
           "xaxis": "x",
           "y": [
            8683,
            244,
            617,
            5264,
            1659,
            83,
            3293,
            1003,
            159,
            2512,
            1184,
            3660,
            746,
            738,
            447,
            11104,
            259,
            5907,
            1246,
            4517,
            4083,
            541,
            2574,
            4630,
            1818,
            1585
           ],
           "yaxis": "y"
          },
          {
           "alignmentgroup": "True",
           "hovertemplate": "Type of Bank=RegAndSavBanks<br>Date=2002<br>Cantons=%{x}<br>CHF mill=%{y}<extra></extra>",
           "legendgroup": "RegAndSavBanks",
           "marker": {
            "color": "#ab63fa"
           },
           "name": "RegAndSavBanks",
           "offsetgroup": "RegAndSavBanks",
           "orientation": "v",
           "showlegend": true,
           "textposition": "auto",
           "type": "bar",
           "x": [
            "AG",
            "AI",
            "AR",
            "BE",
            "BL",
            "BS",
            "FR",
            "GE",
            "GL",
            "GR",
            "JU",
            "LU",
            "NE",
            "NW",
            "OW",
            "SG",
            "SH",
            "SO",
            "SZ",
            "TG",
            "TI",
            "UR",
            "VD",
            "VS",
            "ZG",
            "ZH"
           ],
           "xaxis": "x",
           "y": [
            16029,
            12,
            220,
            15828,
            590,
            99,
            1312,
            30,
            278,
            101,
            506,
            3972,
            18,
            17,
            90,
            5350,
            1177,
            6034,
            1345,
            129,
            134,
            5,
            1027,
            130,
            96,
            6694
           ],
           "yaxis": "y"
          }
         ],
         "name": "2002"
        },
        {
         "data": [
          {
           "alignmentgroup": "True",
           "hovertemplate": "Type of Bank=BigBanks<br>Date=2003<br>Cantons=%{x}<br>CHF mill=%{y}<extra></extra>",
           "legendgroup": "BigBanks",
           "marker": {
            "color": "#636efa"
           },
           "name": "BigBanks",
           "offsetgroup": "BigBanks",
           "orientation": "v",
           "showlegend": true,
           "textposition": "auto",
           "type": "bar",
           "x": [
            "AG",
            "AI",
            "AR",
            "BE",
            "BL",
            "BS",
            "FR",
            "GE",
            "GL",
            "GR",
            "JU",
            "LU",
            "NE",
            "NW",
            "OW",
            "SG",
            "SH",
            "SO",
            "SZ",
            "TG",
            "TI",
            "UR",
            "VD",
            "VS",
            "ZG",
            "ZH"
           ],
           "xaxis": "x",
           "y": [
            11337,
            118,
            1562,
            24730,
            7158,
            5081,
            5278,
            13681,
            604,
            5220,
            1399,
            6607,
            3731,
            901,
            502,
            6953,
            1518,
            5967,
            2841,
            4210,
            10424,
            516,
            15999,
            6419,
            2704,
            44505
           ],
           "yaxis": "y"
          },
          {
           "alignmentgroup": "True",
           "hovertemplate": "Type of Bank=CantonalBanks<br>Date=2003<br>Cantons=%{x}<br>CHF mill=%{y}<extra></extra>",
           "legendgroup": "CantonalBanks",
           "marker": {
            "color": "#EF553B"
           },
           "name": "CantonalBanks",
           "offsetgroup": "CantonalBanks",
           "orientation": "v",
           "showlegend": true,
           "textposition": "auto",
           "type": "bar",
           "x": [
            "AG",
            "AI",
            "AR",
            "BE",
            "BL",
            "BS",
            "FR",
            "GE",
            "GL",
            "GR",
            "JU",
            "LU",
            "NE",
            "NW",
            "OW",
            "SG",
            "SH",
            "SO",
            "SZ",
            "TG",
            "TI",
            "UR",
            "VD",
            "VS",
            "ZG",
            "ZH"
           ],
           "xaxis": "x",
           "y": [
            11997,
            809,
            973,
            12190,
            10927,
            5087,
            5845,
            6046,
            1802,
            9652,
            1198,
            11064,
            3033,
            1836,
            2000,
            11914,
            2641,
            1694,
            7301,
            10782,
            4968,
            1469,
            15855,
            4602,
            6419,
            45455
           ],
           "yaxis": "y"
          },
          {
           "alignmentgroup": "True",
           "hovertemplate": "Type of Bank=Raiffeisen<br>Date=2003<br>Cantons=%{x}<br>CHF mill=%{y}<extra></extra>",
           "legendgroup": "Raiffeisen",
           "marker": {
            "color": "#00cc96"
           },
           "name": "Raiffeisen",
           "offsetgroup": "Raiffeisen",
           "orientation": "v",
           "showlegend": true,
           "textposition": "auto",
           "type": "bar",
           "x": [
            "AG",
            "AI",
            "AR",
            "BE",
            "BL",
            "BS",
            "FR",
            "GE",
            "GL",
            "GR",
            "JU",
            "LU",
            "NE",
            "NW",
            "OW",
            "SG",
            "SH",
            "SO",
            "SZ",
            "TG",
            "TI",
            "UR",
            "VD",
            "VS",
            "ZG",
            "ZH"
           ],
           "xaxis": "x",
           "y": [
            9242,
            256,
            576,
            5713,
            1822,
            134,
            3549,
            1183,
            183,
            2627,
            1266,
            4024,
            799,
            809,
            485,
            12120,
            288,
            6081,
            1359,
            4905,
            4483,
            579,
            2877,
            4898,
            1980,
            1905
           ],
           "yaxis": "y"
          },
          {
           "alignmentgroup": "True",
           "hovertemplate": "Type of Bank=RegAndSavBanks<br>Date=2003<br>Cantons=%{x}<br>CHF mill=%{y}<extra></extra>",
           "legendgroup": "RegAndSavBanks",
           "marker": {
            "color": "#ab63fa"
           },
           "name": "RegAndSavBanks",
           "offsetgroup": "RegAndSavBanks",
           "orientation": "v",
           "showlegend": true,
           "textposition": "auto",
           "type": "bar",
           "x": [
            "AG",
            "AI",
            "AR",
            "BE",
            "BL",
            "BS",
            "FR",
            "GE",
            "GL",
            "GR",
            "JU",
            "LU",
            "NE",
            "NW",
            "OW",
            "SG",
            "SH",
            "SO",
            "SZ",
            "TG",
            "TI",
            "UR",
            "VD",
            "VS",
            "ZG",
            "ZH"
           ],
           "xaxis": "x",
           "y": [
            16466,
            15,
            242,
            15959,
            702,
            123,
            1285,
            27,
            296,
            156,
            544,
            4056,
            28,
            23,
            89,
            5090,
            1215,
            5962,
            1414,
            167,
            145,
            9,
            1095,
            134,
            55,
            7183
           ],
           "yaxis": "y"
          }
         ],
         "name": "2003"
        },
        {
         "data": [
          {
           "alignmentgroup": "True",
           "hovertemplate": "Type of Bank=BigBanks<br>Date=2004<br>Cantons=%{x}<br>CHF mill=%{y}<extra></extra>",
           "legendgroup": "BigBanks",
           "marker": {
            "color": "#636efa"
           },
           "name": "BigBanks",
           "offsetgroup": "BigBanks",
           "orientation": "v",
           "showlegend": true,
           "textposition": "auto",
           "type": "bar",
           "x": [
            "AG",
            "AI",
            "AR",
            "BE",
            "BL",
            "BS",
            "FR",
            "GE",
            "GL",
            "GR",
            "JU",
            "LU",
            "NE",
            "NW",
            "OW",
            "SG",
            "SH",
            "SO",
            "SZ",
            "TG",
            "TI",
            "UR",
            "VD",
            "VS",
            "ZG",
            "ZH"
           ],
           "xaxis": "x",
           "y": [
            11656,
            96,
            1630,
            25576,
            7155,
            4718,
            5676,
            14104,
            611,
            6261,
            1458,
            6694,
            3802,
            782,
            464,
            7206,
            1536,
            6335,
            2807,
            4410,
            11528,
            501,
            17754,
            7721,
            2636,
            45759
           ],
           "yaxis": "y"
          },
          {
           "alignmentgroup": "True",
           "hovertemplate": "Type of Bank=CantonalBanks<br>Date=2004<br>Cantons=%{x}<br>CHF mill=%{y}<extra></extra>",
           "legendgroup": "CantonalBanks",
           "marker": {
            "color": "#EF553B"
           },
           "name": "CantonalBanks",
           "offsetgroup": "CantonalBanks",
           "orientation": "v",
           "showlegend": true,
           "textposition": "auto",
           "type": "bar",
           "x": [
            "AG",
            "AI",
            "AR",
            "BE",
            "BL",
            "BS",
            "FR",
            "GE",
            "GL",
            "GR",
            "JU",
            "LU",
            "NE",
            "NW",
            "OW",
            "SG",
            "SH",
            "SO",
            "SZ",
            "TG",
            "TI",
            "UR",
            "VD",
            "VS",
            "ZG",
            "ZH"
           ],
           "xaxis": "x",
           "y": [
            12607,
            832,
            1019,
            12490,
            11280,
            5237,
            5956,
            6022,
            1840,
            9591,
            1204,
            11764,
            3114,
            1810,
            1992,
            12360,
            2657,
            1996,
            7587,
            10938,
            5080,
            1497,
            15810,
            4757,
            6761,
            46999
           ],
           "yaxis": "y"
          },
          {
           "alignmentgroup": "True",
           "hovertemplate": "Type of Bank=Raiffeisen<br>Date=2004<br>Cantons=%{x}<br>CHF mill=%{y}<extra></extra>",
           "legendgroup": "Raiffeisen",
           "marker": {
            "color": "#00cc96"
           },
           "name": "Raiffeisen",
           "offsetgroup": "Raiffeisen",
           "orientation": "v",
           "showlegend": true,
           "textposition": "auto",
           "type": "bar",
           "x": [
            "AG",
            "AI",
            "AR",
            "BE",
            "BL",
            "BS",
            "FR",
            "GE",
            "GL",
            "GR",
            "JU",
            "LU",
            "NE",
            "NW",
            "OW",
            "SG",
            "SH",
            "SO",
            "SZ",
            "TG",
            "TI",
            "UR",
            "VD",
            "VS",
            "ZG",
            "ZH"
           ],
           "xaxis": "x",
           "y": [
            9835,
            271,
            781,
            6340,
            2022,
            194,
            3836,
            1387,
            209,
            2777,
            1351,
            4397,
            867,
            868,
            511,
            11865,
            271,
            6454,
            1453,
            5328,
            4864,
            610,
            3175,
            5209,
            2146,
            2439
           ],
           "yaxis": "y"
          },
          {
           "alignmentgroup": "True",
           "hovertemplate": "Type of Bank=RegAndSavBanks<br>Date=2004<br>Cantons=%{x}<br>CHF mill=%{y}<extra></extra>",
           "legendgroup": "RegAndSavBanks",
           "marker": {
            "color": "#ab63fa"
           },
           "name": "RegAndSavBanks",
           "offsetgroup": "RegAndSavBanks",
           "orientation": "v",
           "showlegend": true,
           "textposition": "auto",
           "type": "bar",
           "x": [
            "AG",
            "AI",
            "AR",
            "BE",
            "BL",
            "BS",
            "FR",
            "GE",
            "GL",
            "GR",
            "JU",
            "LU",
            "NE",
            "NW",
            "OW",
            "SG",
            "SH",
            "SO",
            "SZ",
            "TG",
            "TI",
            "UR",
            "VD",
            "VS",
            "ZG",
            "ZH"
           ],
           "xaxis": "x",
           "y": [
            16950,
            16,
            251,
            16391,
            698,
            98,
            1370,
            32,
            302,
            183,
            568,
            4038,
            39,
            14,
            115,
            5170,
            1204,
            5961,
            1527,
            219,
            155,
            9,
            1073,
            153,
            59,
            7510
           ],
           "yaxis": "y"
          }
         ],
         "name": "2004"
        },
        {
         "data": [
          {
           "alignmentgroup": "True",
           "hovertemplate": "Type of Bank=BigBanks<br>Date=2005<br>Cantons=%{x}<br>CHF mill=%{y}<extra></extra>",
           "legendgroup": "BigBanks",
           "marker": {
            "color": "#636efa"
           },
           "name": "BigBanks",
           "offsetgroup": "BigBanks",
           "orientation": "v",
           "showlegend": true,
           "textposition": "auto",
           "type": "bar",
           "x": [
            "AG",
            "AI",
            "AR",
            "BE",
            "BL",
            "BS",
            "FR",
            "GE",
            "GL",
            "GR",
            "JU",
            "LU",
            "NE",
            "NW",
            "OW",
            "SG",
            "SH",
            "SO",
            "SZ",
            "TG",
            "TI",
            "UR",
            "VD",
            "VS",
            "ZG",
            "ZH"
           ],
           "xaxis": "x",
           "y": [
            12606,
            102,
            1669,
            27345,
            7733,
            4698,
            6178,
            16079,
            605,
            6665,
            1534,
            7110,
            4016,
            842,
            502,
            7562,
            1655,
            6607,
            3140,
            4672,
            12291,
            515,
            19892,
            8244,
            2879,
            48860
           ],
           "yaxis": "y"
          },
          {
           "alignmentgroup": "True",
           "hovertemplate": "Type of Bank=CantonalBanks<br>Date=2005<br>Cantons=%{x}<br>CHF mill=%{y}<extra></extra>",
           "legendgroup": "CantonalBanks",
           "marker": {
            "color": "#EF553B"
           },
           "name": "CantonalBanks",
           "offsetgroup": "CantonalBanks",
           "orientation": "v",
           "showlegend": true,
           "textposition": "auto",
           "type": "bar",
           "x": [
            "AG",
            "AI",
            "AR",
            "BE",
            "BL",
            "BS",
            "FR",
            "GE",
            "GL",
            "GR",
            "JU",
            "LU",
            "NE",
            "NW",
            "OW",
            "SG",
            "SH",
            "SO",
            "SZ",
            "TG",
            "TI",
            "UR",
            "VD",
            "VS",
            "ZG",
            "ZH"
           ],
           "xaxis": "x",
           "y": [
            13339,
            865,
            1168,
            12906,
            11795,
            5205,
            6164,
            6230,
            1816,
            9925,
            1234,
            11470,
            3443,
            1919,
            2099,
            12312,
            2763,
            2307,
            7947,
            11363,
            5408,
            1548,
            16185,
            5016,
            6675,
            49339
           ],
           "yaxis": "y"
          },
          {
           "alignmentgroup": "True",
           "hovertemplate": "Type of Bank=Raiffeisen<br>Date=2005<br>Cantons=%{x}<br>CHF mill=%{y}<extra></extra>",
           "legendgroup": "Raiffeisen",
           "marker": {
            "color": "#00cc96"
           },
           "name": "Raiffeisen",
           "offsetgroup": "Raiffeisen",
           "orientation": "v",
           "showlegend": true,
           "textposition": "auto",
           "type": "bar",
           "x": [
            "AG",
            "AI",
            "AR",
            "BE",
            "BL",
            "BS",
            "FR",
            "GE",
            "GL",
            "GR",
            "JU",
            "LU",
            "NE",
            "NW",
            "OW",
            "SG",
            "SH",
            "SO",
            "SZ",
            "TG",
            "TI",
            "UR",
            "VD",
            "VS",
            "ZG",
            "ZH"
           ],
           "xaxis": "x",
           "y": [
            10316,
            282,
            810,
            6952,
            2261,
            157,
            4274,
            1539,
            228,
            2918,
            1443,
            4677,
            911,
            890,
            522,
            11480,
            293,
            6708,
            1533,
            5612,
            5278,
            631,
            3480,
            5545,
            2314,
            2823
           ],
           "yaxis": "y"
          },
          {
           "alignmentgroup": "True",
           "hovertemplate": "Type of Bank=RegAndSavBanks<br>Date=2005<br>Cantons=%{x}<br>CHF mill=%{y}<extra></extra>",
           "legendgroup": "RegAndSavBanks",
           "marker": {
            "color": "#ab63fa"
           },
           "name": "RegAndSavBanks",
           "offsetgroup": "RegAndSavBanks",
           "orientation": "v",
           "showlegend": true,
           "textposition": "auto",
           "type": "bar",
           "x": [
            "AG",
            "AI",
            "AR",
            "BE",
            "BL",
            "BS",
            "FR",
            "GE",
            "GL",
            "GR",
            "JU",
            "LU",
            "NE",
            "NW",
            "OW",
            "SG",
            "SH",
            "SO",
            "SZ",
            "TG",
            "TI",
            "UR",
            "VD",
            "VS",
            "ZG",
            "ZH"
           ],
           "xaxis": "x",
           "y": [
            17437,
            17,
            276,
            16742,
            776,
            139,
            1410,
            37,
            325,
            213,
            613,
            4062,
            41,
            28,
            93,
            5282,
            1257,
            6056,
            1640,
            226,
            163,
            8,
            1018,
            162,
            80,
            7991
           ],
           "yaxis": "y"
          }
         ],
         "name": "2005"
        },
        {
         "data": [
          {
           "alignmentgroup": "True",
           "hovertemplate": "Type of Bank=BigBanks<br>Date=2006<br>Cantons=%{x}<br>CHF mill=%{y}<extra></extra>",
           "legendgroup": "BigBanks",
           "marker": {
            "color": "#636efa"
           },
           "name": "BigBanks",
           "offsetgroup": "BigBanks",
           "orientation": "v",
           "showlegend": true,
           "textposition": "auto",
           "type": "bar",
           "x": [
            "AG",
            "AI",
            "AR",
            "BE",
            "BL",
            "BS",
            "FR",
            "GE",
            "GL",
            "GR",
            "JU",
            "LU",
            "NE",
            "NW",
            "OW",
            "SG",
            "SH",
            "SO",
            "SZ",
            "TG",
            "TI",
            "UR",
            "VD",
            "VS",
            "ZG",
            "ZH"
           ],
           "xaxis": "x",
           "y": [
            13045,
            115,
            1670,
            27925,
            7963,
            4862,
            6481,
            17618,
            612,
            6832,
            1571,
            7241,
            4045,
            869,
            501,
            7724,
            1681,
            6693,
            3305,
            4738,
            12613,
            512,
            21606,
            8633,
            3029,
            50233
           ],
           "yaxis": "y"
          },
          {
           "alignmentgroup": "True",
           "hovertemplate": "Type of Bank=CantonalBanks<br>Date=2006<br>Cantons=%{x}<br>CHF mill=%{y}<extra></extra>",
           "legendgroup": "CantonalBanks",
           "marker": {
            "color": "#EF553B"
           },
           "name": "CantonalBanks",
           "offsetgroup": "CantonalBanks",
           "orientation": "v",
           "showlegend": true,
           "textposition": "auto",
           "type": "bar",
           "x": [
            "AG",
            "AI",
            "AR",
            "BE",
            "BL",
            "BS",
            "FR",
            "GE",
            "GL",
            "GR",
            "JU",
            "LU",
            "NE",
            "NW",
            "OW",
            "SG",
            "SH",
            "SO",
            "SZ",
            "TG",
            "TI",
            "UR",
            "VD",
            "VS",
            "ZG",
            "ZH"
           ],
           "xaxis": "x",
           "y": [
            13428,
            945,
            1189,
            13235,
            12063,
            5208,
            6360,
            6570,
            1810,
            10128,
            1253,
            11792,
            3730,
            2018,
            2069,
            12945,
            2824,
            2454,
            8095,
            11485,
            5469,
            1562,
            16925,
            5297,
            6787,
            51298
           ],
           "yaxis": "y"
          },
          {
           "alignmentgroup": "True",
           "hovertemplate": "Type of Bank=Raiffeisen<br>Date=2006<br>Cantons=%{x}<br>CHF mill=%{y}<extra></extra>",
           "legendgroup": "Raiffeisen",
           "marker": {
            "color": "#00cc96"
           },
           "name": "Raiffeisen",
           "offsetgroup": "Raiffeisen",
           "orientation": "v",
           "showlegend": true,
           "textposition": "auto",
           "type": "bar",
           "x": [
            "AG",
            "AI",
            "AR",
            "BE",
            "BL",
            "BS",
            "FR",
            "GE",
            "GL",
            "GR",
            "JU",
            "LU",
            "NE",
            "NW",
            "OW",
            "SG",
            "SH",
            "SO",
            "SZ",
            "TG",
            "TI",
            "UR",
            "VD",
            "VS",
            "ZG",
            "ZH"
           ],
           "xaxis": "x",
           "y": [
            10770,
            297,
            843,
            7316,
            2435,
            182,
            4501,
            1665,
            248,
            2987,
            1523,
            4946,
            949,
            922,
            547,
            11847,
            306,
            6879,
            1627,
            5841,
            5657,
            660,
            3799,
            5855,
            2480,
            3061
           ],
           "yaxis": "y"
          },
          {
           "alignmentgroup": "True",
           "hovertemplate": "Type of Bank=RegAndSavBanks<br>Date=2006<br>Cantons=%{x}<br>CHF mill=%{y}<extra></extra>",
           "legendgroup": "RegAndSavBanks",
           "marker": {
            "color": "#ab63fa"
           },
           "name": "RegAndSavBanks",
           "offsetgroup": "RegAndSavBanks",
           "orientation": "v",
           "showlegend": true,
           "textposition": "auto",
           "type": "bar",
           "x": [
            "AG",
            "AI",
            "AR",
            "BE",
            "BL",
            "BS",
            "FR",
            "GE",
            "GL",
            "GR",
            "JU",
            "LU",
            "NE",
            "NW",
            "OW",
            "SG",
            "SH",
            "SO",
            "SZ",
            "TG",
            "TI",
            "UR",
            "VD",
            "VS",
            "ZG",
            "ZH"
           ],
           "xaxis": "x",
           "y": [
            17628,
            17,
            284,
            17272,
            615,
            134,
            1456,
            33,
            362,
            222,
            657,
            4100,
            43,
            26,
            111,
            5407,
            1307,
            6315,
            1550,
            265,
            161,
            52,
            1062,
            172,
            117,
            8444
           ],
           "yaxis": "y"
          }
         ],
         "name": "2006"
        },
        {
         "data": [
          {
           "alignmentgroup": "True",
           "hovertemplate": "Type of Bank=BigBanks<br>Date=2007<br>Cantons=%{x}<br>CHF mill=%{y}<extra></extra>",
           "legendgroup": "BigBanks",
           "marker": {
            "color": "#636efa"
           },
           "name": "BigBanks",
           "offsetgroup": "BigBanks",
           "orientation": "v",
           "showlegend": true,
           "textposition": "auto",
           "type": "bar",
           "x": [
            "AG",
            "AI",
            "AR",
            "BE",
            "BL",
            "BS",
            "FR",
            "GE",
            "GL",
            "GR",
            "JU",
            "LU",
            "NE",
            "NW",
            "OW",
            "SG",
            "SH",
            "SO",
            "SZ",
            "TG",
            "TI",
            "UR",
            "VD",
            "VS",
            "ZG",
            "ZH"
           ],
           "xaxis": "x",
           "y": [
            13056,
            111,
            1642,
            27906,
            7953,
            4819,
            6539,
            18313,
            576,
            6944,
            1552,
            7260,
            4022,
            822,
            480,
            7754,
            1711,
            6539,
            3272,
            4714,
            12566,
            496,
            22460,
            8856,
            3119,
            52001
           ],
           "yaxis": "y"
          },
          {
           "alignmentgroup": "True",
           "hovertemplate": "Type of Bank=CantonalBanks<br>Date=2007<br>Cantons=%{x}<br>CHF mill=%{y}<extra></extra>",
           "legendgroup": "CantonalBanks",
           "marker": {
            "color": "#EF553B"
           },
           "name": "CantonalBanks",
           "offsetgroup": "CantonalBanks",
           "orientation": "v",
           "showlegend": true,
           "textposition": "auto",
           "type": "bar",
           "x": [
            "AG",
            "AI",
            "AR",
            "BE",
            "BL",
            "BS",
            "FR",
            "GE",
            "GL",
            "GR",
            "JU",
            "LU",
            "NE",
            "NW",
            "OW",
            "SG",
            "SH",
            "SO",
            "SZ",
            "TG",
            "TI",
            "UR",
            "VD",
            "VS",
            "ZG",
            "ZH"
           ],
           "xaxis": "x",
           "y": [
            13656,
            981,
            1287,
            13496,
            12450,
            5206,
            6756,
            6234,
            1793,
            10191,
            1291,
            12923,
            3981,
            2093,
            2025,
            12807,
            2874,
            2665,
            8380,
            11750,
            5358,
            1576,
            17289,
            5477,
            7216,
            52082
           ],
           "yaxis": "y"
          },
          {
           "alignmentgroup": "True",
           "hovertemplate": "Type of Bank=Raiffeisen<br>Date=2007<br>Cantons=%{x}<br>CHF mill=%{y}<extra></extra>",
           "legendgroup": "Raiffeisen",
           "marker": {
            "color": "#00cc96"
           },
           "name": "Raiffeisen",
           "offsetgroup": "Raiffeisen",
           "orientation": "v",
           "showlegend": true,
           "textposition": "auto",
           "type": "bar",
           "x": [
            "AG",
            "AI",
            "AR",
            "BE",
            "BL",
            "BS",
            "FR",
            "GE",
            "GL",
            "GR",
            "JU",
            "LU",
            "NE",
            "NW",
            "OW",
            "SG",
            "SH",
            "SO",
            "SZ",
            "TG",
            "TI",
            "UR",
            "VD",
            "VS",
            "ZG",
            "ZH"
           ],
           "xaxis": "x",
           "y": [
            11140,
            176,
            993,
            8798,
            2317,
            485,
            4639,
            1845,
            298,
            3290,
            1574,
            5254,
            980,
            857,
            586,
            11487,
            420,
            6410,
            1782,
            6010,
            6230,
            707,
            4424,
            6286,
            2121,
            5176
           ],
           "yaxis": "y"
          },
          {
           "alignmentgroup": "True",
           "hovertemplate": "Type of Bank=RegAndSavBanks<br>Date=2007<br>Cantons=%{x}<br>CHF mill=%{y}<extra></extra>",
           "legendgroup": "RegAndSavBanks",
           "marker": {
            "color": "#ab63fa"
           },
           "name": "RegAndSavBanks",
           "offsetgroup": "RegAndSavBanks",
           "orientation": "v",
           "showlegend": true,
           "textposition": "auto",
           "type": "bar",
           "x": [
            "AG",
            "AI",
            "AR",
            "BE",
            "BL",
            "BS",
            "FR",
            "GE",
            "GL",
            "GR",
            "JU",
            "LU",
            "NE",
            "NW",
            "OW",
            "SG",
            "SH",
            "SO",
            "SZ",
            "TG",
            "TI",
            "UR",
            "VD",
            "VS",
            "ZG",
            "ZH"
           ],
           "xaxis": "x",
           "y": [
            18186,
            17,
            291,
            17900,
            884,
            185,
            1555,
            117,
            278,
            234,
            688,
            4236,
            51,
            29,
            114,
            4016,
            1379,
            6187,
            1034,
            323,
            163,
            13,
            1138,
            193,
            154,
            8116
           ],
           "yaxis": "y"
          }
         ],
         "name": "2007"
        },
        {
         "data": [
          {
           "alignmentgroup": "True",
           "hovertemplate": "Type of Bank=BigBanks<br>Date=2008<br>Cantons=%{x}<br>CHF mill=%{y}<extra></extra>",
           "legendgroup": "BigBanks",
           "marker": {
            "color": "#636efa"
           },
           "name": "BigBanks",
           "offsetgroup": "BigBanks",
           "orientation": "v",
           "showlegend": true,
           "textposition": "auto",
           "type": "bar",
           "x": [
            "AG",
            "AI",
            "AR",
            "BE",
            "BL",
            "BS",
            "FR",
            "GE",
            "GL",
            "GR",
            "JU",
            "LU",
            "NE",
            "NW",
            "OW",
            "SG",
            "SH",
            "SO",
            "SZ",
            "TG",
            "TI",
            "UR",
            "VD",
            "VS",
            "ZG",
            "ZH"
           ],
           "xaxis": "x",
           "y": [
            13278,
            116,
            1597,
            28314,
            8174,
            4909,
            6570,
            19788,
            573,
            7042,
            1539,
            7299,
            3969,
            781,
            467,
            7715,
            1730,
            6433,
            3265,
            4822,
            12645,
            491,
            23144,
            8830,
            3310,
            51277
           ],
           "yaxis": "y"
          },
          {
           "alignmentgroup": "True",
           "hovertemplate": "Type of Bank=CantonalBanks<br>Date=2008<br>Cantons=%{x}<br>CHF mill=%{y}<extra></extra>",
           "legendgroup": "CantonalBanks",
           "marker": {
            "color": "#EF553B"
           },
           "name": "CantonalBanks",
           "offsetgroup": "CantonalBanks",
           "orientation": "v",
           "showlegend": true,
           "textposition": "auto",
           "type": "bar",
           "x": [
            "AG",
            "AI",
            "AR",
            "BE",
            "BL",
            "BS",
            "FR",
            "GE",
            "GL",
            "GR",
            "JU",
            "LU",
            "NE",
            "NW",
            "OW",
            "SG",
            "SH",
            "SO",
            "SZ",
            "TG",
            "TI",
            "UR",
            "VD",
            "VS",
            "ZG",
            "ZH"
           ],
           "xaxis": "x",
           "y": [
            14095,
            940,
            1163,
            13973,
            12589,
            5391,
            7194,
            6979,
            1787,
            10288,
            1324,
            13962,
            4343,
            2093,
            2065,
            13511,
            2787,
            2874,
            8736,
            12308,
            5517,
            1590,
            18041,
            5793,
            7182,
            53411
           ],
           "yaxis": "y"
          },
          {
           "alignmentgroup": "True",
           "hovertemplate": "Type of Bank=Raiffeisen<br>Date=2008<br>Cantons=%{x}<br>CHF mill=%{y}<extra></extra>",
           "legendgroup": "Raiffeisen",
           "marker": {
            "color": "#00cc96"
           },
           "name": "Raiffeisen",
           "offsetgroup": "Raiffeisen",
           "orientation": "v",
           "showlegend": true,
           "textposition": "auto",
           "type": "bar",
           "x": [
            "AG",
            "AI",
            "AR",
            "BE",
            "BL",
            "BS",
            "FR",
            "GE",
            "GL",
            "GR",
            "JU",
            "LU",
            "NE",
            "NW",
            "OW",
            "SG",
            "SH",
            "SO",
            "SZ",
            "TG",
            "TI",
            "UR",
            "VD",
            "VS",
            "ZG",
            "ZH"
           ],
           "xaxis": "x",
           "y": [
            11895,
            182,
            1066,
            9556,
            2512,
            557,
            5032,
            2075,
            328,
            3477,
            1638,
            5631,
            1057,
            913,
            611,
            11948,
            443,
            6629,
            1938,
            6379,
            6745,
            742,
            5043,
            6791,
            2218,
            6016
           ],
           "yaxis": "y"
          },
          {
           "alignmentgroup": "True",
           "hovertemplate": "Type of Bank=RegAndSavBanks<br>Date=2008<br>Cantons=%{x}<br>CHF mill=%{y}<extra></extra>",
           "legendgroup": "RegAndSavBanks",
           "marker": {
            "color": "#ab63fa"
           },
           "name": "RegAndSavBanks",
           "offsetgroup": "RegAndSavBanks",
           "orientation": "v",
           "showlegend": true,
           "textposition": "auto",
           "type": "bar",
           "x": [
            "AG",
            "AI",
            "AR",
            "BE",
            "BL",
            "BS",
            "FR",
            "GE",
            "GL",
            "GR",
            "JU",
            "LU",
            "NE",
            "NW",
            "OW",
            "SG",
            "SH",
            "SO",
            "SZ",
            "TG",
            "TI",
            "UR",
            "VD",
            "VS",
            "ZG",
            "ZH"
           ],
           "xaxis": "x",
           "y": [
            18570,
            19,
            300,
            18716,
            951,
            209,
            1562,
            182,
            300,
            239,
            733,
            4346,
            55,
            26,
            124,
            4201,
            1414,
            6299,
            1069,
            395,
            170,
            17,
            1265,
            190,
            241,
            8633
           ],
           "yaxis": "y"
          }
         ],
         "name": "2008"
        },
        {
         "data": [
          {
           "alignmentgroup": "True",
           "hovertemplate": "Type of Bank=BigBanks<br>Date=2009<br>Cantons=%{x}<br>CHF mill=%{y}<extra></extra>",
           "legendgroup": "BigBanks",
           "marker": {
            "color": "#636efa"
           },
           "name": "BigBanks",
           "offsetgroup": "BigBanks",
           "orientation": "v",
           "showlegend": true,
           "textposition": "auto",
           "type": "bar",
           "x": [
            "AG",
            "AI",
            "AR",
            "BE",
            "BL",
            "BS",
            "FR",
            "GE",
            "GL",
            "GR",
            "JU",
            "LU",
            "NE",
            "NW",
            "OW",
            "SG",
            "SH",
            "SO",
            "SZ",
            "TG",
            "TI",
            "UR",
            "VD",
            "VS",
            "ZG",
            "ZH"
           ],
           "xaxis": "x",
           "y": [
            12948,
            123,
            1582,
            27908,
            8097,
            4679,
            6554,
            19970,
            562,
            7258,
            1489,
            7184,
            3905,
            784,
            469,
            7611,
            1721,
            6397,
            3321,
            4784,
            12613,
            499,
            24251,
            9386,
            3469,
            53674
           ],
           "yaxis": "y"
          },
          {
           "alignmentgroup": "True",
           "hovertemplate": "Type of Bank=CantonalBanks<br>Date=2009<br>Cantons=%{x}<br>CHF mill=%{y}<extra></extra>",
           "legendgroup": "CantonalBanks",
           "marker": {
            "color": "#EF553B"
           },
           "name": "CantonalBanks",
           "offsetgroup": "CantonalBanks",
           "orientation": "v",
           "showlegend": true,
           "textposition": "auto",
           "type": "bar",
           "x": [
            "AG",
            "AI",
            "AR",
            "BE",
            "BL",
            "BS",
            "FR",
            "GE",
            "GL",
            "GR",
            "JU",
            "LU",
            "NE",
            "NW",
            "OW",
            "SG",
            "SH",
            "SO",
            "SZ",
            "TG",
            "TI",
            "UR",
            "VD",
            "VS",
            "ZG",
            "ZH"
           ],
           "xaxis": "x",
           "y": [
            14930,
            983,
            1264,
            14773,
            13152,
            6218,
            7768,
            7180,
            1793,
            10871,
            1395,
            14480,
            4772,
            2161,
            2196,
            14489,
            2944,
            3266,
            9100,
            12158,
            5968,
            1645,
            19767,
            6292,
            7683,
            58527
           ],
           "yaxis": "y"
          },
          {
           "alignmentgroup": "True",
           "hovertemplate": "Type of Bank=Raiffeisen<br>Date=2009<br>Cantons=%{x}<br>CHF mill=%{y}<extra></extra>",
           "legendgroup": "Raiffeisen",
           "marker": {
            "color": "#00cc96"
           },
           "name": "Raiffeisen",
           "offsetgroup": "Raiffeisen",
           "orientation": "v",
           "showlegend": true,
           "textposition": "auto",
           "type": "bar",
           "x": [
            "AG",
            "AI",
            "AR",
            "BE",
            "BL",
            "BS",
            "FR",
            "GE",
            "GL",
            "GR",
            "JU",
            "LU",
            "NE",
            "NW",
            "OW",
            "SG",
            "SH",
            "SO",
            "SZ",
            "TG",
            "TI",
            "UR",
            "VD",
            "VS",
            "ZG",
            "ZH"
           ],
           "xaxis": "x",
           "y": [
            12733,
            193,
            1190,
            10426,
            2753,
            665,
            5482,
            2419,
            361,
            3731,
            1762,
            6048,
            1172,
            946,
            649,
            12670,
            463,
            6922,
            2092,
            6863,
            7565,
            806,
            5769,
            7448,
            2405,
            7132
           ],
           "yaxis": "y"
          },
          {
           "alignmentgroup": "True",
           "hovertemplate": "Type of Bank=RegAndSavBanks<br>Date=2009<br>Cantons=%{x}<br>CHF mill=%{y}<extra></extra>",
           "legendgroup": "RegAndSavBanks",
           "marker": {
            "color": "#ab63fa"
           },
           "name": "RegAndSavBanks",
           "offsetgroup": "RegAndSavBanks",
           "orientation": "v",
           "showlegend": true,
           "textposition": "auto",
           "type": "bar",
           "x": [
            "AG",
            "AI",
            "AR",
            "BE",
            "BL",
            "BS",
            "FR",
            "GE",
            "GL",
            "GR",
            "JU",
            "LU",
            "NE",
            "NW",
            "OW",
            "SG",
            "SH",
            "SO",
            "SZ",
            "TG",
            "TI",
            "UR",
            "VD",
            "VS",
            "ZG",
            "ZH"
           ],
           "xaxis": "x",
           "y": [
            19268,
            38,
            305,
            19646,
            1021,
            199,
            1418,
            265,
            318,
            274,
            755,
            4568,
            84,
            44,
            124,
            4279,
            1449,
            6506,
            1201,
            451,
            201,
            17,
            1332,
            227,
            306,
            9454
           ],
           "yaxis": "y"
          }
         ],
         "name": "2009"
        },
        {
         "data": [
          {
           "alignmentgroup": "True",
           "hovertemplate": "Type of Bank=BigBanks<br>Date=2010<br>Cantons=%{x}<br>CHF mill=%{y}<extra></extra>",
           "legendgroup": "BigBanks",
           "marker": {
            "color": "#636efa"
           },
           "name": "BigBanks",
           "offsetgroup": "BigBanks",
           "orientation": "v",
           "showlegend": true,
           "textposition": "auto",
           "type": "bar",
           "x": [
            "AG",
            "AI",
            "AR",
            "BE",
            "BL",
            "BS",
            "FR",
            "GE",
            "GL",
            "GR",
            "JU",
            "LU",
            "NE",
            "NW",
            "OW",
            "SG",
            "SH",
            "SO",
            "SZ",
            "TG",
            "TI",
            "UR",
            "VD",
            "VS",
            "ZG",
            "ZH"
           ],
           "xaxis": "x",
           "y": [
            12950,
            122,
            1571,
            28013,
            8102,
            4729,
            6549,
            20876,
            538,
            7394,
            1470,
            7219,
            3935,
            776,
            450,
            7555,
            1748,
            6340,
            3366,
            4769,
            12658,
            501,
            24929,
            9714,
            3586,
            54134
           ],
           "yaxis": "y"
          },
          {
           "alignmentgroup": "True",
           "hovertemplate": "Type of Bank=CantonalBanks<br>Date=2010<br>Cantons=%{x}<br>CHF mill=%{y}<extra></extra>",
           "legendgroup": "CantonalBanks",
           "marker": {
            "color": "#EF553B"
           },
           "name": "CantonalBanks",
           "offsetgroup": "CantonalBanks",
           "orientation": "v",
           "showlegend": true,
           "textposition": "auto",
           "type": "bar",
           "x": [
            "AG",
            "AI",
            "AR",
            "BE",
            "BL",
            "BS",
            "FR",
            "GE",
            "GL",
            "GR",
            "JU",
            "LU",
            "NE",
            "NW",
            "OW",
            "SG",
            "SH",
            "SO",
            "SZ",
            "TG",
            "TI",
            "UR",
            "VD",
            "VS",
            "ZG",
            "ZH"
           ],
           "xaxis": "x",
           "y": [
            16144,
            1029,
            1342,
            15579,
            13639,
            6533,
            8447,
            7489,
            1860,
            11525,
            1474,
            15330,
            5156,
            2288,
            2352,
            15115,
            3056,
            3788,
            9650,
            12597,
            6255,
            1677,
            21458,
            6900,
            8232,
            61190
           ],
           "yaxis": "y"
          },
          {
           "alignmentgroup": "True",
           "hovertemplate": "Type of Bank=Raiffeisen<br>Date=2010<br>Cantons=%{x}<br>CHF mill=%{y}<extra></extra>",
           "legendgroup": "Raiffeisen",
           "marker": {
            "color": "#00cc96"
           },
           "name": "Raiffeisen",
           "offsetgroup": "Raiffeisen",
           "orientation": "v",
           "showlegend": true,
           "textposition": "auto",
           "type": "bar",
           "x": [
            "AG",
            "AI",
            "AR",
            "BE",
            "BL",
            "BS",
            "FR",
            "GE",
            "GL",
            "GR",
            "JU",
            "LU",
            "NE",
            "NW",
            "OW",
            "SG",
            "SH",
            "SO",
            "SZ",
            "TG",
            "TI",
            "UR",
            "VD",
            "VS",
            "ZG",
            "ZH"
           ],
           "xaxis": "x",
           "y": [
            13583,
            208,
            1299,
            11311,
            3012,
            740,
            5966,
            2656,
            385,
            3964,
            1890,
            6451,
            1303,
            1009,
            680,
            13374,
            491,
            7225,
            2251,
            7382,
            8280,
            846,
            6455,
            8219,
            2540,
            8063
           ],
           "yaxis": "y"
          },
          {
           "alignmentgroup": "True",
           "hovertemplate": "Type of Bank=RegAndSavBanks<br>Date=2010<br>Cantons=%{x}<br>CHF mill=%{y}<extra></extra>",
           "legendgroup": "RegAndSavBanks",
           "marker": {
            "color": "#ab63fa"
           },
           "name": "RegAndSavBanks",
           "offsetgroup": "RegAndSavBanks",
           "orientation": "v",
           "showlegend": true,
           "textposition": "auto",
           "type": "bar",
           "x": [
            "AG",
            "AI",
            "AR",
            "BE",
            "BL",
            "BS",
            "FR",
            "GE",
            "GL",
            "GR",
            "JU",
            "LU",
            "NE",
            "NW",
            "OW",
            "SG",
            "SH",
            "SO",
            "SZ",
            "TG",
            "TI",
            "UR",
            "VD",
            "VS",
            "ZG",
            "ZH"
           ],
           "xaxis": "x",
           "y": [
            20011,
            27,
            324,
            20614,
            1036,
            261,
            1469,
            307,
            347,
            326,
            787,
            4730,
            211,
            51,
            139,
            4555,
            1522,
            6908,
            1208,
            561,
            229,
            20,
            1552,
            238,
            247,
            9794
           ],
           "yaxis": "y"
          }
         ],
         "name": "2010"
        },
        {
         "data": [
          {
           "alignmentgroup": "True",
           "hovertemplate": "Type of Bank=BigBanks<br>Date=2011<br>Cantons=%{x}<br>CHF mill=%{y}<extra></extra>",
           "legendgroup": "BigBanks",
           "marker": {
            "color": "#636efa"
           },
           "name": "BigBanks",
           "offsetgroup": "BigBanks",
           "orientation": "v",
           "showlegend": true,
           "textposition": "auto",
           "type": "bar",
           "x": [
            "AG",
            "AI",
            "AR",
            "BE",
            "BL",
            "BS",
            "FR",
            "GE",
            "GL",
            "GR",
            "JU",
            "LU",
            "NE",
            "NW",
            "OW",
            "SG",
            "SH",
            "SO",
            "SZ",
            "TG",
            "TI",
            "UR",
            "VD",
            "VS",
            "ZG",
            "ZH"
           ],
           "xaxis": "x",
           "y": [
            13577,
            124,
            1566,
            29034,
            8602,
            4851,
            6791,
            22533,
            528,
            7773,
            1490,
            7571,
            3975,
            758,
            444,
            7641,
            1761,
            6544,
            3501,
            4898,
            12983,
            495,
            25881,
            9754,
            3752,
            53737
           ],
           "yaxis": "y"
          },
          {
           "alignmentgroup": "True",
           "hovertemplate": "Type of Bank=CantonalBanks<br>Date=2011<br>Cantons=%{x}<br>CHF mill=%{y}<extra></extra>",
           "legendgroup": "CantonalBanks",
           "marker": {
            "color": "#EF553B"
           },
           "name": "CantonalBanks",
           "offsetgroup": "CantonalBanks",
           "orientation": "v",
           "showlegend": true,
           "textposition": "auto",
           "type": "bar",
           "x": [
            "AG",
            "AI",
            "AR",
            "BE",
            "BL",
            "BS",
            "FR",
            "GE",
            "GL",
            "GR",
            "JU",
            "LU",
            "NE",
            "NW",
            "OW",
            "SG",
            "SH",
            "SO",
            "SZ",
            "TG",
            "TI",
            "UR",
            "VD",
            "VS",
            "ZG",
            "ZH"
           ],
           "xaxis": "x",
           "y": [
            16732,
            1083,
            1406,
            16366,
            14426,
            6704,
            9107,
            8254,
            1952,
            12218,
            1569,
            16156,
            5534,
            2359,
            2424,
            15724,
            3126,
            3610,
            10152,
            13011,
            6467,
            1737,
            23253,
            7587,
            8697,
            66063
           ],
           "yaxis": "y"
          },
          {
           "alignmentgroup": "True",
           "hovertemplate": "Type of Bank=Raiffeisen<br>Date=2011<br>Cantons=%{x}<br>CHF mill=%{y}<extra></extra>",
           "legendgroup": "Raiffeisen",
           "marker": {
            "color": "#00cc96"
           },
           "name": "Raiffeisen",
           "offsetgroup": "Raiffeisen",
           "orientation": "v",
           "showlegend": true,
           "textposition": "auto",
           "type": "bar",
           "x": [
            "AG",
            "AI",
            "AR",
            "BE",
            "BL",
            "BS",
            "FR",
            "GE",
            "GL",
            "GR",
            "JU",
            "LU",
            "NE",
            "NW",
            "OW",
            "SG",
            "SH",
            "SO",
            "SZ",
            "TG",
            "TI",
            "UR",
            "VD",
            "VS",
            "ZG",
            "ZH"
           ],
           "xaxis": "x",
           "y": [
            14348,
            219,
            1416,
            12133,
            3283,
            807,
            6447,
            2831,
            426,
            4166,
            2033,
            6927,
            1405,
            1044,
            690,
            14100,
            559,
            7562,
            2406,
            7948,
            9009,
            890,
            7047,
            8956,
            2705,
            9155
           ],
           "yaxis": "y"
          },
          {
           "alignmentgroup": "True",
           "hovertemplate": "Type of Bank=RegAndSavBanks<br>Date=2011<br>Cantons=%{x}<br>CHF mill=%{y}<extra></extra>",
           "legendgroup": "RegAndSavBanks",
           "marker": {
            "color": "#ab63fa"
           },
           "name": "RegAndSavBanks",
           "offsetgroup": "RegAndSavBanks",
           "orientation": "v",
           "showlegend": true,
           "textposition": "auto",
           "type": "bar",
           "x": [
            "AG",
            "AI",
            "AR",
            "BE",
            "BL",
            "BS",
            "FR",
            "GE",
            "GL",
            "GR",
            "JU",
            "LU",
            "NE",
            "NW",
            "OW",
            "SG",
            "SH",
            "SO",
            "SZ",
            "TG",
            "TI",
            "UR",
            "VD",
            "VS",
            "ZG",
            "ZH"
           ],
           "xaxis": "x",
           "y": [
            21204,
            99,
            282,
            21150,
            1127,
            378,
            1607,
            466,
            366,
            294,
            780,
            4772,
            169,
            56,
            139,
            4779,
            1608,
            7080,
            1245,
            577,
            232,
            20,
            1721,
            263,
            279,
            9757
           ],
           "yaxis": "y"
          }
         ],
         "name": "2011"
        },
        {
         "data": [
          {
           "alignmentgroup": "True",
           "hovertemplate": "Type of Bank=BigBanks<br>Date=2012<br>Cantons=%{x}<br>CHF mill=%{y}<extra></extra>",
           "legendgroup": "BigBanks",
           "marker": {
            "color": "#636efa"
           },
           "name": "BigBanks",
           "offsetgroup": "BigBanks",
           "orientation": "v",
           "showlegend": true,
           "textposition": "auto",
           "type": "bar",
           "x": [
            "AG",
            "AI",
            "AR",
            "BE",
            "BL",
            "BS",
            "FR",
            "GE",
            "GL",
            "GR",
            "JU",
            "LU",
            "NE",
            "NW",
            "OW",
            "SG",
            "SH",
            "SO",
            "SZ",
            "TG",
            "TI",
            "UR",
            "VD",
            "VS",
            "ZG",
            "ZH"
           ],
           "xaxis": "x",
           "y": [
            13973,
            122,
            1527,
            29755,
            8792,
            4936,
            6895,
            23759,
            527,
            8092,
            1557,
            7882,
            4033,
            763,
            452,
            7658,
            1755,
            6592,
            3695,
            4882,
            13369,
            497,
            27305,
            10112,
            4020,
            59184
           ],
           "yaxis": "y"
          },
          {
           "alignmentgroup": "True",
           "hovertemplate": "Type of Bank=CantonalBanks<br>Date=2012<br>Cantons=%{x}<br>CHF mill=%{y}<extra></extra>",
           "legendgroup": "CantonalBanks",
           "marker": {
            "color": "#EF553B"
           },
           "name": "CantonalBanks",
           "offsetgroup": "CantonalBanks",
           "orientation": "v",
           "showlegend": true,
           "textposition": "auto",
           "type": "bar",
           "x": [
            "AG",
            "AI",
            "AR",
            "BE",
            "BL",
            "BS",
            "FR",
            "GE",
            "GL",
            "GR",
            "JU",
            "LU",
            "NE",
            "NW",
            "OW",
            "SG",
            "SH",
            "SO",
            "SZ",
            "TG",
            "TI",
            "UR",
            "VD",
            "VS",
            "ZG",
            "ZH"
           ],
           "xaxis": "x",
           "y": [
            18045,
            1123,
            1499,
            17632,
            14924,
            6539,
            9881,
            8573,
            2040,
            13435,
            1686,
            17012,
            5951,
            2405,
            2537,
            17091,
            3283,
            3834,
            10467,
            13902,
            7038,
            1828,
            24686,
            8119,
            8595,
            67684
           ],
           "yaxis": "y"
          },
          {
           "alignmentgroup": "True",
           "hovertemplate": "Type of Bank=Raiffeisen<br>Date=2012<br>Cantons=%{x}<br>CHF mill=%{y}<extra></extra>",
           "legendgroup": "Raiffeisen",
           "marker": {
            "color": "#00cc96"
           },
           "name": "Raiffeisen",
           "offsetgroup": "Raiffeisen",
           "orientation": "v",
           "showlegend": true,
           "textposition": "auto",
           "type": "bar",
           "x": [
            "AG",
            "AI",
            "AR",
            "BE",
            "BL",
            "BS",
            "FR",
            "GE",
            "GL",
            "GR",
            "JU",
            "LU",
            "NE",
            "NW",
            "OW",
            "SG",
            "SH",
            "SO",
            "SZ",
            "TG",
            "TI",
            "UR",
            "VD",
            "VS",
            "ZG",
            "ZH"
           ],
           "xaxis": "x",
           "y": [
            14909,
            228,
            1541,
            12760,
            3478,
            897,
            6908,
            2996,
            456,
            4377,
            2124,
            7314,
            1493,
            1071,
            721,
            14744,
            613,
            7856,
            2507,
            8426,
            9520,
            940,
            7560,
            9537,
            2816,
            9794
           ],
           "yaxis": "y"
          },
          {
           "alignmentgroup": "True",
           "hovertemplate": "Type of Bank=RegAndSavBanks<br>Date=2012<br>Cantons=%{x}<br>CHF mill=%{y}<extra></extra>",
           "legendgroup": "RegAndSavBanks",
           "marker": {
            "color": "#ab63fa"
           },
           "name": "RegAndSavBanks",
           "offsetgroup": "RegAndSavBanks",
           "orientation": "v",
           "showlegend": true,
           "textposition": "auto",
           "type": "bar",
           "x": [
            "AG",
            "AI",
            "AR",
            "BE",
            "BL",
            "BS",
            "FR",
            "GE",
            "GL",
            "GR",
            "JU",
            "LU",
            "NE",
            "NW",
            "OW",
            "SG",
            "SH",
            "SO",
            "SZ",
            "TG",
            "TI",
            "UR",
            "VD",
            "VS",
            "ZG",
            "ZH"
           ],
           "xaxis": "x",
           "y": [
            21855,
            29,
            379,
            21912,
            1173,
            403,
            1677,
            480,
            383,
            331,
            734,
            4813,
            185,
            61,
            144,
            4988,
            1626,
            7224,
            1279,
            657,
            264,
            22,
            1836,
            298,
            280,
            10261
           ],
           "yaxis": "y"
          }
         ],
         "name": "2012"
        },
        {
         "data": [
          {
           "alignmentgroup": "True",
           "hovertemplate": "Type of Bank=BigBanks<br>Date=2013<br>Cantons=%{x}<br>CHF mill=%{y}<extra></extra>",
           "legendgroup": "BigBanks",
           "marker": {
            "color": "#636efa"
           },
           "name": "BigBanks",
           "offsetgroup": "BigBanks",
           "orientation": "v",
           "showlegend": true,
           "textposition": "auto",
           "type": "bar",
           "x": [
            "AG",
            "AI",
            "AR",
            "BE",
            "BL",
            "BS",
            "FR",
            "GE",
            "GL",
            "GR",
            "JU",
            "LU",
            "NE",
            "NW",
            "OW",
            "SG",
            "SH",
            "SO",
            "SZ",
            "TG",
            "TI",
            "UR",
            "VD",
            "VS",
            "ZG",
            "ZH"
           ],
           "xaxis": "x",
           "y": [
            14398,
            119,
            1495,
            30256,
            9027,
            4943,
            6963,
            25033,
            516,
            8407,
            1594,
            7906,
            4112,
            760,
            461,
            7736,
            1715,
            6688,
            3824,
            4914,
            13775,
            512,
            28632,
            10609,
            4163,
            59854
           ],
           "yaxis": "y"
          },
          {
           "alignmentgroup": "True",
           "hovertemplate": "Type of Bank=CantonalBanks<br>Date=2013<br>Cantons=%{x}<br>CHF mill=%{y}<extra></extra>",
           "legendgroup": "CantonalBanks",
           "marker": {
            "color": "#EF553B"
           },
           "name": "CantonalBanks",
           "offsetgroup": "CantonalBanks",
           "orientation": "v",
           "showlegend": true,
           "textposition": "auto",
           "type": "bar",
           "x": [
            "AG",
            "AI",
            "AR",
            "BE",
            "BL",
            "BS",
            "FR",
            "GE",
            "GL",
            "GR",
            "JU",
            "LU",
            "NE",
            "NW",
            "OW",
            "SG",
            "SH",
            "SO",
            "SZ",
            "TG",
            "TI",
            "UR",
            "VD",
            "VS",
            "ZG",
            "ZH"
           ],
           "xaxis": "x",
           "y": [
            18911,
            1173,
            1623,
            18459,
            15563,
            6852,
            10729,
            8930,
            2132,
            14074,
            1810,
            17843,
            6334,
            2523,
            2610,
            17789,
            3419,
            4043,
            10887,
            14530,
            7615,
            1896,
            25466,
            8501,
            8835,
            70904
           ],
           "yaxis": "y"
          },
          {
           "alignmentgroup": "True",
           "hovertemplate": "Type of Bank=Raiffeisen<br>Date=2013<br>Cantons=%{x}<br>CHF mill=%{y}<extra></extra>",
           "legendgroup": "Raiffeisen",
           "marker": {
            "color": "#00cc96"
           },
           "name": "Raiffeisen",
           "offsetgroup": "Raiffeisen",
           "orientation": "v",
           "showlegend": true,
           "textposition": "auto",
           "type": "bar",
           "x": [
            "AG",
            "AI",
            "AR",
            "BE",
            "BL",
            "BS",
            "FR",
            "GE",
            "GL",
            "GR",
            "JU",
            "LU",
            "NE",
            "NW",
            "OW",
            "SG",
            "SH",
            "SO",
            "SZ",
            "TG",
            "TI",
            "UR",
            "VD",
            "VS",
            "ZG",
            "ZH"
           ],
           "xaxis": "x",
           "y": [
            15483,
            243,
            1647,
            13449,
            3651,
            1007,
            7338,
            3396,
            481,
            4599,
            2227,
            7756,
            1568,
            1115,
            756,
            15347,
            667,
            8174,
            2645,
            8900,
            10121,
            996,
            8030,
            10128,
            2910,
            10626
           ],
           "yaxis": "y"
          },
          {
           "alignmentgroup": "True",
           "hovertemplate": "Type of Bank=RegAndSavBanks<br>Date=2013<br>Cantons=%{x}<br>CHF mill=%{y}<extra></extra>",
           "legendgroup": "RegAndSavBanks",
           "marker": {
            "color": "#ab63fa"
           },
           "name": "RegAndSavBanks",
           "offsetgroup": "RegAndSavBanks",
           "orientation": "v",
           "showlegend": true,
           "textposition": "auto",
           "type": "bar",
           "x": [
            "AG",
            "AI",
            "AR",
            "BE",
            "BL",
            "BS",
            "FR",
            "GE",
            "GL",
            "GR",
            "JU",
            "LU",
            "NE",
            "NW",
            "OW",
            "SG",
            "SH",
            "SO",
            "SZ",
            "TG",
            "TI",
            "UR",
            "VD",
            "VS",
            "ZG",
            "ZH"
           ],
           "xaxis": "x",
           "y": [
            22170,
            29,
            424,
            22543,
            1206,
            395,
            1753,
            479,
            409,
            376,
            699,
            4851,
            209,
            66,
            167,
            5236,
            1724,
            7412,
            1323,
            733,
            306,
            25,
            2007,
            314,
            288,
            10745
           ],
           "yaxis": "y"
          }
         ],
         "name": "2013"
        },
        {
         "data": [
          {
           "alignmentgroup": "True",
           "hovertemplate": "Type of Bank=BigBanks<br>Date=2014<br>Cantons=%{x}<br>CHF mill=%{y}<extra></extra>",
           "legendgroup": "BigBanks",
           "marker": {
            "color": "#636efa"
           },
           "name": "BigBanks",
           "offsetgroup": "BigBanks",
           "orientation": "v",
           "showlegend": true,
           "textposition": "auto",
           "type": "bar",
           "x": [
            "AG",
            "AI",
            "AR",
            "BE",
            "BL",
            "BS",
            "FR",
            "GE",
            "GL",
            "GR",
            "JU",
            "LU",
            "NE",
            "NW",
            "OW",
            "SG",
            "SH",
            "SO",
            "SZ",
            "TG",
            "TI",
            "UR",
            "VD",
            "VS",
            "ZG",
            "ZH"
           ],
           "xaxis": "x",
           "y": [
            14707,
            122,
            1470,
            30564,
            9185,
            4996,
            7150,
            25721,
            513,
            8540,
            1602,
            7890,
            4197,
            759,
            468,
            7768,
            1695,
            6753,
            3942,
            4898,
            14111,
            527,
            29309,
            10976,
            4507,
            61718
           ],
           "yaxis": "y"
          },
          {
           "alignmentgroup": "True",
           "hovertemplate": "Type of Bank=CantonalBanks<br>Date=2014<br>Cantons=%{x}<br>CHF mill=%{y}<extra></extra>",
           "legendgroup": "CantonalBanks",
           "marker": {
            "color": "#EF553B"
           },
           "name": "CantonalBanks",
           "offsetgroup": "CantonalBanks",
           "orientation": "v",
           "showlegend": true,
           "textposition": "auto",
           "type": "bar",
           "x": [
            "AG",
            "AI",
            "AR",
            "BE",
            "BL",
            "BS",
            "FR",
            "GE",
            "GL",
            "GR",
            "JU",
            "LU",
            "NE",
            "NW",
            "OW",
            "SG",
            "SH",
            "SO",
            "SZ",
            "TG",
            "TI",
            "UR",
            "VD",
            "VS",
            "ZG",
            "ZH"
           ],
           "xaxis": "x",
           "y": [
            19789,
            1208,
            1734,
            19089,
            15989,
            6804,
            11265,
            9316,
            2201,
            14574,
            1908,
            18788,
            6550,
            2632,
            2667,
            18371,
            3509,
            4308,
            11357,
            15016,
            8391,
            1943,
            26300,
            8849,
            9292,
            73580
           ],
           "yaxis": "y"
          },
          {
           "alignmentgroup": "True",
           "hovertemplate": "Type of Bank=Raiffeisen<br>Date=2014<br>Cantons=%{x}<br>CHF mill=%{y}<extra></extra>",
           "legendgroup": "Raiffeisen",
           "marker": {
            "color": "#00cc96"
           },
           "name": "Raiffeisen",
           "offsetgroup": "Raiffeisen",
           "orientation": "v",
           "showlegend": true,
           "textposition": "auto",
           "type": "bar",
           "x": [
            "AG",
            "AI",
            "AR",
            "BE",
            "BL",
            "BS",
            "FR",
            "GE",
            "GL",
            "GR",
            "JU",
            "LU",
            "NE",
            "NW",
            "OW",
            "SG",
            "SH",
            "SO",
            "SZ",
            "TG",
            "TI",
            "UR",
            "VD",
            "VS",
            "ZG",
            "ZH"
           ],
           "xaxis": "x",
           "y": [
            15984,
            258,
            1761,
            14105,
            3817,
            1056,
            7747,
            3660,
            502,
            4839,
            2333,
            8187,
            1685,
            1158,
            793,
            15856,
            743,
            8412,
            2780,
            9386,
            10567,
            1042,
            8545,
            10732,
            3018,
            11478
           ],
           "yaxis": "y"
          },
          {
           "alignmentgroup": "True",
           "hovertemplate": "Type of Bank=RegAndSavBanks<br>Date=2014<br>Cantons=%{x}<br>CHF mill=%{y}<extra></extra>",
           "legendgroup": "RegAndSavBanks",
           "marker": {
            "color": "#ab63fa"
           },
           "name": "RegAndSavBanks",
           "offsetgroup": "RegAndSavBanks",
           "orientation": "v",
           "showlegend": true,
           "textposition": "auto",
           "type": "bar",
           "x": [
            "AG",
            "AI",
            "AR",
            "BE",
            "BL",
            "BS",
            "FR",
            "GE",
            "GL",
            "GR",
            "JU",
            "LU",
            "NE",
            "NW",
            "OW",
            "SG",
            "SH",
            "SO",
            "SZ",
            "TG",
            "TI",
            "UR",
            "VD",
            "VS",
            "ZG",
            "ZH"
           ],
           "xaxis": "x",
           "y": [
            22817,
            31,
            427,
            23039,
            1217,
            401,
            1806,
            467,
            439,
            407,
            677,
            4960,
            240,
            68,
            169,
            5506,
            1760,
            7594,
            1357,
            778,
            328,
            26,
            2185,
            333,
            299,
            11268
           ],
           "yaxis": "y"
          }
         ],
         "name": "2014"
        },
        {
         "data": [
          {
           "alignmentgroup": "True",
           "hovertemplate": "Type of Bank=BigBanks<br>Date=2015<br>Cantons=%{x}<br>CHF mill=%{y}<extra></extra>",
           "legendgroup": "BigBanks",
           "marker": {
            "color": "#636efa"
           },
           "name": "BigBanks",
           "offsetgroup": "BigBanks",
           "orientation": "v",
           "showlegend": true,
           "textposition": "auto",
           "type": "bar",
           "x": [
            "AG",
            "AI",
            "AR",
            "BE",
            "BL",
            "BS",
            "FR",
            "GE",
            "GL",
            "GR",
            "JU",
            "LU",
            "NE",
            "NW",
            "OW",
            "SG",
            "SH",
            "SO",
            "SZ",
            "TG",
            "TI",
            "UR",
            "VD",
            "VS",
            "ZG",
            "ZH"
           ],
           "xaxis": "x",
           "y": [
            14454,
            126,
            1409,
            30665,
            9221,
            4967,
            7159,
            25930,
            508,
            8583,
            1624,
            7670,
            4227,
            719,
            460,
            7612,
            1637,
            6788,
            3860,
            4793,
            14289,
            549,
            29542,
            11148,
            4449,
            58881
           ],
           "yaxis": "y"
          },
          {
           "alignmentgroup": "True",
           "hovertemplate": "Type of Bank=CantonalBanks<br>Date=2015<br>Cantons=%{x}<br>CHF mill=%{y}<extra></extra>",
           "legendgroup": "CantonalBanks",
           "marker": {
            "color": "#EF553B"
           },
           "name": "CantonalBanks",
           "offsetgroup": "CantonalBanks",
           "orientation": "v",
           "showlegend": true,
           "textposition": "auto",
           "type": "bar",
           "x": [
            "AG",
            "AI",
            "AR",
            "BE",
            "BL",
            "BS",
            "FR",
            "GE",
            "GL",
            "GR",
            "JU",
            "LU",
            "NE",
            "NW",
            "OW",
            "SG",
            "SH",
            "SO",
            "SZ",
            "TG",
            "TI",
            "UR",
            "VD",
            "VS",
            "ZG",
            "ZH"
           ],
           "xaxis": "x",
           "y": [
            20825,
            1248,
            1893,
            19769,
            16291,
            6871,
            11877,
            9551,
            2291,
            15146,
            1992,
            20085,
            6809,
            2792,
            2769,
            19312,
            3572,
            4505,
            11984,
            15767,
            8835,
            2010,
            27052,
            9267,
            9521,
            76810
           ],
           "yaxis": "y"
          },
          {
           "alignmentgroup": "True",
           "hovertemplate": "Type of Bank=Raiffeisen<br>Date=2015<br>Cantons=%{x}<br>CHF mill=%{y}<extra></extra>",
           "legendgroup": "Raiffeisen",
           "marker": {
            "color": "#00cc96"
           },
           "name": "Raiffeisen",
           "offsetgroup": "Raiffeisen",
           "orientation": "v",
           "showlegend": true,
           "textposition": "auto",
           "type": "bar",
           "x": [
            "AG",
            "AI",
            "AR",
            "BE",
            "BL",
            "BS",
            "FR",
            "GE",
            "GL",
            "GR",
            "JU",
            "LU",
            "NE",
            "NW",
            "OW",
            "SG",
            "SH",
            "SO",
            "SZ",
            "TG",
            "TI",
            "UR",
            "VD",
            "VS",
            "ZG",
            "ZH"
           ],
           "xaxis": "x",
           "y": [
            16612,
            269,
            1879,
            14852,
            3988,
            1174,
            8141,
            3785,
            524,
            5063,
            2440,
            8663,
            1774,
            1191,
            836,
            16443,
            826,
            8714,
            2890,
            9939,
            11065,
            1096,
            9143,
            11353,
            3139,
            12311
           ],
           "yaxis": "y"
          },
          {
           "alignmentgroup": "True",
           "hovertemplate": "Type of Bank=RegAndSavBanks<br>Date=2015<br>Cantons=%{x}<br>CHF mill=%{y}<extra></extra>",
           "legendgroup": "RegAndSavBanks",
           "marker": {
            "color": "#ab63fa"
           },
           "name": "RegAndSavBanks",
           "offsetgroup": "RegAndSavBanks",
           "orientation": "v",
           "showlegend": true,
           "textposition": "auto",
           "type": "bar",
           "x": [
            "AG",
            "AI",
            "AR",
            "BE",
            "BL",
            "BS",
            "FR",
            "GE",
            "GL",
            "GR",
            "JU",
            "LU",
            "NE",
            "NW",
            "OW",
            "SG",
            "SH",
            "SO",
            "SZ",
            "TG",
            "TI",
            "UR",
            "VD",
            "VS",
            "ZG",
            "ZH"
           ],
           "xaxis": "x",
           "y": [
            23249,
            27,
            424,
            23752,
            1296,
            434,
            1857,
            462,
            451,
            423,
            664,
            5073,
            246,
            69,
            168,
            5413,
            1778,
            7675,
            1358,
            761,
            346,
            28,
            2338,
            359,
            308,
            11796
           ],
           "yaxis": "y"
          }
         ],
         "name": "2015"
        },
        {
         "data": [
          {
           "alignmentgroup": "True",
           "hovertemplate": "Type of Bank=BigBanks<br>Date=2016<br>Cantons=%{x}<br>CHF mill=%{y}<extra></extra>",
           "legendgroup": "BigBanks",
           "marker": {
            "color": "#636efa"
           },
           "name": "BigBanks",
           "offsetgroup": "BigBanks",
           "orientation": "v",
           "showlegend": true,
           "textposition": "auto",
           "type": "bar",
           "x": [
            "AG",
            "AI",
            "AR",
            "BE",
            "BL",
            "BS",
            "FR",
            "GE",
            "GL",
            "GR",
            "JU",
            "LU",
            "NE",
            "NW",
            "OW",
            "SG",
            "SH",
            "SO",
            "SZ",
            "TG",
            "TI",
            "UR",
            "VD",
            "VS",
            "ZG",
            "ZH"
           ],
           "xaxis": "x",
           "y": [
            14259,
            129,
            1384,
            30652,
            9209,
            4789,
            7122,
            25751,
            490,
            8494,
            1659,
            7478,
            4306,
            735,
            460,
            7328,
            1637,
            6720,
            3887,
            4736,
            14361,
            574,
            29555,
            11342,
            4326,
            59156
           ],
           "yaxis": "y"
          },
          {
           "alignmentgroup": "True",
           "hovertemplate": "Type of Bank=CantonalBanks<br>Date=2016<br>Cantons=%{x}<br>CHF mill=%{y}<extra></extra>",
           "legendgroup": "CantonalBanks",
           "marker": {
            "color": "#EF553B"
           },
           "name": "CantonalBanks",
           "offsetgroup": "CantonalBanks",
           "orientation": "v",
           "showlegend": true,
           "textposition": "auto",
           "type": "bar",
           "x": [
            "AG",
            "AI",
            "AR",
            "BE",
            "BL",
            "BS",
            "FR",
            "GE",
            "GL",
            "GR",
            "JU",
            "LU",
            "NE",
            "NW",
            "OW",
            "SG",
            "SH",
            "SO",
            "SZ",
            "TG",
            "TI",
            "UR",
            "VD",
            "VS",
            "ZG",
            "ZH"
           ],
           "xaxis": "x",
           "y": [
            22164,
            1302,
            2004,
            20438,
            16698,
            7347,
            12575,
            10131,
            2400,
            15449,
            2062,
            21105,
            7060,
            2810,
            2837,
            20168,
            3762,
            4740,
            12389,
            16370,
            9437,
            2115,
            27816,
            9741,
            9438,
            80577
           ],
           "yaxis": "y"
          },
          {
           "alignmentgroup": "True",
           "hovertemplate": "Type of Bank=Raiffeisen<br>Date=2016<br>Cantons=%{x}<br>CHF mill=%{y}<extra></extra>",
           "legendgroup": "Raiffeisen",
           "marker": {
            "color": "#00cc96"
           },
           "name": "Raiffeisen",
           "offsetgroup": "Raiffeisen",
           "orientation": "v",
           "showlegend": true,
           "textposition": "auto",
           "type": "bar",
           "x": [
            "AG",
            "AI",
            "AR",
            "BE",
            "BL",
            "BS",
            "FR",
            "GE",
            "GL",
            "GR",
            "JU",
            "LU",
            "NE",
            "NW",
            "OW",
            "SG",
            "SH",
            "SO",
            "SZ",
            "TG",
            "TI",
            "UR",
            "VD",
            "VS",
            "ZG",
            "ZH"
           ],
           "xaxis": "x",
           "y": [
            17246,
            286,
            1958,
            15518,
            4124,
            1260,
            8479,
            3892,
            546,
            5294,
            2547,
            9011,
            1869,
            1227,
            866,
            17005,
            869,
            8968,
            2998,
            10345,
            11734,
            1146,
            9594,
            11883,
            3222,
            12988
           ],
           "yaxis": "y"
          },
          {
           "alignmentgroup": "True",
           "hovertemplate": "Type of Bank=RegAndSavBanks<br>Date=2016<br>Cantons=%{x}<br>CHF mill=%{y}<extra></extra>",
           "legendgroup": "RegAndSavBanks",
           "marker": {
            "color": "#ab63fa"
           },
           "name": "RegAndSavBanks",
           "offsetgroup": "RegAndSavBanks",
           "orientation": "v",
           "showlegend": true,
           "textposition": "auto",
           "type": "bar",
           "x": [
            "AG",
            "AI",
            "AR",
            "BE",
            "BL",
            "BS",
            "FR",
            "GE",
            "GL",
            "GR",
            "JU",
            "LU",
            "NE",
            "NW",
            "OW",
            "SG",
            "SH",
            "SO",
            "SZ",
            "TG",
            "TI",
            "UR",
            "VD",
            "VS",
            "ZG",
            "ZH"
           ],
           "xaxis": "x",
           "y": [
            23451,
            28,
            448,
            24239,
            1319,
            408,
            1897,
            475,
            478,
            448,
            664,
            5111,
            261,
            72,
            169,
            5576,
            1800,
            7808,
            1382,
            806,
            360,
            29,
            2444,
            384,
            301,
            12117
           ],
           "yaxis": "y"
          }
         ],
         "name": "2016"
        },
        {
         "data": [
          {
           "alignmentgroup": "True",
           "hovertemplate": "Type of Bank=BigBanks<br>Date=2017<br>Cantons=%{x}<br>CHF mill=%{y}<extra></extra>",
           "legendgroup": "BigBanks",
           "marker": {
            "color": "#636efa"
           },
           "name": "BigBanks",
           "offsetgroup": "BigBanks",
           "orientation": "v",
           "showlegend": true,
           "textposition": "auto",
           "type": "bar",
           "x": [
            "AG",
            "AI",
            "AR",
            "BE",
            "BL",
            "BS",
            "FR",
            "GE",
            "GL",
            "GR",
            "JU",
            "LU",
            "NE",
            "NW",
            "OW",
            "SG",
            "SH",
            "SO",
            "SZ",
            "TG",
            "TI",
            "UR",
            "VD",
            "VS",
            "ZG",
            "ZH"
           ],
           "xaxis": "x",
           "y": [
            14259,
            126,
            1367,
            30603,
            9236,
            4882,
            7196,
            25362,
            501,
            8468,
            1661,
            7377,
            4339,
            739,
            471,
            7085,
            1532,
            6890,
            3774,
            4632,
            14324,
            564,
            30256,
            11487,
            4571,
            58744
           ],
           "yaxis": "y"
          },
          {
           "alignmentgroup": "True",
           "hovertemplate": "Type of Bank=CantonalBanks<br>Date=2017<br>Cantons=%{x}<br>CHF mill=%{y}<extra></extra>",
           "legendgroup": "CantonalBanks",
           "marker": {
            "color": "#EF553B"
           },
           "name": "CantonalBanks",
           "offsetgroup": "CantonalBanks",
           "orientation": "v",
           "showlegend": true,
           "textposition": "auto",
           "type": "bar",
           "x": [
            "AG",
            "AI",
            "AR",
            "BE",
            "BL",
            "BS",
            "FR",
            "GE",
            "GL",
            "GR",
            "JU",
            "LU",
            "NE",
            "NW",
            "OW",
            "SG",
            "SH",
            "SO",
            "SZ",
            "TG",
            "TI",
            "UR",
            "VD",
            "VS",
            "ZG",
            "ZH"
           ],
           "xaxis": "x",
           "y": [
            23531,
            1349,
            2135,
            21307,
            17263,
            7465,
            13182,
            10591,
            2391,
            15895,
            2149,
            21997,
            7298,
            2938,
            2909,
            20947,
            3849,
            5143,
            12607,
            16976,
            10072,
            2218,
            28542,
            10207,
            9646,
            83482
           ],
           "yaxis": "y"
          },
          {
           "alignmentgroup": "True",
           "hovertemplate": "Type of Bank=Raiffeisen<br>Date=2017<br>Cantons=%{x}<br>CHF mill=%{y}<extra></extra>",
           "legendgroup": "Raiffeisen",
           "marker": {
            "color": "#00cc96"
           },
           "name": "Raiffeisen",
           "offsetgroup": "Raiffeisen",
           "orientation": "v",
           "showlegend": true,
           "textposition": "auto",
           "type": "bar",
           "x": [
            "AG",
            "AI",
            "AR",
            "BE",
            "BL",
            "BS",
            "FR",
            "GE",
            "GL",
            "GR",
            "JU",
            "LU",
            "NE",
            "NW",
            "OW",
            "SG",
            "SH",
            "SO",
            "SZ",
            "TG",
            "TI",
            "UR",
            "VD",
            "VS",
            "ZG",
            "ZH"
           ],
           "xaxis": "x",
           "y": [
            17924,
            291,
            2025,
            16048,
            4390,
            1265,
            8811,
            3902,
            595,
            5489,
            2661,
            9273,
            1988,
            1286,
            981,
            17765,
            851,
            9203,
            3218,
            10675,
            12253,
            1195,
            10256,
            12483,
            3227,
            14002
           ],
           "yaxis": "y"
          },
          {
           "alignmentgroup": "True",
           "hovertemplate": "Type of Bank=RegAndSavBanks<br>Date=2017<br>Cantons=%{x}<br>CHF mill=%{y}<extra></extra>",
           "legendgroup": "RegAndSavBanks",
           "marker": {
            "color": "#ab63fa"
           },
           "name": "RegAndSavBanks",
           "offsetgroup": "RegAndSavBanks",
           "orientation": "v",
           "showlegend": true,
           "textposition": "auto",
           "type": "bar",
           "x": [
            "AG",
            "AI",
            "AR",
            "BE",
            "BL",
            "BS",
            "FR",
            "GE",
            "GL",
            "GR",
            "JU",
            "LU",
            "NE",
            "NW",
            "OW",
            "SG",
            "SH",
            "SO",
            "SZ",
            "TG",
            "TI",
            "UR",
            "VD",
            "VS",
            "ZG",
            "ZH"
           ],
           "xaxis": "x",
           "y": [
            23455,
            30,
            449,
            24823,
            1357,
            439,
            1934,
            521,
            496,
            467,
            667,
            5142,
            295,
            76,
            173,
            5681,
            1833,
            7891,
            1439,
            868,
            380,
            38,
            2638,
            416,
            295,
            12381
           ],
           "yaxis": "y"
          }
         ],
         "name": "2017"
        },
        {
         "data": [
          {
           "alignmentgroup": "True",
           "hovertemplate": "Type of Bank=BigBanks<br>Date=2018<br>Cantons=%{x}<br>CHF mill=%{y}<extra></extra>",
           "legendgroup": "BigBanks",
           "marker": {
            "color": "#636efa"
           },
           "name": "BigBanks",
           "offsetgroup": "BigBanks",
           "orientation": "v",
           "showlegend": true,
           "textposition": "auto",
           "type": "bar",
           "x": [
            "AG",
            "AI",
            "AR",
            "BE",
            "BL",
            "BS",
            "FR",
            "GE",
            "GL",
            "GR",
            "JU",
            "LU",
            "NE",
            "NW",
            "OW",
            "SG",
            "SH",
            "SO",
            "SZ",
            "TG",
            "TI",
            "UR",
            "VD",
            "VS",
            "ZG",
            "ZH"
           ],
           "xaxis": "x",
           "y": [
            14310,
            132,
            1325,
            30824,
            9330,
            5176,
            7337,
            26088,
            502,
            8622,
            1682,
            7556,
            4463,
            790,
            473,
            7213,
            1519,
            6815,
            4036,
            4584,
            14605,
            585,
            31257,
            11684,
            4733,
            61420
           ],
           "yaxis": "y"
          },
          {
           "alignmentgroup": "True",
           "hovertemplate": "Type of Bank=CantonalBanks<br>Date=2018<br>Cantons=%{x}<br>CHF mill=%{y}<extra></extra>",
           "legendgroup": "CantonalBanks",
           "marker": {
            "color": "#EF553B"
           },
           "name": "CantonalBanks",
           "offsetgroup": "CantonalBanks",
           "orientation": "v",
           "showlegend": true,
           "textposition": "auto",
           "type": "bar",
           "x": [
            "AG",
            "AI",
            "AR",
            "BE",
            "BL",
            "BS",
            "FR",
            "GE",
            "GL",
            "GR",
            "JU",
            "LU",
            "NE",
            "NW",
            "OW",
            "SG",
            "SH",
            "SO",
            "SZ",
            "TG",
            "TI",
            "UR",
            "VD",
            "VS",
            "ZG",
            "ZH"
           ],
           "xaxis": "x",
           "y": [
            24905,
            1408,
            2246,
            22429,
            17603,
            7834,
            13966,
            10899,
            2424,
            16334,
            2291,
            23070,
            7463,
            3036,
            3017,
            21555,
            3903,
            5409,
            12898,
            17483,
            10628,
            2314,
            29813,
            10642,
            9987,
            87149
           ],
           "yaxis": "y"
          },
          {
           "alignmentgroup": "True",
           "hovertemplate": "Type of Bank=Raiffeisen<br>Date=2018<br>Cantons=%{x}<br>CHF mill=%{y}<extra></extra>",
           "legendgroup": "Raiffeisen",
           "marker": {
            "color": "#00cc96"
           },
           "name": "Raiffeisen",
           "offsetgroup": "Raiffeisen",
           "orientation": "v",
           "showlegend": true,
           "textposition": "auto",
           "type": "bar",
           "x": [
            "AG",
            "AI",
            "AR",
            "BE",
            "BL",
            "BS",
            "FR",
            "GE",
            "GL",
            "GR",
            "JU",
            "LU",
            "NE",
            "NW",
            "OW",
            "SG",
            "SH",
            "SO",
            "SZ",
            "TG",
            "TI",
            "UR",
            "VD",
            "VS",
            "ZG",
            "ZH"
           ],
           "xaxis": "x",
           "y": [
            18576,
            307,
            2144,
            16718,
            4527,
            1389,
            9162,
            4236,
            635,
            5722,
            2767,
            9805,
            2044,
            1332,
            935,
            18643,
            1001,
            9419,
            3301,
            11150,
            12669,
            1231,
            10649,
            13062,
            3322,
            14798
           ],
           "yaxis": "y"
          },
          {
           "alignmentgroup": "True",
           "hovertemplate": "Type of Bank=RegAndSavBanks<br>Date=2018<br>Cantons=%{x}<br>CHF mill=%{y}<extra></extra>",
           "legendgroup": "RegAndSavBanks",
           "marker": {
            "color": "#ab63fa"
           },
           "name": "RegAndSavBanks",
           "offsetgroup": "RegAndSavBanks",
           "orientation": "v",
           "showlegend": true,
           "textposition": "auto",
           "type": "bar",
           "x": [
            "AG",
            "AI",
            "AR",
            "BE",
            "BL",
            "BS",
            "FR",
            "GE",
            "GL",
            "GR",
            "JU",
            "LU",
            "NE",
            "NW",
            "OW",
            "SG",
            "SH",
            "SO",
            "SZ",
            "TG",
            "TI",
            "UR",
            "VD",
            "VS",
            "ZG",
            "ZH"
           ],
           "xaxis": "x",
           "y": [
            23898,
            33,
            444,
            25564,
            1428,
            456,
            1988,
            564,
            522,
            482,
            675,
            5171,
            323,
            75,
            172,
            5844,
            1881,
            8065,
            1501,
            951,
            396,
            40,
            2805,
            428,
            301,
            12855
           ],
           "yaxis": "y"
          }
         ],
         "name": "2018"
        },
        {
         "data": [
          {
           "alignmentgroup": "True",
           "hovertemplate": "Type of Bank=BigBanks<br>Date=2019<br>Cantons=%{x}<br>CHF mill=%{y}<extra></extra>",
           "legendgroup": "BigBanks",
           "marker": {
            "color": "#636efa"
           },
           "name": "BigBanks",
           "offsetgroup": "BigBanks",
           "orientation": "v",
           "showlegend": true,
           "textposition": "auto",
           "type": "bar",
           "x": [
            "AG",
            "AI",
            "AR",
            "BE",
            "BL",
            "BS",
            "FR",
            "GE",
            "GL",
            "GR",
            "JU",
            "LU",
            "NE",
            "NW",
            "OW",
            "SG",
            "SH",
            "SO",
            "SZ",
            "TG",
            "TI",
            "UR",
            "VD",
            "VS",
            "ZG",
            "ZH"
           ],
           "xaxis": "x",
           "y": [
            14844,
            172,
            1290,
            30760,
            9560,
            5247,
            7567,
            26797,
            490,
            8711,
            1716,
            7696,
            4520,
            773,
            508,
            7208,
            1461,
            6895,
            4184,
            4563,
            14886,
            628,
            32625,
            12366,
            4855,
            60859
           ],
           "yaxis": "y"
          },
          {
           "alignmentgroup": "True",
           "hovertemplate": "Type of Bank=CantonalBanks<br>Date=2019<br>Cantons=%{x}<br>CHF mill=%{y}<extra></extra>",
           "legendgroup": "CantonalBanks",
           "marker": {
            "color": "#EF553B"
           },
           "name": "CantonalBanks",
           "offsetgroup": "CantonalBanks",
           "orientation": "v",
           "showlegend": true,
           "textposition": "auto",
           "type": "bar",
           "x": [
            "AG",
            "AI",
            "AR",
            "BE",
            "BL",
            "BS",
            "FR",
            "GE",
            "GL",
            "GR",
            "JU",
            "LU",
            "NE",
            "NW",
            "OW",
            "SG",
            "SH",
            "SO",
            "SZ",
            "TG",
            "TI",
            "UR",
            "VD",
            "VS",
            "ZG",
            "ZH"
           ],
           "xaxis": "x",
           "y": [
            25940,
            1450,
            2317,
            23373,
            18569,
            8208,
            14794,
            11470,
            2453,
            16678,
            2393,
            24086,
            7614,
            3106,
            3151,
            22708,
            3936,
            5774,
            13348,
            18155,
            11100,
            2314,
            31015,
            11075,
            10204,
            91126
           ],
           "yaxis": "y"
          },
          {
           "alignmentgroup": "True",
           "hovertemplate": "Type of Bank=Raiffeisen<br>Date=2019<br>Cantons=%{x}<br>CHF mill=%{y}<extra></extra>",
           "legendgroup": "Raiffeisen",
           "marker": {
            "color": "#00cc96"
           },
           "name": "Raiffeisen",
           "offsetgroup": "Raiffeisen",
           "orientation": "v",
           "showlegend": true,
           "textposition": "auto",
           "type": "bar",
           "x": [
            "AG",
            "AI",
            "AR",
            "BE",
            "BL",
            "BS",
            "FR",
            "GE",
            "GL",
            "GR",
            "JU",
            "LU",
            "NE",
            "NW",
            "OW",
            "SG",
            "SH",
            "SO",
            "SZ",
            "TG",
            "TI",
            "UR",
            "VD",
            "VS",
            "ZG",
            "ZH"
           ],
           "xaxis": "x",
           "y": [
            19031,
            318,
            2200,
            17087,
            4661,
            1454,
            9548,
            4341,
            654,
            5861,
            2841,
            10130,
            2128,
            1380,
            960,
            19193,
            1072,
            9643,
            3398,
            11588,
            13093,
            1265,
            10969,
            13666,
            3358,
            15436
           ],
           "yaxis": "y"
          },
          {
           "alignmentgroup": "True",
           "hovertemplate": "Type of Bank=RegAndSavBanks<br>Date=2019<br>Cantons=%{x}<br>CHF mill=%{y}<extra></extra>",
           "legendgroup": "RegAndSavBanks",
           "marker": {
            "color": "#ab63fa"
           },
           "name": "RegAndSavBanks",
           "offsetgroup": "RegAndSavBanks",
           "orientation": "v",
           "showlegend": true,
           "textposition": "auto",
           "type": "bar",
           "x": [
            "AG",
            "AI",
            "AR",
            "BE",
            "BL",
            "BS",
            "FR",
            "GE",
            "GL",
            "GR",
            "JU",
            "LU",
            "NE",
            "NW",
            "OW",
            "SG",
            "SH",
            "SO",
            "SZ",
            "TG",
            "TI",
            "UR",
            "VD",
            "VS",
            "ZG",
            "ZH"
           ],
           "xaxis": "x",
           "y": [
            24365,
            34,
            463,
            26340,
            1546,
            488,
            2069,
            649,
            540,
            516,
            682,
            5256,
            345,
            82,
            185,
            6112,
            1929,
            8186,
            1535,
            1001,
            443,
            48,
            2974,
            455,
            311,
            13379
           ],
           "yaxis": "y"
          }
         ],
         "name": "2019"
        }
       ],
       "layout": {
        "barmode": "relative",
        "legend": {
         "title": {
          "text": "Type of Bank"
         },
         "tracegroupgap": 0
        },
        "sliders": [
         {
          "active": 0,
          "currentvalue": {
           "prefix": "Date="
          },
          "len": 0.9,
          "pad": {
           "b": 10,
           "t": 60
          },
          "steps": [
           {
            "args": [
             [
              "2002"
             ],
             {
              "frame": {
               "duration": 0,
               "redraw": true
              },
              "fromcurrent": true,
              "mode": "immediate",
              "transition": {
               "duration": 0,
               "easing": "linear"
              }
             }
            ],
            "label": "2002",
            "method": "animate"
           },
           {
            "args": [
             [
              "2003"
             ],
             {
              "frame": {
               "duration": 0,
               "redraw": true
              },
              "fromcurrent": true,
              "mode": "immediate",
              "transition": {
               "duration": 0,
               "easing": "linear"
              }
             }
            ],
            "label": "2003",
            "method": "animate"
           },
           {
            "args": [
             [
              "2004"
             ],
             {
              "frame": {
               "duration": 0,
               "redraw": true
              },
              "fromcurrent": true,
              "mode": "immediate",
              "transition": {
               "duration": 0,
               "easing": "linear"
              }
             }
            ],
            "label": "2004",
            "method": "animate"
           },
           {
            "args": [
             [
              "2005"
             ],
             {
              "frame": {
               "duration": 0,
               "redraw": true
              },
              "fromcurrent": true,
              "mode": "immediate",
              "transition": {
               "duration": 0,
               "easing": "linear"
              }
             }
            ],
            "label": "2005",
            "method": "animate"
           },
           {
            "args": [
             [
              "2006"
             ],
             {
              "frame": {
               "duration": 0,
               "redraw": true
              },
              "fromcurrent": true,
              "mode": "immediate",
              "transition": {
               "duration": 0,
               "easing": "linear"
              }
             }
            ],
            "label": "2006",
            "method": "animate"
           },
           {
            "args": [
             [
              "2007"
             ],
             {
              "frame": {
               "duration": 0,
               "redraw": true
              },
              "fromcurrent": true,
              "mode": "immediate",
              "transition": {
               "duration": 0,
               "easing": "linear"
              }
             }
            ],
            "label": "2007",
            "method": "animate"
           },
           {
            "args": [
             [
              "2008"
             ],
             {
              "frame": {
               "duration": 0,
               "redraw": true
              },
              "fromcurrent": true,
              "mode": "immediate",
              "transition": {
               "duration": 0,
               "easing": "linear"
              }
             }
            ],
            "label": "2008",
            "method": "animate"
           },
           {
            "args": [
             [
              "2009"
             ],
             {
              "frame": {
               "duration": 0,
               "redraw": true
              },
              "fromcurrent": true,
              "mode": "immediate",
              "transition": {
               "duration": 0,
               "easing": "linear"
              }
             }
            ],
            "label": "2009",
            "method": "animate"
           },
           {
            "args": [
             [
              "2010"
             ],
             {
              "frame": {
               "duration": 0,
               "redraw": true
              },
              "fromcurrent": true,
              "mode": "immediate",
              "transition": {
               "duration": 0,
               "easing": "linear"
              }
             }
            ],
            "label": "2010",
            "method": "animate"
           },
           {
            "args": [
             [
              "2011"
             ],
             {
              "frame": {
               "duration": 0,
               "redraw": true
              },
              "fromcurrent": true,
              "mode": "immediate",
              "transition": {
               "duration": 0,
               "easing": "linear"
              }
             }
            ],
            "label": "2011",
            "method": "animate"
           },
           {
            "args": [
             [
              "2012"
             ],
             {
              "frame": {
               "duration": 0,
               "redraw": true
              },
              "fromcurrent": true,
              "mode": "immediate",
              "transition": {
               "duration": 0,
               "easing": "linear"
              }
             }
            ],
            "label": "2012",
            "method": "animate"
           },
           {
            "args": [
             [
              "2013"
             ],
             {
              "frame": {
               "duration": 0,
               "redraw": true
              },
              "fromcurrent": true,
              "mode": "immediate",
              "transition": {
               "duration": 0,
               "easing": "linear"
              }
             }
            ],
            "label": "2013",
            "method": "animate"
           },
           {
            "args": [
             [
              "2014"
             ],
             {
              "frame": {
               "duration": 0,
               "redraw": true
              },
              "fromcurrent": true,
              "mode": "immediate",
              "transition": {
               "duration": 0,
               "easing": "linear"
              }
             }
            ],
            "label": "2014",
            "method": "animate"
           },
           {
            "args": [
             [
              "2015"
             ],
             {
              "frame": {
               "duration": 0,
               "redraw": true
              },
              "fromcurrent": true,
              "mode": "immediate",
              "transition": {
               "duration": 0,
               "easing": "linear"
              }
             }
            ],
            "label": "2015",
            "method": "animate"
           },
           {
            "args": [
             [
              "2016"
             ],
             {
              "frame": {
               "duration": 0,
               "redraw": true
              },
              "fromcurrent": true,
              "mode": "immediate",
              "transition": {
               "duration": 0,
               "easing": "linear"
              }
             }
            ],
            "label": "2016",
            "method": "animate"
           },
           {
            "args": [
             [
              "2017"
             ],
             {
              "frame": {
               "duration": 0,
               "redraw": true
              },
              "fromcurrent": true,
              "mode": "immediate",
              "transition": {
               "duration": 0,
               "easing": "linear"
              }
             }
            ],
            "label": "2017",
            "method": "animate"
           },
           {
            "args": [
             [
              "2018"
             ],
             {
              "frame": {
               "duration": 0,
               "redraw": true
              },
              "fromcurrent": true,
              "mode": "immediate",
              "transition": {
               "duration": 0,
               "easing": "linear"
              }
             }
            ],
            "label": "2018",
            "method": "animate"
           },
           {
            "args": [
             [
              "2019"
             ],
             {
              "frame": {
               "duration": 0,
               "redraw": true
              },
              "fromcurrent": true,
              "mode": "immediate",
              "transition": {
               "duration": 0,
               "easing": "linear"
              }
             }
            ],
            "label": "2019",
            "method": "animate"
           }
          ],
          "x": 0.1,
          "xanchor": "left",
          "y": 0,
          "yanchor": "top"
         }
        ],
        "template": {
         "data": {
          "bar": [
           {
            "error_x": {
             "color": "#2a3f5f"
            },
            "error_y": {
             "color": "#2a3f5f"
            },
            "marker": {
             "line": {
              "color": "#E5ECF6",
              "width": 0.5
             }
            },
            "type": "bar"
           }
          ],
          "barpolar": [
           {
            "marker": {
             "line": {
              "color": "#E5ECF6",
              "width": 0.5
             }
            },
            "type": "barpolar"
           }
          ],
          "carpet": [
           {
            "aaxis": {
             "endlinecolor": "#2a3f5f",
             "gridcolor": "white",
             "linecolor": "white",
             "minorgridcolor": "white",
             "startlinecolor": "#2a3f5f"
            },
            "baxis": {
             "endlinecolor": "#2a3f5f",
             "gridcolor": "white",
             "linecolor": "white",
             "minorgridcolor": "white",
             "startlinecolor": "#2a3f5f"
            },
            "type": "carpet"
           }
          ],
          "choropleth": [
           {
            "colorbar": {
             "outlinewidth": 0,
             "ticks": ""
            },
            "type": "choropleth"
           }
          ],
          "contour": [
           {
            "colorbar": {
             "outlinewidth": 0,
             "ticks": ""
            },
            "colorscale": [
             [
              0,
              "#0d0887"
             ],
             [
              0.1111111111111111,
              "#46039f"
             ],
             [
              0.2222222222222222,
              "#7201a8"
             ],
             [
              0.3333333333333333,
              "#9c179e"
             ],
             [
              0.4444444444444444,
              "#bd3786"
             ],
             [
              0.5555555555555556,
              "#d8576b"
             ],
             [
              0.6666666666666666,
              "#ed7953"
             ],
             [
              0.7777777777777778,
              "#fb9f3a"
             ],
             [
              0.8888888888888888,
              "#fdca26"
             ],
             [
              1,
              "#f0f921"
             ]
            ],
            "type": "contour"
           }
          ],
          "contourcarpet": [
           {
            "colorbar": {
             "outlinewidth": 0,
             "ticks": ""
            },
            "type": "contourcarpet"
           }
          ],
          "heatmap": [
           {
            "colorbar": {
             "outlinewidth": 0,
             "ticks": ""
            },
            "colorscale": [
             [
              0,
              "#0d0887"
             ],
             [
              0.1111111111111111,
              "#46039f"
             ],
             [
              0.2222222222222222,
              "#7201a8"
             ],
             [
              0.3333333333333333,
              "#9c179e"
             ],
             [
              0.4444444444444444,
              "#bd3786"
             ],
             [
              0.5555555555555556,
              "#d8576b"
             ],
             [
              0.6666666666666666,
              "#ed7953"
             ],
             [
              0.7777777777777778,
              "#fb9f3a"
             ],
             [
              0.8888888888888888,
              "#fdca26"
             ],
             [
              1,
              "#f0f921"
             ]
            ],
            "type": "heatmap"
           }
          ],
          "heatmapgl": [
           {
            "colorbar": {
             "outlinewidth": 0,
             "ticks": ""
            },
            "colorscale": [
             [
              0,
              "#0d0887"
             ],
             [
              0.1111111111111111,
              "#46039f"
             ],
             [
              0.2222222222222222,
              "#7201a8"
             ],
             [
              0.3333333333333333,
              "#9c179e"
             ],
             [
              0.4444444444444444,
              "#bd3786"
             ],
             [
              0.5555555555555556,
              "#d8576b"
             ],
             [
              0.6666666666666666,
              "#ed7953"
             ],
             [
              0.7777777777777778,
              "#fb9f3a"
             ],
             [
              0.8888888888888888,
              "#fdca26"
             ],
             [
              1,
              "#f0f921"
             ]
            ],
            "type": "heatmapgl"
           }
          ],
          "histogram": [
           {
            "marker": {
             "colorbar": {
              "outlinewidth": 0,
              "ticks": ""
             }
            },
            "type": "histogram"
           }
          ],
          "histogram2d": [
           {
            "colorbar": {
             "outlinewidth": 0,
             "ticks": ""
            },
            "colorscale": [
             [
              0,
              "#0d0887"
             ],
             [
              0.1111111111111111,
              "#46039f"
             ],
             [
              0.2222222222222222,
              "#7201a8"
             ],
             [
              0.3333333333333333,
              "#9c179e"
             ],
             [
              0.4444444444444444,
              "#bd3786"
             ],
             [
              0.5555555555555556,
              "#d8576b"
             ],
             [
              0.6666666666666666,
              "#ed7953"
             ],
             [
              0.7777777777777778,
              "#fb9f3a"
             ],
             [
              0.8888888888888888,
              "#fdca26"
             ],
             [
              1,
              "#f0f921"
             ]
            ],
            "type": "histogram2d"
           }
          ],
          "histogram2dcontour": [
           {
            "colorbar": {
             "outlinewidth": 0,
             "ticks": ""
            },
            "colorscale": [
             [
              0,
              "#0d0887"
             ],
             [
              0.1111111111111111,
              "#46039f"
             ],
             [
              0.2222222222222222,
              "#7201a8"
             ],
             [
              0.3333333333333333,
              "#9c179e"
             ],
             [
              0.4444444444444444,
              "#bd3786"
             ],
             [
              0.5555555555555556,
              "#d8576b"
             ],
             [
              0.6666666666666666,
              "#ed7953"
             ],
             [
              0.7777777777777778,
              "#fb9f3a"
             ],
             [
              0.8888888888888888,
              "#fdca26"
             ],
             [
              1,
              "#f0f921"
             ]
            ],
            "type": "histogram2dcontour"
           }
          ],
          "mesh3d": [
           {
            "colorbar": {
             "outlinewidth": 0,
             "ticks": ""
            },
            "type": "mesh3d"
           }
          ],
          "parcoords": [
           {
            "line": {
             "colorbar": {
              "outlinewidth": 0,
              "ticks": ""
             }
            },
            "type": "parcoords"
           }
          ],
          "pie": [
           {
            "automargin": true,
            "type": "pie"
           }
          ],
          "scatter": [
           {
            "marker": {
             "colorbar": {
              "outlinewidth": 0,
              "ticks": ""
             }
            },
            "type": "scatter"
           }
          ],
          "scatter3d": [
           {
            "line": {
             "colorbar": {
              "outlinewidth": 0,
              "ticks": ""
             }
            },
            "marker": {
             "colorbar": {
              "outlinewidth": 0,
              "ticks": ""
             }
            },
            "type": "scatter3d"
           }
          ],
          "scattercarpet": [
           {
            "marker": {
             "colorbar": {
              "outlinewidth": 0,
              "ticks": ""
             }
            },
            "type": "scattercarpet"
           }
          ],
          "scattergeo": [
           {
            "marker": {
             "colorbar": {
              "outlinewidth": 0,
              "ticks": ""
             }
            },
            "type": "scattergeo"
           }
          ],
          "scattergl": [
           {
            "marker": {
             "colorbar": {
              "outlinewidth": 0,
              "ticks": ""
             }
            },
            "type": "scattergl"
           }
          ],
          "scattermapbox": [
           {
            "marker": {
             "colorbar": {
              "outlinewidth": 0,
              "ticks": ""
             }
            },
            "type": "scattermapbox"
           }
          ],
          "scatterpolar": [
           {
            "marker": {
             "colorbar": {
              "outlinewidth": 0,
              "ticks": ""
             }
            },
            "type": "scatterpolar"
           }
          ],
          "scatterpolargl": [
           {
            "marker": {
             "colorbar": {
              "outlinewidth": 0,
              "ticks": ""
             }
            },
            "type": "scatterpolargl"
           }
          ],
          "scatterternary": [
           {
            "marker": {
             "colorbar": {
              "outlinewidth": 0,
              "ticks": ""
             }
            },
            "type": "scatterternary"
           }
          ],
          "surface": [
           {
            "colorbar": {
             "outlinewidth": 0,
             "ticks": ""
            },
            "colorscale": [
             [
              0,
              "#0d0887"
             ],
             [
              0.1111111111111111,
              "#46039f"
             ],
             [
              0.2222222222222222,
              "#7201a8"
             ],
             [
              0.3333333333333333,
              "#9c179e"
             ],
             [
              0.4444444444444444,
              "#bd3786"
             ],
             [
              0.5555555555555556,
              "#d8576b"
             ],
             [
              0.6666666666666666,
              "#ed7953"
             ],
             [
              0.7777777777777778,
              "#fb9f3a"
             ],
             [
              0.8888888888888888,
              "#fdca26"
             ],
             [
              1,
              "#f0f921"
             ]
            ],
            "type": "surface"
           }
          ],
          "table": [
           {
            "cells": {
             "fill": {
              "color": "#EBF0F8"
             },
             "line": {
              "color": "white"
             }
            },
            "header": {
             "fill": {
              "color": "#C8D4E3"
             },
             "line": {
              "color": "white"
             }
            },
            "type": "table"
           }
          ]
         },
         "layout": {
          "annotationdefaults": {
           "arrowcolor": "#2a3f5f",
           "arrowhead": 0,
           "arrowwidth": 1
          },
          "coloraxis": {
           "colorbar": {
            "outlinewidth": 0,
            "ticks": ""
           }
          },
          "colorscale": {
           "diverging": [
            [
             0,
             "#8e0152"
            ],
            [
             0.1,
             "#c51b7d"
            ],
            [
             0.2,
             "#de77ae"
            ],
            [
             0.3,
             "#f1b6da"
            ],
            [
             0.4,
             "#fde0ef"
            ],
            [
             0.5,
             "#f7f7f7"
            ],
            [
             0.6,
             "#e6f5d0"
            ],
            [
             0.7,
             "#b8e186"
            ],
            [
             0.8,
             "#7fbc41"
            ],
            [
             0.9,
             "#4d9221"
            ],
            [
             1,
             "#276419"
            ]
           ],
           "sequential": [
            [
             0,
             "#0d0887"
            ],
            [
             0.1111111111111111,
             "#46039f"
            ],
            [
             0.2222222222222222,
             "#7201a8"
            ],
            [
             0.3333333333333333,
             "#9c179e"
            ],
            [
             0.4444444444444444,
             "#bd3786"
            ],
            [
             0.5555555555555556,
             "#d8576b"
            ],
            [
             0.6666666666666666,
             "#ed7953"
            ],
            [
             0.7777777777777778,
             "#fb9f3a"
            ],
            [
             0.8888888888888888,
             "#fdca26"
            ],
            [
             1,
             "#f0f921"
            ]
           ],
           "sequentialminus": [
            [
             0,
             "#0d0887"
            ],
            [
             0.1111111111111111,
             "#46039f"
            ],
            [
             0.2222222222222222,
             "#7201a8"
            ],
            [
             0.3333333333333333,
             "#9c179e"
            ],
            [
             0.4444444444444444,
             "#bd3786"
            ],
            [
             0.5555555555555556,
             "#d8576b"
            ],
            [
             0.6666666666666666,
             "#ed7953"
            ],
            [
             0.7777777777777778,
             "#fb9f3a"
            ],
            [
             0.8888888888888888,
             "#fdca26"
            ],
            [
             1,
             "#f0f921"
            ]
           ]
          },
          "colorway": [
           "#636efa",
           "#EF553B",
           "#00cc96",
           "#ab63fa",
           "#FFA15A",
           "#19d3f3",
           "#FF6692",
           "#B6E880",
           "#FF97FF",
           "#FECB52"
          ],
          "font": {
           "color": "#2a3f5f"
          },
          "geo": {
           "bgcolor": "white",
           "lakecolor": "white",
           "landcolor": "#E5ECF6",
           "showlakes": true,
           "showland": true,
           "subunitcolor": "white"
          },
          "hoverlabel": {
           "align": "left"
          },
          "hovermode": "closest",
          "mapbox": {
           "style": "light"
          },
          "paper_bgcolor": "white",
          "plot_bgcolor": "#E5ECF6",
          "polar": {
           "angularaxis": {
            "gridcolor": "white",
            "linecolor": "white",
            "ticks": ""
           },
           "bgcolor": "#E5ECF6",
           "radialaxis": {
            "gridcolor": "white",
            "linecolor": "white",
            "ticks": ""
           }
          },
          "scene": {
           "xaxis": {
            "backgroundcolor": "#E5ECF6",
            "gridcolor": "white",
            "gridwidth": 2,
            "linecolor": "white",
            "showbackground": true,
            "ticks": "",
            "zerolinecolor": "white"
           },
           "yaxis": {
            "backgroundcolor": "#E5ECF6",
            "gridcolor": "white",
            "gridwidth": 2,
            "linecolor": "white",
            "showbackground": true,
            "ticks": "",
            "zerolinecolor": "white"
           },
           "zaxis": {
            "backgroundcolor": "#E5ECF6",
            "gridcolor": "white",
            "gridwidth": 2,
            "linecolor": "white",
            "showbackground": true,
            "ticks": "",
            "zerolinecolor": "white"
           }
          },
          "shapedefaults": {
           "line": {
            "color": "#2a3f5f"
           }
          },
          "ternary": {
           "aaxis": {
            "gridcolor": "white",
            "linecolor": "white",
            "ticks": ""
           },
           "baxis": {
            "gridcolor": "white",
            "linecolor": "white",
            "ticks": ""
           },
           "bgcolor": "#E5ECF6",
           "caxis": {
            "gridcolor": "white",
            "linecolor": "white",
            "ticks": ""
           }
          },
          "title": {
           "x": 0.05
          },
          "xaxis": {
           "automargin": true,
           "gridcolor": "white",
           "linecolor": "white",
           "ticks": "",
           "title": {
            "standoff": 15
           },
           "zerolinecolor": "white",
           "zerolinewidth": 2
          },
          "yaxis": {
           "automargin": true,
           "gridcolor": "white",
           "linecolor": "white",
           "ticks": "",
           "title": {
            "standoff": 15
           },
           "zerolinecolor": "white",
           "zerolinewidth": 2
          }
         }
        },
        "title": {
         "text": "Mortgages per bank Switzerland"
        },
        "updatemenus": [
         {
          "buttons": [
           {
            "args": [
             null,
             {
              "frame": {
               "duration": 500,
               "redraw": true
              },
              "fromcurrent": true,
              "mode": "immediate",
              "transition": {
               "duration": 500,
               "easing": "linear"
              }
             }
            ],
            "label": "&#9654;",
            "method": "animate"
           },
           {
            "args": [
             [
              null
             ],
             {
              "frame": {
               "duration": 0,
               "redraw": true
              },
              "fromcurrent": true,
              "mode": "immediate",
              "transition": {
               "duration": 0,
               "easing": "linear"
              }
             }
            ],
            "label": "&#9724;",
            "method": "animate"
           }
          ],
          "direction": "left",
          "pad": {
           "r": 10,
           "t": 70
          },
          "showactive": false,
          "type": "buttons",
          "x": 0.1,
          "xanchor": "right",
          "y": 0,
          "yanchor": "top"
         }
        ],
        "xaxis": {
         "anchor": "y",
         "domain": [
          0,
          1
         ],
         "title": {
          "text": "Cantons"
         }
        },
        "yaxis": {
         "anchor": "x",
         "domain": [
          0,
          1
         ],
         "title": {
          "text": "CHF mill"
         }
        }
       }
      },
      "text/html": [
       "<div>                            <div id=\"fc29a266-2d98-4549-96aa-26225cf30ac8\" class=\"plotly-graph-div\" style=\"height:525px; width:100%;\"></div>            <script type=\"text/javascript\">                require([\"plotly\"], function(Plotly) {                    window.PLOTLYENV=window.PLOTLYENV || {};                                    if (document.getElementById(\"fc29a266-2d98-4549-96aa-26225cf30ac8\")) {                    Plotly.newPlot(                        \"fc29a266-2d98-4549-96aa-26225cf30ac8\",                        [{\"alignmentgroup\": \"True\", \"hovertemplate\": \"Type of Bank=BigBanks<br>Date=2002<br>Cantons=%{x}<br>CHF mill=%{y}<extra></extra>\", \"legendgroup\": \"BigBanks\", \"marker\": {\"color\": \"#636efa\"}, \"name\": \"BigBanks\", \"offsetgroup\": \"BigBanks\", \"orientation\": \"v\", \"showlegend\": true, \"textposition\": \"auto\", \"type\": \"bar\", \"x\": [\"AG\", \"AI\", \"AR\", \"BE\", \"BL\", \"BS\", \"FR\", \"GE\", \"GL\", \"GR\", \"JU\", \"LU\", \"NE\", \"NW\", \"OW\", \"SG\", \"SH\", \"SO\", \"SZ\", \"TG\", \"TI\", \"UR\", \"VD\", \"VS\", \"ZG\", \"ZH\"], \"xaxis\": \"x\", \"y\": [10901, 121, 1563, 23585, 6739, 5030, 4960, 13002, 607, 5048, 1343, 6524, 3495, 872, 487, 6848, 1478, 5823, 2693, 4180, 10229, 513, 14439, 6457, 2519, 42040], \"yaxis\": \"y\"}, {\"alignmentgroup\": \"True\", \"hovertemplate\": \"Type of Bank=CantonalBanks<br>Date=2002<br>Cantons=%{x}<br>CHF mill=%{y}<extra></extra>\", \"legendgroup\": \"CantonalBanks\", \"marker\": {\"color\": \"#EF553B\"}, \"name\": \"CantonalBanks\", \"offsetgroup\": \"CantonalBanks\", \"orientation\": \"v\", \"showlegend\": true, \"textposition\": \"auto\", \"type\": \"bar\", \"x\": [\"AG\", \"AI\", \"AR\", \"BE\", \"BL\", \"BS\", \"FR\", \"GE\", \"GL\", \"GR\", \"JU\", \"LU\", \"NE\", \"NW\", \"OW\", \"SG\", \"SH\", \"SO\", \"SZ\", \"TG\", \"TI\", \"UR\", \"VD\", \"VS\", \"ZG\", \"ZH\"], \"xaxis\": \"x\", \"y\": [10341, 782, 610, 11264, 10391, 4941, 5700, 6021, 1733, 9458, 1211, 11110, 3132, 1577, 1908, 11052, 2566, 1317, 6702, 10551, 4470, 1442, 15636, 4402, 6013, 47880], \"yaxis\": \"y\"}, {\"alignmentgroup\": \"True\", \"hovertemplate\": \"Type of Bank=Raiffeisen<br>Date=2002<br>Cantons=%{x}<br>CHF mill=%{y}<extra></extra>\", \"legendgroup\": \"Raiffeisen\", \"marker\": {\"color\": \"#00cc96\"}, \"name\": \"Raiffeisen\", \"offsetgroup\": \"Raiffeisen\", \"orientation\": \"v\", \"showlegend\": true, \"textposition\": \"auto\", \"type\": \"bar\", \"x\": [\"AG\", \"AI\", \"AR\", \"BE\", \"BL\", \"BS\", \"FR\", \"GE\", \"GL\", \"GR\", \"JU\", \"LU\", \"NE\", \"NW\", \"OW\", \"SG\", \"SH\", \"SO\", \"SZ\", \"TG\", \"TI\", \"UR\", \"VD\", \"VS\", \"ZG\", \"ZH\"], \"xaxis\": \"x\", \"y\": [8683, 244, 617, 5264, 1659, 83, 3293, 1003, 159, 2512, 1184, 3660, 746, 738, 447, 11104, 259, 5907, 1246, 4517, 4083, 541, 2574, 4630, 1818, 1585], \"yaxis\": \"y\"}, {\"alignmentgroup\": \"True\", \"hovertemplate\": \"Type of Bank=RegAndSavBanks<br>Date=2002<br>Cantons=%{x}<br>CHF mill=%{y}<extra></extra>\", \"legendgroup\": \"RegAndSavBanks\", \"marker\": {\"color\": \"#ab63fa\"}, \"name\": \"RegAndSavBanks\", \"offsetgroup\": \"RegAndSavBanks\", \"orientation\": \"v\", \"showlegend\": true, \"textposition\": \"auto\", \"type\": \"bar\", \"x\": [\"AG\", \"AI\", \"AR\", \"BE\", \"BL\", \"BS\", \"FR\", \"GE\", \"GL\", \"GR\", \"JU\", \"LU\", \"NE\", \"NW\", \"OW\", \"SG\", \"SH\", \"SO\", \"SZ\", \"TG\", \"TI\", \"UR\", \"VD\", \"VS\", \"ZG\", \"ZH\"], \"xaxis\": \"x\", \"y\": [16029, 12, 220, 15828, 590, 99, 1312, 30, 278, 101, 506, 3972, 18, 17, 90, 5350, 1177, 6034, 1345, 129, 134, 5, 1027, 130, 96, 6694], \"yaxis\": \"y\"}],                        {\"barmode\": \"relative\", \"legend\": {\"title\": {\"text\": \"Type of Bank\"}, \"tracegroupgap\": 0}, \"sliders\": [{\"active\": 0, \"currentvalue\": {\"prefix\": \"Date=\"}, \"len\": 0.9, \"pad\": {\"b\": 10, \"t\": 60}, \"steps\": [{\"args\": [[\"2002\"], {\"frame\": {\"duration\": 0, \"redraw\": true}, \"fromcurrent\": true, \"mode\": \"immediate\", \"transition\": {\"duration\": 0, \"easing\": \"linear\"}}], \"label\": \"2002\", \"method\": \"animate\"}, {\"args\": [[\"2003\"], {\"frame\": {\"duration\": 0, \"redraw\": true}, \"fromcurrent\": true, \"mode\": \"immediate\", \"transition\": {\"duration\": 0, \"easing\": \"linear\"}}], \"label\": \"2003\", \"method\": \"animate\"}, {\"args\": [[\"2004\"], {\"frame\": {\"duration\": 0, \"redraw\": true}, \"fromcurrent\": true, \"mode\": \"immediate\", \"transition\": {\"duration\": 0, \"easing\": \"linear\"}}], \"label\": \"2004\", \"method\": \"animate\"}, {\"args\": [[\"2005\"], {\"frame\": {\"duration\": 0, \"redraw\": true}, \"fromcurrent\": true, \"mode\": \"immediate\", \"transition\": {\"duration\": 0, \"easing\": \"linear\"}}], \"label\": \"2005\", \"method\": \"animate\"}, {\"args\": [[\"2006\"], {\"frame\": {\"duration\": 0, \"redraw\": true}, \"fromcurrent\": true, \"mode\": \"immediate\", \"transition\": {\"duration\": 0, \"easing\": \"linear\"}}], \"label\": \"2006\", \"method\": \"animate\"}, {\"args\": [[\"2007\"], {\"frame\": {\"duration\": 0, \"redraw\": true}, \"fromcurrent\": true, \"mode\": \"immediate\", \"transition\": {\"duration\": 0, \"easing\": \"linear\"}}], \"label\": \"2007\", \"method\": \"animate\"}, {\"args\": [[\"2008\"], {\"frame\": {\"duration\": 0, \"redraw\": true}, \"fromcurrent\": true, \"mode\": \"immediate\", \"transition\": {\"duration\": 0, \"easing\": \"linear\"}}], \"label\": \"2008\", \"method\": \"animate\"}, {\"args\": [[\"2009\"], {\"frame\": {\"duration\": 0, \"redraw\": true}, \"fromcurrent\": true, \"mode\": \"immediate\", \"transition\": {\"duration\": 0, \"easing\": \"linear\"}}], \"label\": \"2009\", \"method\": \"animate\"}, {\"args\": [[\"2010\"], {\"frame\": {\"duration\": 0, \"redraw\": true}, \"fromcurrent\": true, \"mode\": \"immediate\", \"transition\": {\"duration\": 0, \"easing\": \"linear\"}}], \"label\": \"2010\", \"method\": \"animate\"}, {\"args\": [[\"2011\"], {\"frame\": {\"duration\": 0, \"redraw\": true}, \"fromcurrent\": true, \"mode\": \"immediate\", \"transition\": {\"duration\": 0, \"easing\": \"linear\"}}], \"label\": \"2011\", \"method\": \"animate\"}, {\"args\": [[\"2012\"], {\"frame\": {\"duration\": 0, \"redraw\": true}, \"fromcurrent\": true, \"mode\": \"immediate\", \"transition\": {\"duration\": 0, \"easing\": \"linear\"}}], \"label\": \"2012\", \"method\": \"animate\"}, {\"args\": [[\"2013\"], {\"frame\": {\"duration\": 0, \"redraw\": true}, \"fromcurrent\": true, \"mode\": \"immediate\", \"transition\": {\"duration\": 0, \"easing\": \"linear\"}}], \"label\": \"2013\", \"method\": \"animate\"}, {\"args\": [[\"2014\"], {\"frame\": {\"duration\": 0, \"redraw\": true}, \"fromcurrent\": true, \"mode\": \"immediate\", \"transition\": {\"duration\": 0, \"easing\": \"linear\"}}], \"label\": \"2014\", \"method\": \"animate\"}, {\"args\": [[\"2015\"], {\"frame\": {\"duration\": 0, \"redraw\": true}, \"fromcurrent\": true, \"mode\": \"immediate\", \"transition\": {\"duration\": 0, \"easing\": \"linear\"}}], \"label\": \"2015\", \"method\": \"animate\"}, {\"args\": [[\"2016\"], {\"frame\": {\"duration\": 0, \"redraw\": true}, \"fromcurrent\": true, \"mode\": \"immediate\", \"transition\": {\"duration\": 0, \"easing\": \"linear\"}}], \"label\": \"2016\", \"method\": \"animate\"}, {\"args\": [[\"2017\"], {\"frame\": {\"duration\": 0, \"redraw\": true}, \"fromcurrent\": true, \"mode\": \"immediate\", \"transition\": {\"duration\": 0, \"easing\": \"linear\"}}], \"label\": \"2017\", \"method\": \"animate\"}, {\"args\": [[\"2018\"], {\"frame\": {\"duration\": 0, \"redraw\": true}, \"fromcurrent\": true, \"mode\": \"immediate\", \"transition\": {\"duration\": 0, \"easing\": \"linear\"}}], \"label\": \"2018\", \"method\": \"animate\"}, {\"args\": [[\"2019\"], {\"frame\": {\"duration\": 0, \"redraw\": true}, \"fromcurrent\": true, \"mode\": \"immediate\", \"transition\": {\"duration\": 0, \"easing\": \"linear\"}}], \"label\": \"2019\", \"method\": \"animate\"}], \"x\": 0.1, \"xanchor\": \"left\", \"y\": 0, \"yanchor\": \"top\"}], \"template\": {\"data\": {\"bar\": [{\"error_x\": {\"color\": \"#2a3f5f\"}, \"error_y\": {\"color\": \"#2a3f5f\"}, \"marker\": {\"line\": {\"color\": \"#E5ECF6\", \"width\": 0.5}}, \"type\": \"bar\"}], \"barpolar\": [{\"marker\": {\"line\": {\"color\": \"#E5ECF6\", \"width\": 0.5}}, \"type\": \"barpolar\"}], \"carpet\": [{\"aaxis\": {\"endlinecolor\": \"#2a3f5f\", \"gridcolor\": \"white\", \"linecolor\": \"white\", \"minorgridcolor\": \"white\", \"startlinecolor\": \"#2a3f5f\"}, \"baxis\": {\"endlinecolor\": \"#2a3f5f\", \"gridcolor\": \"white\", \"linecolor\": \"white\", \"minorgridcolor\": \"white\", \"startlinecolor\": \"#2a3f5f\"}, \"type\": \"carpet\"}], \"choropleth\": [{\"colorbar\": {\"outlinewidth\": 0, \"ticks\": \"\"}, \"type\": \"choropleth\"}], \"contour\": [{\"colorbar\": {\"outlinewidth\": 0, \"ticks\": \"\"}, \"colorscale\": [[0.0, \"#0d0887\"], [0.1111111111111111, \"#46039f\"], [0.2222222222222222, \"#7201a8\"], [0.3333333333333333, \"#9c179e\"], [0.4444444444444444, \"#bd3786\"], [0.5555555555555556, \"#d8576b\"], [0.6666666666666666, \"#ed7953\"], [0.7777777777777778, \"#fb9f3a\"], [0.8888888888888888, \"#fdca26\"], [1.0, \"#f0f921\"]], \"type\": \"contour\"}], \"contourcarpet\": [{\"colorbar\": {\"outlinewidth\": 0, \"ticks\": \"\"}, \"type\": \"contourcarpet\"}], \"heatmap\": [{\"colorbar\": {\"outlinewidth\": 0, \"ticks\": \"\"}, \"colorscale\": [[0.0, \"#0d0887\"], [0.1111111111111111, \"#46039f\"], [0.2222222222222222, \"#7201a8\"], [0.3333333333333333, \"#9c179e\"], [0.4444444444444444, \"#bd3786\"], [0.5555555555555556, \"#d8576b\"], [0.6666666666666666, \"#ed7953\"], [0.7777777777777778, \"#fb9f3a\"], [0.8888888888888888, \"#fdca26\"], [1.0, \"#f0f921\"]], \"type\": \"heatmap\"}], \"heatmapgl\": [{\"colorbar\": {\"outlinewidth\": 0, \"ticks\": \"\"}, \"colorscale\": [[0.0, \"#0d0887\"], [0.1111111111111111, \"#46039f\"], [0.2222222222222222, \"#7201a8\"], [0.3333333333333333, \"#9c179e\"], [0.4444444444444444, \"#bd3786\"], [0.5555555555555556, \"#d8576b\"], [0.6666666666666666, \"#ed7953\"], [0.7777777777777778, \"#fb9f3a\"], [0.8888888888888888, \"#fdca26\"], [1.0, \"#f0f921\"]], \"type\": \"heatmapgl\"}], \"histogram\": [{\"marker\": {\"colorbar\": {\"outlinewidth\": 0, \"ticks\": \"\"}}, \"type\": \"histogram\"}], \"histogram2d\": [{\"colorbar\": {\"outlinewidth\": 0, \"ticks\": \"\"}, \"colorscale\": [[0.0, \"#0d0887\"], [0.1111111111111111, \"#46039f\"], [0.2222222222222222, \"#7201a8\"], [0.3333333333333333, \"#9c179e\"], [0.4444444444444444, \"#bd3786\"], [0.5555555555555556, \"#d8576b\"], [0.6666666666666666, \"#ed7953\"], [0.7777777777777778, \"#fb9f3a\"], [0.8888888888888888, \"#fdca26\"], [1.0, \"#f0f921\"]], \"type\": \"histogram2d\"}], \"histogram2dcontour\": [{\"colorbar\": {\"outlinewidth\": 0, \"ticks\": \"\"}, \"colorscale\": [[0.0, \"#0d0887\"], [0.1111111111111111, \"#46039f\"], [0.2222222222222222, \"#7201a8\"], [0.3333333333333333, \"#9c179e\"], [0.4444444444444444, \"#bd3786\"], [0.5555555555555556, \"#d8576b\"], [0.6666666666666666, \"#ed7953\"], [0.7777777777777778, \"#fb9f3a\"], [0.8888888888888888, \"#fdca26\"], [1.0, \"#f0f921\"]], \"type\": \"histogram2dcontour\"}], \"mesh3d\": [{\"colorbar\": {\"outlinewidth\": 0, \"ticks\": \"\"}, \"type\": \"mesh3d\"}], \"parcoords\": [{\"line\": {\"colorbar\": {\"outlinewidth\": 0, \"ticks\": \"\"}}, \"type\": \"parcoords\"}], \"pie\": [{\"automargin\": true, \"type\": \"pie\"}], \"scatter\": [{\"marker\": {\"colorbar\": {\"outlinewidth\": 0, \"ticks\": \"\"}}, \"type\": \"scatter\"}], \"scatter3d\": [{\"line\": {\"colorbar\": {\"outlinewidth\": 0, \"ticks\": \"\"}}, \"marker\": {\"colorbar\": {\"outlinewidth\": 0, \"ticks\": \"\"}}, \"type\": \"scatter3d\"}], \"scattercarpet\": [{\"marker\": {\"colorbar\": {\"outlinewidth\": 0, \"ticks\": \"\"}}, \"type\": \"scattercarpet\"}], \"scattergeo\": [{\"marker\": {\"colorbar\": {\"outlinewidth\": 0, \"ticks\": \"\"}}, \"type\": \"scattergeo\"}], \"scattergl\": [{\"marker\": {\"colorbar\": {\"outlinewidth\": 0, \"ticks\": \"\"}}, \"type\": \"scattergl\"}], \"scattermapbox\": [{\"marker\": {\"colorbar\": {\"outlinewidth\": 0, \"ticks\": \"\"}}, \"type\": \"scattermapbox\"}], \"scatterpolar\": [{\"marker\": {\"colorbar\": {\"outlinewidth\": 0, \"ticks\": \"\"}}, \"type\": \"scatterpolar\"}], \"scatterpolargl\": [{\"marker\": {\"colorbar\": {\"outlinewidth\": 0, \"ticks\": \"\"}}, \"type\": \"scatterpolargl\"}], \"scatterternary\": [{\"marker\": {\"colorbar\": {\"outlinewidth\": 0, \"ticks\": \"\"}}, \"type\": \"scatterternary\"}], \"surface\": [{\"colorbar\": {\"outlinewidth\": 0, \"ticks\": \"\"}, \"colorscale\": [[0.0, \"#0d0887\"], [0.1111111111111111, \"#46039f\"], [0.2222222222222222, \"#7201a8\"], [0.3333333333333333, \"#9c179e\"], [0.4444444444444444, \"#bd3786\"], [0.5555555555555556, \"#d8576b\"], [0.6666666666666666, \"#ed7953\"], [0.7777777777777778, \"#fb9f3a\"], [0.8888888888888888, \"#fdca26\"], [1.0, \"#f0f921\"]], \"type\": \"surface\"}], \"table\": [{\"cells\": {\"fill\": {\"color\": \"#EBF0F8\"}, \"line\": {\"color\": \"white\"}}, \"header\": {\"fill\": {\"color\": \"#C8D4E3\"}, \"line\": {\"color\": \"white\"}}, \"type\": \"table\"}]}, \"layout\": {\"annotationdefaults\": {\"arrowcolor\": \"#2a3f5f\", \"arrowhead\": 0, \"arrowwidth\": 1}, \"coloraxis\": {\"colorbar\": {\"outlinewidth\": 0, \"ticks\": \"\"}}, \"colorscale\": {\"diverging\": [[0, \"#8e0152\"], [0.1, \"#c51b7d\"], [0.2, \"#de77ae\"], [0.3, \"#f1b6da\"], [0.4, \"#fde0ef\"], [0.5, \"#f7f7f7\"], [0.6, \"#e6f5d0\"], [0.7, \"#b8e186\"], [0.8, \"#7fbc41\"], [0.9, \"#4d9221\"], [1, \"#276419\"]], \"sequential\": [[0.0, \"#0d0887\"], [0.1111111111111111, \"#46039f\"], [0.2222222222222222, \"#7201a8\"], [0.3333333333333333, \"#9c179e\"], [0.4444444444444444, \"#bd3786\"], [0.5555555555555556, \"#d8576b\"], [0.6666666666666666, \"#ed7953\"], [0.7777777777777778, \"#fb9f3a\"], [0.8888888888888888, \"#fdca26\"], [1.0, \"#f0f921\"]], \"sequentialminus\": [[0.0, \"#0d0887\"], [0.1111111111111111, \"#46039f\"], [0.2222222222222222, \"#7201a8\"], [0.3333333333333333, \"#9c179e\"], [0.4444444444444444, \"#bd3786\"], [0.5555555555555556, \"#d8576b\"], [0.6666666666666666, \"#ed7953\"], [0.7777777777777778, \"#fb9f3a\"], [0.8888888888888888, \"#fdca26\"], [1.0, \"#f0f921\"]]}, \"colorway\": [\"#636efa\", \"#EF553B\", \"#00cc96\", \"#ab63fa\", \"#FFA15A\", \"#19d3f3\", \"#FF6692\", \"#B6E880\", \"#FF97FF\", \"#FECB52\"], \"font\": {\"color\": \"#2a3f5f\"}, \"geo\": {\"bgcolor\": \"white\", \"lakecolor\": \"white\", \"landcolor\": \"#E5ECF6\", \"showlakes\": true, \"showland\": true, \"subunitcolor\": \"white\"}, \"hoverlabel\": {\"align\": \"left\"}, \"hovermode\": \"closest\", \"mapbox\": {\"style\": \"light\"}, \"paper_bgcolor\": \"white\", \"plot_bgcolor\": \"#E5ECF6\", \"polar\": {\"angularaxis\": {\"gridcolor\": \"white\", \"linecolor\": \"white\", \"ticks\": \"\"}, \"bgcolor\": \"#E5ECF6\", \"radialaxis\": {\"gridcolor\": \"white\", \"linecolor\": \"white\", \"ticks\": \"\"}}, \"scene\": {\"xaxis\": {\"backgroundcolor\": \"#E5ECF6\", \"gridcolor\": \"white\", \"gridwidth\": 2, \"linecolor\": \"white\", \"showbackground\": true, \"ticks\": \"\", \"zerolinecolor\": \"white\"}, \"yaxis\": {\"backgroundcolor\": \"#E5ECF6\", \"gridcolor\": \"white\", \"gridwidth\": 2, \"linecolor\": \"white\", \"showbackground\": true, \"ticks\": \"\", \"zerolinecolor\": \"white\"}, \"zaxis\": {\"backgroundcolor\": \"#E5ECF6\", \"gridcolor\": \"white\", \"gridwidth\": 2, \"linecolor\": \"white\", \"showbackground\": true, \"ticks\": \"\", \"zerolinecolor\": \"white\"}}, \"shapedefaults\": {\"line\": {\"color\": \"#2a3f5f\"}}, \"ternary\": {\"aaxis\": {\"gridcolor\": \"white\", \"linecolor\": \"white\", \"ticks\": \"\"}, \"baxis\": {\"gridcolor\": \"white\", \"linecolor\": \"white\", \"ticks\": \"\"}, \"bgcolor\": \"#E5ECF6\", \"caxis\": {\"gridcolor\": \"white\", \"linecolor\": \"white\", \"ticks\": \"\"}}, \"title\": {\"x\": 0.05}, \"xaxis\": {\"automargin\": true, \"gridcolor\": \"white\", \"linecolor\": \"white\", \"ticks\": \"\", \"title\": {\"standoff\": 15}, \"zerolinecolor\": \"white\", \"zerolinewidth\": 2}, \"yaxis\": {\"automargin\": true, \"gridcolor\": \"white\", \"linecolor\": \"white\", \"ticks\": \"\", \"title\": {\"standoff\": 15}, \"zerolinecolor\": \"white\", \"zerolinewidth\": 2}}}, \"title\": {\"text\": \"Mortgages per bank Switzerland\"}, \"updatemenus\": [{\"buttons\": [{\"args\": [null, {\"frame\": {\"duration\": 500, \"redraw\": true}, \"fromcurrent\": true, \"mode\": \"immediate\", \"transition\": {\"duration\": 500, \"easing\": \"linear\"}}], \"label\": \"&#9654;\", \"method\": \"animate\"}, {\"args\": [[null], {\"frame\": {\"duration\": 0, \"redraw\": true}, \"fromcurrent\": true, \"mode\": \"immediate\", \"transition\": {\"duration\": 0, \"easing\": \"linear\"}}], \"label\": \"&#9724;\", \"method\": \"animate\"}], \"direction\": \"left\", \"pad\": {\"r\": 10, \"t\": 70}, \"showactive\": false, \"type\": \"buttons\", \"x\": 0.1, \"xanchor\": \"right\", \"y\": 0, \"yanchor\": \"top\"}], \"xaxis\": {\"anchor\": \"y\", \"domain\": [0.0, 1.0], \"title\": {\"text\": \"Cantons\"}}, \"yaxis\": {\"anchor\": \"x\", \"domain\": [0.0, 1.0], \"title\": {\"text\": \"CHF mill\"}}},                        {\"responsive\": true}                    ).then(function(){\n",
       "                            Plotly.addFrames('fc29a266-2d98-4549-96aa-26225cf30ac8', [{\"data\": [{\"alignmentgroup\": \"True\", \"hovertemplate\": \"Type of Bank=BigBanks<br>Date=2002<br>Cantons=%{x}<br>CHF mill=%{y}<extra></extra>\", \"legendgroup\": \"BigBanks\", \"marker\": {\"color\": \"#636efa\"}, \"name\": \"BigBanks\", \"offsetgroup\": \"BigBanks\", \"orientation\": \"v\", \"showlegend\": true, \"textposition\": \"auto\", \"x\": [\"AG\", \"AI\", \"AR\", \"BE\", \"BL\", \"BS\", \"FR\", \"GE\", \"GL\", \"GR\", \"JU\", \"LU\", \"NE\", \"NW\", \"OW\", \"SG\", \"SH\", \"SO\", \"SZ\", \"TG\", \"TI\", \"UR\", \"VD\", \"VS\", \"ZG\", \"ZH\"], \"xaxis\": \"x\", \"y\": [10901, 121, 1563, 23585, 6739, 5030, 4960, 13002, 607, 5048, 1343, 6524, 3495, 872, 487, 6848, 1478, 5823, 2693, 4180, 10229, 513, 14439, 6457, 2519, 42040], \"yaxis\": \"y\", \"type\": \"bar\"}, {\"alignmentgroup\": \"True\", \"hovertemplate\": \"Type of Bank=CantonalBanks<br>Date=2002<br>Cantons=%{x}<br>CHF mill=%{y}<extra></extra>\", \"legendgroup\": \"CantonalBanks\", \"marker\": {\"color\": \"#EF553B\"}, \"name\": \"CantonalBanks\", \"offsetgroup\": \"CantonalBanks\", \"orientation\": \"v\", \"showlegend\": true, \"textposition\": \"auto\", \"x\": [\"AG\", \"AI\", \"AR\", \"BE\", \"BL\", \"BS\", \"FR\", \"GE\", \"GL\", \"GR\", \"JU\", \"LU\", \"NE\", \"NW\", \"OW\", \"SG\", \"SH\", \"SO\", \"SZ\", \"TG\", \"TI\", \"UR\", \"VD\", \"VS\", \"ZG\", \"ZH\"], \"xaxis\": \"x\", \"y\": [10341, 782, 610, 11264, 10391, 4941, 5700, 6021, 1733, 9458, 1211, 11110, 3132, 1577, 1908, 11052, 2566, 1317, 6702, 10551, 4470, 1442, 15636, 4402, 6013, 47880], \"yaxis\": \"y\", \"type\": \"bar\"}, {\"alignmentgroup\": \"True\", \"hovertemplate\": \"Type of Bank=Raiffeisen<br>Date=2002<br>Cantons=%{x}<br>CHF mill=%{y}<extra></extra>\", \"legendgroup\": \"Raiffeisen\", \"marker\": {\"color\": \"#00cc96\"}, \"name\": \"Raiffeisen\", \"offsetgroup\": \"Raiffeisen\", \"orientation\": \"v\", \"showlegend\": true, \"textposition\": \"auto\", \"x\": [\"AG\", \"AI\", \"AR\", \"BE\", \"BL\", \"BS\", \"FR\", \"GE\", \"GL\", \"GR\", \"JU\", \"LU\", \"NE\", \"NW\", \"OW\", \"SG\", \"SH\", \"SO\", \"SZ\", \"TG\", \"TI\", \"UR\", \"VD\", \"VS\", \"ZG\", \"ZH\"], \"xaxis\": \"x\", \"y\": [8683, 244, 617, 5264, 1659, 83, 3293, 1003, 159, 2512, 1184, 3660, 746, 738, 447, 11104, 259, 5907, 1246, 4517, 4083, 541, 2574, 4630, 1818, 1585], \"yaxis\": \"y\", \"type\": \"bar\"}, {\"alignmentgroup\": \"True\", \"hovertemplate\": \"Type of Bank=RegAndSavBanks<br>Date=2002<br>Cantons=%{x}<br>CHF mill=%{y}<extra></extra>\", \"legendgroup\": \"RegAndSavBanks\", \"marker\": {\"color\": \"#ab63fa\"}, \"name\": \"RegAndSavBanks\", \"offsetgroup\": \"RegAndSavBanks\", \"orientation\": \"v\", \"showlegend\": true, \"textposition\": \"auto\", \"x\": [\"AG\", \"AI\", \"AR\", \"BE\", \"BL\", \"BS\", \"FR\", \"GE\", \"GL\", \"GR\", \"JU\", \"LU\", \"NE\", \"NW\", \"OW\", \"SG\", \"SH\", \"SO\", \"SZ\", \"TG\", \"TI\", \"UR\", \"VD\", \"VS\", \"ZG\", \"ZH\"], \"xaxis\": \"x\", \"y\": [16029, 12, 220, 15828, 590, 99, 1312, 30, 278, 101, 506, 3972, 18, 17, 90, 5350, 1177, 6034, 1345, 129, 134, 5, 1027, 130, 96, 6694], \"yaxis\": \"y\", \"type\": \"bar\"}], \"name\": \"2002\"}, {\"data\": [{\"alignmentgroup\": \"True\", \"hovertemplate\": \"Type of Bank=BigBanks<br>Date=2003<br>Cantons=%{x}<br>CHF mill=%{y}<extra></extra>\", \"legendgroup\": \"BigBanks\", \"marker\": {\"color\": \"#636efa\"}, \"name\": \"BigBanks\", \"offsetgroup\": \"BigBanks\", \"orientation\": \"v\", \"showlegend\": true, \"textposition\": \"auto\", \"x\": [\"AG\", \"AI\", \"AR\", \"BE\", \"BL\", \"BS\", \"FR\", \"GE\", \"GL\", \"GR\", \"JU\", \"LU\", \"NE\", \"NW\", \"OW\", \"SG\", \"SH\", \"SO\", \"SZ\", \"TG\", \"TI\", \"UR\", \"VD\", \"VS\", \"ZG\", \"ZH\"], \"xaxis\": \"x\", \"y\": [11337, 118, 1562, 24730, 7158, 5081, 5278, 13681, 604, 5220, 1399, 6607, 3731, 901, 502, 6953, 1518, 5967, 2841, 4210, 10424, 516, 15999, 6419, 2704, 44505], \"yaxis\": \"y\", \"type\": \"bar\"}, {\"alignmentgroup\": \"True\", \"hovertemplate\": \"Type of Bank=CantonalBanks<br>Date=2003<br>Cantons=%{x}<br>CHF mill=%{y}<extra></extra>\", \"legendgroup\": \"CantonalBanks\", \"marker\": {\"color\": \"#EF553B\"}, \"name\": \"CantonalBanks\", \"offsetgroup\": \"CantonalBanks\", \"orientation\": \"v\", \"showlegend\": true, \"textposition\": \"auto\", \"x\": [\"AG\", \"AI\", \"AR\", \"BE\", \"BL\", \"BS\", \"FR\", \"GE\", \"GL\", \"GR\", \"JU\", \"LU\", \"NE\", \"NW\", \"OW\", \"SG\", \"SH\", \"SO\", \"SZ\", \"TG\", \"TI\", \"UR\", \"VD\", \"VS\", \"ZG\", \"ZH\"], \"xaxis\": \"x\", \"y\": [11997, 809, 973, 12190, 10927, 5087, 5845, 6046, 1802, 9652, 1198, 11064, 3033, 1836, 2000, 11914, 2641, 1694, 7301, 10782, 4968, 1469, 15855, 4602, 6419, 45455], \"yaxis\": \"y\", \"type\": \"bar\"}, {\"alignmentgroup\": \"True\", \"hovertemplate\": \"Type of Bank=Raiffeisen<br>Date=2003<br>Cantons=%{x}<br>CHF mill=%{y}<extra></extra>\", \"legendgroup\": \"Raiffeisen\", \"marker\": {\"color\": \"#00cc96\"}, \"name\": \"Raiffeisen\", \"offsetgroup\": \"Raiffeisen\", \"orientation\": \"v\", \"showlegend\": true, \"textposition\": \"auto\", \"x\": [\"AG\", \"AI\", \"AR\", \"BE\", \"BL\", \"BS\", \"FR\", \"GE\", \"GL\", \"GR\", \"JU\", \"LU\", \"NE\", \"NW\", \"OW\", \"SG\", \"SH\", \"SO\", \"SZ\", \"TG\", \"TI\", \"UR\", \"VD\", \"VS\", \"ZG\", \"ZH\"], \"xaxis\": \"x\", \"y\": [9242, 256, 576, 5713, 1822, 134, 3549, 1183, 183, 2627, 1266, 4024, 799, 809, 485, 12120, 288, 6081, 1359, 4905, 4483, 579, 2877, 4898, 1980, 1905], \"yaxis\": \"y\", \"type\": \"bar\"}, {\"alignmentgroup\": \"True\", \"hovertemplate\": \"Type of Bank=RegAndSavBanks<br>Date=2003<br>Cantons=%{x}<br>CHF mill=%{y}<extra></extra>\", \"legendgroup\": \"RegAndSavBanks\", \"marker\": {\"color\": \"#ab63fa\"}, \"name\": \"RegAndSavBanks\", \"offsetgroup\": \"RegAndSavBanks\", \"orientation\": \"v\", \"showlegend\": true, \"textposition\": \"auto\", \"x\": [\"AG\", \"AI\", \"AR\", \"BE\", \"BL\", \"BS\", \"FR\", \"GE\", \"GL\", \"GR\", \"JU\", \"LU\", \"NE\", \"NW\", \"OW\", \"SG\", \"SH\", \"SO\", \"SZ\", \"TG\", \"TI\", \"UR\", \"VD\", \"VS\", \"ZG\", \"ZH\"], \"xaxis\": \"x\", \"y\": [16466, 15, 242, 15959, 702, 123, 1285, 27, 296, 156, 544, 4056, 28, 23, 89, 5090, 1215, 5962, 1414, 167, 145, 9, 1095, 134, 55, 7183], \"yaxis\": \"y\", \"type\": \"bar\"}], \"name\": \"2003\"}, {\"data\": [{\"alignmentgroup\": \"True\", \"hovertemplate\": \"Type of Bank=BigBanks<br>Date=2004<br>Cantons=%{x}<br>CHF mill=%{y}<extra></extra>\", \"legendgroup\": \"BigBanks\", \"marker\": {\"color\": \"#636efa\"}, \"name\": \"BigBanks\", \"offsetgroup\": \"BigBanks\", \"orientation\": \"v\", \"showlegend\": true, \"textposition\": \"auto\", \"x\": [\"AG\", \"AI\", \"AR\", \"BE\", \"BL\", \"BS\", \"FR\", \"GE\", \"GL\", \"GR\", \"JU\", \"LU\", \"NE\", \"NW\", \"OW\", \"SG\", \"SH\", \"SO\", \"SZ\", \"TG\", \"TI\", \"UR\", \"VD\", \"VS\", \"ZG\", \"ZH\"], \"xaxis\": \"x\", \"y\": [11656, 96, 1630, 25576, 7155, 4718, 5676, 14104, 611, 6261, 1458, 6694, 3802, 782, 464, 7206, 1536, 6335, 2807, 4410, 11528, 501, 17754, 7721, 2636, 45759], \"yaxis\": \"y\", \"type\": \"bar\"}, {\"alignmentgroup\": \"True\", \"hovertemplate\": \"Type of Bank=CantonalBanks<br>Date=2004<br>Cantons=%{x}<br>CHF mill=%{y}<extra></extra>\", \"legendgroup\": \"CantonalBanks\", \"marker\": {\"color\": \"#EF553B\"}, \"name\": \"CantonalBanks\", \"offsetgroup\": \"CantonalBanks\", \"orientation\": \"v\", \"showlegend\": true, \"textposition\": \"auto\", \"x\": [\"AG\", \"AI\", \"AR\", \"BE\", \"BL\", \"BS\", \"FR\", \"GE\", \"GL\", \"GR\", \"JU\", \"LU\", \"NE\", \"NW\", \"OW\", \"SG\", \"SH\", \"SO\", \"SZ\", \"TG\", \"TI\", \"UR\", \"VD\", \"VS\", \"ZG\", \"ZH\"], \"xaxis\": \"x\", \"y\": [12607, 832, 1019, 12490, 11280, 5237, 5956, 6022, 1840, 9591, 1204, 11764, 3114, 1810, 1992, 12360, 2657, 1996, 7587, 10938, 5080, 1497, 15810, 4757, 6761, 46999], \"yaxis\": \"y\", \"type\": \"bar\"}, {\"alignmentgroup\": \"True\", \"hovertemplate\": \"Type of Bank=Raiffeisen<br>Date=2004<br>Cantons=%{x}<br>CHF mill=%{y}<extra></extra>\", \"legendgroup\": \"Raiffeisen\", \"marker\": {\"color\": \"#00cc96\"}, \"name\": \"Raiffeisen\", \"offsetgroup\": \"Raiffeisen\", \"orientation\": \"v\", \"showlegend\": true, \"textposition\": \"auto\", \"x\": [\"AG\", \"AI\", \"AR\", \"BE\", \"BL\", \"BS\", \"FR\", \"GE\", \"GL\", \"GR\", \"JU\", \"LU\", \"NE\", \"NW\", \"OW\", \"SG\", \"SH\", \"SO\", \"SZ\", \"TG\", \"TI\", \"UR\", \"VD\", \"VS\", \"ZG\", \"ZH\"], \"xaxis\": \"x\", \"y\": [9835, 271, 781, 6340, 2022, 194, 3836, 1387, 209, 2777, 1351, 4397, 867, 868, 511, 11865, 271, 6454, 1453, 5328, 4864, 610, 3175, 5209, 2146, 2439], \"yaxis\": \"y\", \"type\": \"bar\"}, {\"alignmentgroup\": \"True\", \"hovertemplate\": \"Type of Bank=RegAndSavBanks<br>Date=2004<br>Cantons=%{x}<br>CHF mill=%{y}<extra></extra>\", \"legendgroup\": \"RegAndSavBanks\", \"marker\": {\"color\": \"#ab63fa\"}, \"name\": \"RegAndSavBanks\", \"offsetgroup\": \"RegAndSavBanks\", \"orientation\": \"v\", \"showlegend\": true, \"textposition\": \"auto\", \"x\": [\"AG\", \"AI\", \"AR\", \"BE\", \"BL\", \"BS\", \"FR\", \"GE\", \"GL\", \"GR\", \"JU\", \"LU\", \"NE\", \"NW\", \"OW\", \"SG\", \"SH\", \"SO\", \"SZ\", \"TG\", \"TI\", \"UR\", \"VD\", \"VS\", \"ZG\", \"ZH\"], \"xaxis\": \"x\", \"y\": [16950, 16, 251, 16391, 698, 98, 1370, 32, 302, 183, 568, 4038, 39, 14, 115, 5170, 1204, 5961, 1527, 219, 155, 9, 1073, 153, 59, 7510], \"yaxis\": \"y\", \"type\": \"bar\"}], \"name\": \"2004\"}, {\"data\": [{\"alignmentgroup\": \"True\", \"hovertemplate\": \"Type of Bank=BigBanks<br>Date=2005<br>Cantons=%{x}<br>CHF mill=%{y}<extra></extra>\", \"legendgroup\": \"BigBanks\", \"marker\": {\"color\": \"#636efa\"}, \"name\": \"BigBanks\", \"offsetgroup\": \"BigBanks\", \"orientation\": \"v\", \"showlegend\": true, \"textposition\": \"auto\", \"x\": [\"AG\", \"AI\", \"AR\", \"BE\", \"BL\", \"BS\", \"FR\", \"GE\", \"GL\", \"GR\", \"JU\", \"LU\", \"NE\", \"NW\", \"OW\", \"SG\", \"SH\", \"SO\", \"SZ\", \"TG\", \"TI\", \"UR\", \"VD\", \"VS\", \"ZG\", \"ZH\"], \"xaxis\": \"x\", \"y\": [12606, 102, 1669, 27345, 7733, 4698, 6178, 16079, 605, 6665, 1534, 7110, 4016, 842, 502, 7562, 1655, 6607, 3140, 4672, 12291, 515, 19892, 8244, 2879, 48860], \"yaxis\": \"y\", \"type\": \"bar\"}, {\"alignmentgroup\": \"True\", \"hovertemplate\": \"Type of Bank=CantonalBanks<br>Date=2005<br>Cantons=%{x}<br>CHF mill=%{y}<extra></extra>\", \"legendgroup\": \"CantonalBanks\", \"marker\": {\"color\": \"#EF553B\"}, \"name\": \"CantonalBanks\", \"offsetgroup\": \"CantonalBanks\", \"orientation\": \"v\", \"showlegend\": true, \"textposition\": \"auto\", \"x\": [\"AG\", \"AI\", \"AR\", \"BE\", \"BL\", \"BS\", \"FR\", \"GE\", \"GL\", \"GR\", \"JU\", \"LU\", \"NE\", \"NW\", \"OW\", \"SG\", \"SH\", \"SO\", \"SZ\", \"TG\", \"TI\", \"UR\", \"VD\", \"VS\", \"ZG\", \"ZH\"], \"xaxis\": \"x\", \"y\": [13339, 865, 1168, 12906, 11795, 5205, 6164, 6230, 1816, 9925, 1234, 11470, 3443, 1919, 2099, 12312, 2763, 2307, 7947, 11363, 5408, 1548, 16185, 5016, 6675, 49339], \"yaxis\": \"y\", \"type\": \"bar\"}, {\"alignmentgroup\": \"True\", \"hovertemplate\": \"Type of Bank=Raiffeisen<br>Date=2005<br>Cantons=%{x}<br>CHF mill=%{y}<extra></extra>\", \"legendgroup\": \"Raiffeisen\", \"marker\": {\"color\": \"#00cc96\"}, \"name\": \"Raiffeisen\", \"offsetgroup\": \"Raiffeisen\", \"orientation\": \"v\", \"showlegend\": true, \"textposition\": \"auto\", \"x\": [\"AG\", \"AI\", \"AR\", \"BE\", \"BL\", \"BS\", \"FR\", \"GE\", \"GL\", \"GR\", \"JU\", \"LU\", \"NE\", \"NW\", \"OW\", \"SG\", \"SH\", \"SO\", \"SZ\", \"TG\", \"TI\", \"UR\", \"VD\", \"VS\", \"ZG\", \"ZH\"], \"xaxis\": \"x\", \"y\": [10316, 282, 810, 6952, 2261, 157, 4274, 1539, 228, 2918, 1443, 4677, 911, 890, 522, 11480, 293, 6708, 1533, 5612, 5278, 631, 3480, 5545, 2314, 2823], \"yaxis\": \"y\", \"type\": \"bar\"}, {\"alignmentgroup\": \"True\", \"hovertemplate\": \"Type of Bank=RegAndSavBanks<br>Date=2005<br>Cantons=%{x}<br>CHF mill=%{y}<extra></extra>\", \"legendgroup\": \"RegAndSavBanks\", \"marker\": {\"color\": \"#ab63fa\"}, \"name\": \"RegAndSavBanks\", \"offsetgroup\": \"RegAndSavBanks\", \"orientation\": \"v\", \"showlegend\": true, \"textposition\": \"auto\", \"x\": [\"AG\", \"AI\", \"AR\", \"BE\", \"BL\", \"BS\", \"FR\", \"GE\", \"GL\", \"GR\", \"JU\", \"LU\", \"NE\", \"NW\", \"OW\", \"SG\", \"SH\", \"SO\", \"SZ\", \"TG\", \"TI\", \"UR\", \"VD\", \"VS\", \"ZG\", \"ZH\"], \"xaxis\": \"x\", \"y\": [17437, 17, 276, 16742, 776, 139, 1410, 37, 325, 213, 613, 4062, 41, 28, 93, 5282, 1257, 6056, 1640, 226, 163, 8, 1018, 162, 80, 7991], \"yaxis\": \"y\", \"type\": \"bar\"}], \"name\": \"2005\"}, {\"data\": [{\"alignmentgroup\": \"True\", \"hovertemplate\": \"Type of Bank=BigBanks<br>Date=2006<br>Cantons=%{x}<br>CHF mill=%{y}<extra></extra>\", \"legendgroup\": \"BigBanks\", \"marker\": {\"color\": \"#636efa\"}, \"name\": \"BigBanks\", \"offsetgroup\": \"BigBanks\", \"orientation\": \"v\", \"showlegend\": true, \"textposition\": \"auto\", \"x\": [\"AG\", \"AI\", \"AR\", \"BE\", \"BL\", \"BS\", \"FR\", \"GE\", \"GL\", \"GR\", \"JU\", \"LU\", \"NE\", \"NW\", \"OW\", \"SG\", \"SH\", \"SO\", \"SZ\", \"TG\", \"TI\", \"UR\", \"VD\", \"VS\", \"ZG\", \"ZH\"], \"xaxis\": \"x\", \"y\": [13045, 115, 1670, 27925, 7963, 4862, 6481, 17618, 612, 6832, 1571, 7241, 4045, 869, 501, 7724, 1681, 6693, 3305, 4738, 12613, 512, 21606, 8633, 3029, 50233], \"yaxis\": \"y\", \"type\": \"bar\"}, {\"alignmentgroup\": \"True\", \"hovertemplate\": \"Type of Bank=CantonalBanks<br>Date=2006<br>Cantons=%{x}<br>CHF mill=%{y}<extra></extra>\", \"legendgroup\": \"CantonalBanks\", \"marker\": {\"color\": \"#EF553B\"}, \"name\": \"CantonalBanks\", \"offsetgroup\": \"CantonalBanks\", \"orientation\": \"v\", \"showlegend\": true, \"textposition\": \"auto\", \"x\": [\"AG\", \"AI\", \"AR\", \"BE\", \"BL\", \"BS\", \"FR\", \"GE\", \"GL\", \"GR\", \"JU\", \"LU\", \"NE\", \"NW\", \"OW\", \"SG\", \"SH\", \"SO\", \"SZ\", \"TG\", \"TI\", \"UR\", \"VD\", \"VS\", \"ZG\", \"ZH\"], \"xaxis\": \"x\", \"y\": [13428, 945, 1189, 13235, 12063, 5208, 6360, 6570, 1810, 10128, 1253, 11792, 3730, 2018, 2069, 12945, 2824, 2454, 8095, 11485, 5469, 1562, 16925, 5297, 6787, 51298], \"yaxis\": \"y\", \"type\": \"bar\"}, {\"alignmentgroup\": \"True\", \"hovertemplate\": \"Type of Bank=Raiffeisen<br>Date=2006<br>Cantons=%{x}<br>CHF mill=%{y}<extra></extra>\", \"legendgroup\": \"Raiffeisen\", \"marker\": {\"color\": \"#00cc96\"}, \"name\": \"Raiffeisen\", \"offsetgroup\": \"Raiffeisen\", \"orientation\": \"v\", \"showlegend\": true, \"textposition\": \"auto\", \"x\": [\"AG\", \"AI\", \"AR\", \"BE\", \"BL\", \"BS\", \"FR\", \"GE\", \"GL\", \"GR\", \"JU\", \"LU\", \"NE\", \"NW\", \"OW\", \"SG\", \"SH\", \"SO\", \"SZ\", \"TG\", \"TI\", \"UR\", \"VD\", \"VS\", \"ZG\", \"ZH\"], \"xaxis\": \"x\", \"y\": [10770, 297, 843, 7316, 2435, 182, 4501, 1665, 248, 2987, 1523, 4946, 949, 922, 547, 11847, 306, 6879, 1627, 5841, 5657, 660, 3799, 5855, 2480, 3061], \"yaxis\": \"y\", \"type\": \"bar\"}, {\"alignmentgroup\": \"True\", \"hovertemplate\": \"Type of Bank=RegAndSavBanks<br>Date=2006<br>Cantons=%{x}<br>CHF mill=%{y}<extra></extra>\", \"legendgroup\": \"RegAndSavBanks\", \"marker\": {\"color\": \"#ab63fa\"}, \"name\": \"RegAndSavBanks\", \"offsetgroup\": \"RegAndSavBanks\", \"orientation\": \"v\", \"showlegend\": true, \"textposition\": \"auto\", \"x\": [\"AG\", \"AI\", \"AR\", \"BE\", \"BL\", \"BS\", \"FR\", \"GE\", \"GL\", \"GR\", \"JU\", \"LU\", \"NE\", \"NW\", \"OW\", \"SG\", \"SH\", \"SO\", \"SZ\", \"TG\", \"TI\", \"UR\", \"VD\", \"VS\", \"ZG\", \"ZH\"], \"xaxis\": \"x\", \"y\": [17628, 17, 284, 17272, 615, 134, 1456, 33, 362, 222, 657, 4100, 43, 26, 111, 5407, 1307, 6315, 1550, 265, 161, 52, 1062, 172, 117, 8444], \"yaxis\": \"y\", \"type\": \"bar\"}], \"name\": \"2006\"}, {\"data\": [{\"alignmentgroup\": \"True\", \"hovertemplate\": \"Type of Bank=BigBanks<br>Date=2007<br>Cantons=%{x}<br>CHF mill=%{y}<extra></extra>\", \"legendgroup\": \"BigBanks\", \"marker\": {\"color\": \"#636efa\"}, \"name\": \"BigBanks\", \"offsetgroup\": \"BigBanks\", \"orientation\": \"v\", \"showlegend\": true, \"textposition\": \"auto\", \"x\": [\"AG\", \"AI\", \"AR\", \"BE\", \"BL\", \"BS\", \"FR\", \"GE\", \"GL\", \"GR\", \"JU\", \"LU\", \"NE\", \"NW\", \"OW\", \"SG\", \"SH\", \"SO\", \"SZ\", \"TG\", \"TI\", \"UR\", \"VD\", \"VS\", \"ZG\", \"ZH\"], \"xaxis\": \"x\", \"y\": [13056, 111, 1642, 27906, 7953, 4819, 6539, 18313, 576, 6944, 1552, 7260, 4022, 822, 480, 7754, 1711, 6539, 3272, 4714, 12566, 496, 22460, 8856, 3119, 52001], \"yaxis\": \"y\", \"type\": \"bar\"}, {\"alignmentgroup\": \"True\", \"hovertemplate\": \"Type of Bank=CantonalBanks<br>Date=2007<br>Cantons=%{x}<br>CHF mill=%{y}<extra></extra>\", \"legendgroup\": \"CantonalBanks\", \"marker\": {\"color\": \"#EF553B\"}, \"name\": \"CantonalBanks\", \"offsetgroup\": \"CantonalBanks\", \"orientation\": \"v\", \"showlegend\": true, \"textposition\": \"auto\", \"x\": [\"AG\", \"AI\", \"AR\", \"BE\", \"BL\", \"BS\", \"FR\", \"GE\", \"GL\", \"GR\", \"JU\", \"LU\", \"NE\", \"NW\", \"OW\", \"SG\", \"SH\", \"SO\", \"SZ\", \"TG\", \"TI\", \"UR\", \"VD\", \"VS\", \"ZG\", \"ZH\"], \"xaxis\": \"x\", \"y\": [13656, 981, 1287, 13496, 12450, 5206, 6756, 6234, 1793, 10191, 1291, 12923, 3981, 2093, 2025, 12807, 2874, 2665, 8380, 11750, 5358, 1576, 17289, 5477, 7216, 52082], \"yaxis\": \"y\", \"type\": \"bar\"}, {\"alignmentgroup\": \"True\", \"hovertemplate\": \"Type of Bank=Raiffeisen<br>Date=2007<br>Cantons=%{x}<br>CHF mill=%{y}<extra></extra>\", \"legendgroup\": \"Raiffeisen\", \"marker\": {\"color\": \"#00cc96\"}, \"name\": \"Raiffeisen\", \"offsetgroup\": \"Raiffeisen\", \"orientation\": \"v\", \"showlegend\": true, \"textposition\": \"auto\", \"x\": [\"AG\", \"AI\", \"AR\", \"BE\", \"BL\", \"BS\", \"FR\", \"GE\", \"GL\", \"GR\", \"JU\", \"LU\", \"NE\", \"NW\", \"OW\", \"SG\", \"SH\", \"SO\", \"SZ\", \"TG\", \"TI\", \"UR\", \"VD\", \"VS\", \"ZG\", \"ZH\"], \"xaxis\": \"x\", \"y\": [11140, 176, 993, 8798, 2317, 485, 4639, 1845, 298, 3290, 1574, 5254, 980, 857, 586, 11487, 420, 6410, 1782, 6010, 6230, 707, 4424, 6286, 2121, 5176], \"yaxis\": \"y\", \"type\": \"bar\"}, {\"alignmentgroup\": \"True\", \"hovertemplate\": \"Type of Bank=RegAndSavBanks<br>Date=2007<br>Cantons=%{x}<br>CHF mill=%{y}<extra></extra>\", \"legendgroup\": \"RegAndSavBanks\", \"marker\": {\"color\": \"#ab63fa\"}, \"name\": \"RegAndSavBanks\", \"offsetgroup\": \"RegAndSavBanks\", \"orientation\": \"v\", \"showlegend\": true, \"textposition\": \"auto\", \"x\": [\"AG\", \"AI\", \"AR\", \"BE\", \"BL\", \"BS\", \"FR\", \"GE\", \"GL\", \"GR\", \"JU\", \"LU\", \"NE\", \"NW\", \"OW\", \"SG\", \"SH\", \"SO\", \"SZ\", \"TG\", \"TI\", \"UR\", \"VD\", \"VS\", \"ZG\", \"ZH\"], \"xaxis\": \"x\", \"y\": [18186, 17, 291, 17900, 884, 185, 1555, 117, 278, 234, 688, 4236, 51, 29, 114, 4016, 1379, 6187, 1034, 323, 163, 13, 1138, 193, 154, 8116], \"yaxis\": \"y\", \"type\": \"bar\"}], \"name\": \"2007\"}, {\"data\": [{\"alignmentgroup\": \"True\", \"hovertemplate\": \"Type of Bank=BigBanks<br>Date=2008<br>Cantons=%{x}<br>CHF mill=%{y}<extra></extra>\", \"legendgroup\": \"BigBanks\", \"marker\": {\"color\": \"#636efa\"}, \"name\": \"BigBanks\", \"offsetgroup\": \"BigBanks\", \"orientation\": \"v\", \"showlegend\": true, \"textposition\": \"auto\", \"x\": [\"AG\", \"AI\", \"AR\", \"BE\", \"BL\", \"BS\", \"FR\", \"GE\", \"GL\", \"GR\", \"JU\", \"LU\", \"NE\", \"NW\", \"OW\", \"SG\", \"SH\", \"SO\", \"SZ\", \"TG\", \"TI\", \"UR\", \"VD\", \"VS\", \"ZG\", \"ZH\"], \"xaxis\": \"x\", \"y\": [13278, 116, 1597, 28314, 8174, 4909, 6570, 19788, 573, 7042, 1539, 7299, 3969, 781, 467, 7715, 1730, 6433, 3265, 4822, 12645, 491, 23144, 8830, 3310, 51277], \"yaxis\": \"y\", \"type\": \"bar\"}, {\"alignmentgroup\": \"True\", \"hovertemplate\": \"Type of Bank=CantonalBanks<br>Date=2008<br>Cantons=%{x}<br>CHF mill=%{y}<extra></extra>\", \"legendgroup\": \"CantonalBanks\", \"marker\": {\"color\": \"#EF553B\"}, \"name\": \"CantonalBanks\", \"offsetgroup\": \"CantonalBanks\", \"orientation\": \"v\", \"showlegend\": true, \"textposition\": \"auto\", \"x\": [\"AG\", \"AI\", \"AR\", \"BE\", \"BL\", \"BS\", \"FR\", \"GE\", \"GL\", \"GR\", \"JU\", \"LU\", \"NE\", \"NW\", \"OW\", \"SG\", \"SH\", \"SO\", \"SZ\", \"TG\", \"TI\", \"UR\", \"VD\", \"VS\", \"ZG\", \"ZH\"], \"xaxis\": \"x\", \"y\": [14095, 940, 1163, 13973, 12589, 5391, 7194, 6979, 1787, 10288, 1324, 13962, 4343, 2093, 2065, 13511, 2787, 2874, 8736, 12308, 5517, 1590, 18041, 5793, 7182, 53411], \"yaxis\": \"y\", \"type\": \"bar\"}, {\"alignmentgroup\": \"True\", \"hovertemplate\": \"Type of Bank=Raiffeisen<br>Date=2008<br>Cantons=%{x}<br>CHF mill=%{y}<extra></extra>\", \"legendgroup\": \"Raiffeisen\", \"marker\": {\"color\": \"#00cc96\"}, \"name\": \"Raiffeisen\", \"offsetgroup\": \"Raiffeisen\", \"orientation\": \"v\", \"showlegend\": true, \"textposition\": \"auto\", \"x\": [\"AG\", \"AI\", \"AR\", \"BE\", \"BL\", \"BS\", \"FR\", \"GE\", \"GL\", \"GR\", \"JU\", \"LU\", \"NE\", \"NW\", \"OW\", \"SG\", \"SH\", \"SO\", \"SZ\", \"TG\", \"TI\", \"UR\", \"VD\", \"VS\", \"ZG\", \"ZH\"], \"xaxis\": \"x\", \"y\": [11895, 182, 1066, 9556, 2512, 557, 5032, 2075, 328, 3477, 1638, 5631, 1057, 913, 611, 11948, 443, 6629, 1938, 6379, 6745, 742, 5043, 6791, 2218, 6016], \"yaxis\": \"y\", \"type\": \"bar\"}, {\"alignmentgroup\": \"True\", \"hovertemplate\": \"Type of Bank=RegAndSavBanks<br>Date=2008<br>Cantons=%{x}<br>CHF mill=%{y}<extra></extra>\", \"legendgroup\": \"RegAndSavBanks\", \"marker\": {\"color\": \"#ab63fa\"}, \"name\": \"RegAndSavBanks\", \"offsetgroup\": \"RegAndSavBanks\", \"orientation\": \"v\", \"showlegend\": true, \"textposition\": \"auto\", \"x\": [\"AG\", \"AI\", \"AR\", \"BE\", \"BL\", \"BS\", \"FR\", \"GE\", \"GL\", \"GR\", \"JU\", \"LU\", \"NE\", \"NW\", \"OW\", \"SG\", \"SH\", \"SO\", \"SZ\", \"TG\", \"TI\", \"UR\", \"VD\", \"VS\", \"ZG\", \"ZH\"], \"xaxis\": \"x\", \"y\": [18570, 19, 300, 18716, 951, 209, 1562, 182, 300, 239, 733, 4346, 55, 26, 124, 4201, 1414, 6299, 1069, 395, 170, 17, 1265, 190, 241, 8633], \"yaxis\": \"y\", \"type\": \"bar\"}], \"name\": \"2008\"}, {\"data\": [{\"alignmentgroup\": \"True\", \"hovertemplate\": \"Type of Bank=BigBanks<br>Date=2009<br>Cantons=%{x}<br>CHF mill=%{y}<extra></extra>\", \"legendgroup\": \"BigBanks\", \"marker\": {\"color\": \"#636efa\"}, \"name\": \"BigBanks\", \"offsetgroup\": \"BigBanks\", \"orientation\": \"v\", \"showlegend\": true, \"textposition\": \"auto\", \"x\": [\"AG\", \"AI\", \"AR\", \"BE\", \"BL\", \"BS\", \"FR\", \"GE\", \"GL\", \"GR\", \"JU\", \"LU\", \"NE\", \"NW\", \"OW\", \"SG\", \"SH\", \"SO\", \"SZ\", \"TG\", \"TI\", \"UR\", \"VD\", \"VS\", \"ZG\", \"ZH\"], \"xaxis\": \"x\", \"y\": [12948, 123, 1582, 27908, 8097, 4679, 6554, 19970, 562, 7258, 1489, 7184, 3905, 784, 469, 7611, 1721, 6397, 3321, 4784, 12613, 499, 24251, 9386, 3469, 53674], \"yaxis\": \"y\", \"type\": \"bar\"}, {\"alignmentgroup\": \"True\", \"hovertemplate\": \"Type of Bank=CantonalBanks<br>Date=2009<br>Cantons=%{x}<br>CHF mill=%{y}<extra></extra>\", \"legendgroup\": \"CantonalBanks\", \"marker\": {\"color\": \"#EF553B\"}, \"name\": \"CantonalBanks\", \"offsetgroup\": \"CantonalBanks\", \"orientation\": \"v\", \"showlegend\": true, \"textposition\": \"auto\", \"x\": [\"AG\", \"AI\", \"AR\", \"BE\", \"BL\", \"BS\", \"FR\", \"GE\", \"GL\", \"GR\", \"JU\", \"LU\", \"NE\", \"NW\", \"OW\", \"SG\", \"SH\", \"SO\", \"SZ\", \"TG\", \"TI\", \"UR\", \"VD\", \"VS\", \"ZG\", \"ZH\"], \"xaxis\": \"x\", \"y\": [14930, 983, 1264, 14773, 13152, 6218, 7768, 7180, 1793, 10871, 1395, 14480, 4772, 2161, 2196, 14489, 2944, 3266, 9100, 12158, 5968, 1645, 19767, 6292, 7683, 58527], \"yaxis\": \"y\", \"type\": \"bar\"}, {\"alignmentgroup\": \"True\", \"hovertemplate\": \"Type of Bank=Raiffeisen<br>Date=2009<br>Cantons=%{x}<br>CHF mill=%{y}<extra></extra>\", \"legendgroup\": \"Raiffeisen\", \"marker\": {\"color\": \"#00cc96\"}, \"name\": \"Raiffeisen\", \"offsetgroup\": \"Raiffeisen\", \"orientation\": \"v\", \"showlegend\": true, \"textposition\": \"auto\", \"x\": [\"AG\", \"AI\", \"AR\", \"BE\", \"BL\", \"BS\", \"FR\", \"GE\", \"GL\", \"GR\", \"JU\", \"LU\", \"NE\", \"NW\", \"OW\", \"SG\", \"SH\", \"SO\", \"SZ\", \"TG\", \"TI\", \"UR\", \"VD\", \"VS\", \"ZG\", \"ZH\"], \"xaxis\": \"x\", \"y\": [12733, 193, 1190, 10426, 2753, 665, 5482, 2419, 361, 3731, 1762, 6048, 1172, 946, 649, 12670, 463, 6922, 2092, 6863, 7565, 806, 5769, 7448, 2405, 7132], \"yaxis\": \"y\", \"type\": \"bar\"}, {\"alignmentgroup\": \"True\", \"hovertemplate\": \"Type of Bank=RegAndSavBanks<br>Date=2009<br>Cantons=%{x}<br>CHF mill=%{y}<extra></extra>\", \"legendgroup\": \"RegAndSavBanks\", \"marker\": {\"color\": \"#ab63fa\"}, \"name\": \"RegAndSavBanks\", \"offsetgroup\": \"RegAndSavBanks\", \"orientation\": \"v\", \"showlegend\": true, \"textposition\": \"auto\", \"x\": [\"AG\", \"AI\", \"AR\", \"BE\", \"BL\", \"BS\", \"FR\", \"GE\", \"GL\", \"GR\", \"JU\", \"LU\", \"NE\", \"NW\", \"OW\", \"SG\", \"SH\", \"SO\", \"SZ\", \"TG\", \"TI\", \"UR\", \"VD\", \"VS\", \"ZG\", \"ZH\"], \"xaxis\": \"x\", \"y\": [19268, 38, 305, 19646, 1021, 199, 1418, 265, 318, 274, 755, 4568, 84, 44, 124, 4279, 1449, 6506, 1201, 451, 201, 17, 1332, 227, 306, 9454], \"yaxis\": \"y\", \"type\": \"bar\"}], \"name\": \"2009\"}, {\"data\": [{\"alignmentgroup\": \"True\", \"hovertemplate\": \"Type of Bank=BigBanks<br>Date=2010<br>Cantons=%{x}<br>CHF mill=%{y}<extra></extra>\", \"legendgroup\": \"BigBanks\", \"marker\": {\"color\": \"#636efa\"}, \"name\": \"BigBanks\", \"offsetgroup\": \"BigBanks\", \"orientation\": \"v\", \"showlegend\": true, \"textposition\": \"auto\", \"x\": [\"AG\", \"AI\", \"AR\", \"BE\", \"BL\", \"BS\", \"FR\", \"GE\", \"GL\", \"GR\", \"JU\", \"LU\", \"NE\", \"NW\", \"OW\", \"SG\", \"SH\", \"SO\", \"SZ\", \"TG\", \"TI\", \"UR\", \"VD\", \"VS\", \"ZG\", \"ZH\"], \"xaxis\": \"x\", \"y\": [12950, 122, 1571, 28013, 8102, 4729, 6549, 20876, 538, 7394, 1470, 7219, 3935, 776, 450, 7555, 1748, 6340, 3366, 4769, 12658, 501, 24929, 9714, 3586, 54134], \"yaxis\": \"y\", \"type\": \"bar\"}, {\"alignmentgroup\": \"True\", \"hovertemplate\": \"Type of Bank=CantonalBanks<br>Date=2010<br>Cantons=%{x}<br>CHF mill=%{y}<extra></extra>\", \"legendgroup\": \"CantonalBanks\", \"marker\": {\"color\": \"#EF553B\"}, \"name\": \"CantonalBanks\", \"offsetgroup\": \"CantonalBanks\", \"orientation\": \"v\", \"showlegend\": true, \"textposition\": \"auto\", \"x\": [\"AG\", \"AI\", \"AR\", \"BE\", \"BL\", \"BS\", \"FR\", \"GE\", \"GL\", \"GR\", \"JU\", \"LU\", \"NE\", \"NW\", \"OW\", \"SG\", \"SH\", \"SO\", \"SZ\", \"TG\", \"TI\", \"UR\", \"VD\", \"VS\", \"ZG\", \"ZH\"], \"xaxis\": \"x\", \"y\": [16144, 1029, 1342, 15579, 13639, 6533, 8447, 7489, 1860, 11525, 1474, 15330, 5156, 2288, 2352, 15115, 3056, 3788, 9650, 12597, 6255, 1677, 21458, 6900, 8232, 61190], \"yaxis\": \"y\", \"type\": \"bar\"}, {\"alignmentgroup\": \"True\", \"hovertemplate\": \"Type of Bank=Raiffeisen<br>Date=2010<br>Cantons=%{x}<br>CHF mill=%{y}<extra></extra>\", \"legendgroup\": \"Raiffeisen\", \"marker\": {\"color\": \"#00cc96\"}, \"name\": \"Raiffeisen\", \"offsetgroup\": \"Raiffeisen\", \"orientation\": \"v\", \"showlegend\": true, \"textposition\": \"auto\", \"x\": [\"AG\", \"AI\", \"AR\", \"BE\", \"BL\", \"BS\", \"FR\", \"GE\", \"GL\", \"GR\", \"JU\", \"LU\", \"NE\", \"NW\", \"OW\", \"SG\", \"SH\", \"SO\", \"SZ\", \"TG\", \"TI\", \"UR\", \"VD\", \"VS\", \"ZG\", \"ZH\"], \"xaxis\": \"x\", \"y\": [13583, 208, 1299, 11311, 3012, 740, 5966, 2656, 385, 3964, 1890, 6451, 1303, 1009, 680, 13374, 491, 7225, 2251, 7382, 8280, 846, 6455, 8219, 2540, 8063], \"yaxis\": \"y\", \"type\": \"bar\"}, {\"alignmentgroup\": \"True\", \"hovertemplate\": \"Type of Bank=RegAndSavBanks<br>Date=2010<br>Cantons=%{x}<br>CHF mill=%{y}<extra></extra>\", \"legendgroup\": \"RegAndSavBanks\", \"marker\": {\"color\": \"#ab63fa\"}, \"name\": \"RegAndSavBanks\", \"offsetgroup\": \"RegAndSavBanks\", \"orientation\": \"v\", \"showlegend\": true, \"textposition\": \"auto\", \"x\": [\"AG\", \"AI\", \"AR\", \"BE\", \"BL\", \"BS\", \"FR\", \"GE\", \"GL\", \"GR\", \"JU\", \"LU\", \"NE\", \"NW\", \"OW\", \"SG\", \"SH\", \"SO\", \"SZ\", \"TG\", \"TI\", \"UR\", \"VD\", \"VS\", \"ZG\", \"ZH\"], \"xaxis\": \"x\", \"y\": [20011, 27, 324, 20614, 1036, 261, 1469, 307, 347, 326, 787, 4730, 211, 51, 139, 4555, 1522, 6908, 1208, 561, 229, 20, 1552, 238, 247, 9794], \"yaxis\": \"y\", \"type\": \"bar\"}], \"name\": \"2010\"}, {\"data\": [{\"alignmentgroup\": \"True\", \"hovertemplate\": \"Type of Bank=BigBanks<br>Date=2011<br>Cantons=%{x}<br>CHF mill=%{y}<extra></extra>\", \"legendgroup\": \"BigBanks\", \"marker\": {\"color\": \"#636efa\"}, \"name\": \"BigBanks\", \"offsetgroup\": \"BigBanks\", \"orientation\": \"v\", \"showlegend\": true, \"textposition\": \"auto\", \"x\": [\"AG\", \"AI\", \"AR\", \"BE\", \"BL\", \"BS\", \"FR\", \"GE\", \"GL\", \"GR\", \"JU\", \"LU\", \"NE\", \"NW\", \"OW\", \"SG\", \"SH\", \"SO\", \"SZ\", \"TG\", \"TI\", \"UR\", \"VD\", \"VS\", \"ZG\", \"ZH\"], \"xaxis\": \"x\", \"y\": [13577, 124, 1566, 29034, 8602, 4851, 6791, 22533, 528, 7773, 1490, 7571, 3975, 758, 444, 7641, 1761, 6544, 3501, 4898, 12983, 495, 25881, 9754, 3752, 53737], \"yaxis\": \"y\", \"type\": \"bar\"}, {\"alignmentgroup\": \"True\", \"hovertemplate\": \"Type of Bank=CantonalBanks<br>Date=2011<br>Cantons=%{x}<br>CHF mill=%{y}<extra></extra>\", \"legendgroup\": \"CantonalBanks\", \"marker\": {\"color\": \"#EF553B\"}, \"name\": \"CantonalBanks\", \"offsetgroup\": \"CantonalBanks\", \"orientation\": \"v\", \"showlegend\": true, \"textposition\": \"auto\", \"x\": [\"AG\", \"AI\", \"AR\", \"BE\", \"BL\", \"BS\", \"FR\", \"GE\", \"GL\", \"GR\", \"JU\", \"LU\", \"NE\", \"NW\", \"OW\", \"SG\", \"SH\", \"SO\", \"SZ\", \"TG\", \"TI\", \"UR\", \"VD\", \"VS\", \"ZG\", \"ZH\"], \"xaxis\": \"x\", \"y\": [16732, 1083, 1406, 16366, 14426, 6704, 9107, 8254, 1952, 12218, 1569, 16156, 5534, 2359, 2424, 15724, 3126, 3610, 10152, 13011, 6467, 1737, 23253, 7587, 8697, 66063], \"yaxis\": \"y\", \"type\": \"bar\"}, {\"alignmentgroup\": \"True\", \"hovertemplate\": \"Type of Bank=Raiffeisen<br>Date=2011<br>Cantons=%{x}<br>CHF mill=%{y}<extra></extra>\", \"legendgroup\": \"Raiffeisen\", \"marker\": {\"color\": \"#00cc96\"}, \"name\": \"Raiffeisen\", \"offsetgroup\": \"Raiffeisen\", \"orientation\": \"v\", \"showlegend\": true, \"textposition\": \"auto\", \"x\": [\"AG\", \"AI\", \"AR\", \"BE\", \"BL\", \"BS\", \"FR\", \"GE\", \"GL\", \"GR\", \"JU\", \"LU\", \"NE\", \"NW\", \"OW\", \"SG\", \"SH\", \"SO\", \"SZ\", \"TG\", \"TI\", \"UR\", \"VD\", \"VS\", \"ZG\", \"ZH\"], \"xaxis\": \"x\", \"y\": [14348, 219, 1416, 12133, 3283, 807, 6447, 2831, 426, 4166, 2033, 6927, 1405, 1044, 690, 14100, 559, 7562, 2406, 7948, 9009, 890, 7047, 8956, 2705, 9155], \"yaxis\": \"y\", \"type\": \"bar\"}, {\"alignmentgroup\": \"True\", \"hovertemplate\": \"Type of Bank=RegAndSavBanks<br>Date=2011<br>Cantons=%{x}<br>CHF mill=%{y}<extra></extra>\", \"legendgroup\": \"RegAndSavBanks\", \"marker\": {\"color\": \"#ab63fa\"}, \"name\": \"RegAndSavBanks\", \"offsetgroup\": \"RegAndSavBanks\", \"orientation\": \"v\", \"showlegend\": true, \"textposition\": \"auto\", \"x\": [\"AG\", \"AI\", \"AR\", \"BE\", \"BL\", \"BS\", \"FR\", \"GE\", \"GL\", \"GR\", \"JU\", \"LU\", \"NE\", \"NW\", \"OW\", \"SG\", \"SH\", \"SO\", \"SZ\", \"TG\", \"TI\", \"UR\", \"VD\", \"VS\", \"ZG\", \"ZH\"], \"xaxis\": \"x\", \"y\": [21204, 99, 282, 21150, 1127, 378, 1607, 466, 366, 294, 780, 4772, 169, 56, 139, 4779, 1608, 7080, 1245, 577, 232, 20, 1721, 263, 279, 9757], \"yaxis\": \"y\", \"type\": \"bar\"}], \"name\": \"2011\"}, {\"data\": [{\"alignmentgroup\": \"True\", \"hovertemplate\": \"Type of Bank=BigBanks<br>Date=2012<br>Cantons=%{x}<br>CHF mill=%{y}<extra></extra>\", \"legendgroup\": \"BigBanks\", \"marker\": {\"color\": \"#636efa\"}, \"name\": \"BigBanks\", \"offsetgroup\": \"BigBanks\", \"orientation\": \"v\", \"showlegend\": true, \"textposition\": \"auto\", \"x\": [\"AG\", \"AI\", \"AR\", \"BE\", \"BL\", \"BS\", \"FR\", \"GE\", \"GL\", \"GR\", \"JU\", \"LU\", \"NE\", \"NW\", \"OW\", \"SG\", \"SH\", \"SO\", \"SZ\", \"TG\", \"TI\", \"UR\", \"VD\", \"VS\", \"ZG\", \"ZH\"], \"xaxis\": \"x\", \"y\": [13973, 122, 1527, 29755, 8792, 4936, 6895, 23759, 527, 8092, 1557, 7882, 4033, 763, 452, 7658, 1755, 6592, 3695, 4882, 13369, 497, 27305, 10112, 4020, 59184], \"yaxis\": \"y\", \"type\": \"bar\"}, {\"alignmentgroup\": \"True\", \"hovertemplate\": \"Type of Bank=CantonalBanks<br>Date=2012<br>Cantons=%{x}<br>CHF mill=%{y}<extra></extra>\", \"legendgroup\": \"CantonalBanks\", \"marker\": {\"color\": \"#EF553B\"}, \"name\": \"CantonalBanks\", \"offsetgroup\": \"CantonalBanks\", \"orientation\": \"v\", \"showlegend\": true, \"textposition\": \"auto\", \"x\": [\"AG\", \"AI\", \"AR\", \"BE\", \"BL\", \"BS\", \"FR\", \"GE\", \"GL\", \"GR\", \"JU\", \"LU\", \"NE\", \"NW\", \"OW\", \"SG\", \"SH\", \"SO\", \"SZ\", \"TG\", \"TI\", \"UR\", \"VD\", \"VS\", \"ZG\", \"ZH\"], \"xaxis\": \"x\", \"y\": [18045, 1123, 1499, 17632, 14924, 6539, 9881, 8573, 2040, 13435, 1686, 17012, 5951, 2405, 2537, 17091, 3283, 3834, 10467, 13902, 7038, 1828, 24686, 8119, 8595, 67684], \"yaxis\": \"y\", \"type\": \"bar\"}, {\"alignmentgroup\": \"True\", \"hovertemplate\": \"Type of Bank=Raiffeisen<br>Date=2012<br>Cantons=%{x}<br>CHF mill=%{y}<extra></extra>\", \"legendgroup\": \"Raiffeisen\", \"marker\": {\"color\": \"#00cc96\"}, \"name\": \"Raiffeisen\", \"offsetgroup\": \"Raiffeisen\", \"orientation\": \"v\", \"showlegend\": true, \"textposition\": \"auto\", \"x\": [\"AG\", \"AI\", \"AR\", \"BE\", \"BL\", \"BS\", \"FR\", \"GE\", \"GL\", \"GR\", \"JU\", \"LU\", \"NE\", \"NW\", \"OW\", \"SG\", \"SH\", \"SO\", \"SZ\", \"TG\", \"TI\", \"UR\", \"VD\", \"VS\", \"ZG\", \"ZH\"], \"xaxis\": \"x\", \"y\": [14909, 228, 1541, 12760, 3478, 897, 6908, 2996, 456, 4377, 2124, 7314, 1493, 1071, 721, 14744, 613, 7856, 2507, 8426, 9520, 940, 7560, 9537, 2816, 9794], \"yaxis\": \"y\", \"type\": \"bar\"}, {\"alignmentgroup\": \"True\", \"hovertemplate\": \"Type of Bank=RegAndSavBanks<br>Date=2012<br>Cantons=%{x}<br>CHF mill=%{y}<extra></extra>\", \"legendgroup\": \"RegAndSavBanks\", \"marker\": {\"color\": \"#ab63fa\"}, \"name\": \"RegAndSavBanks\", \"offsetgroup\": \"RegAndSavBanks\", \"orientation\": \"v\", \"showlegend\": true, \"textposition\": \"auto\", \"x\": [\"AG\", \"AI\", \"AR\", \"BE\", \"BL\", \"BS\", \"FR\", \"GE\", \"GL\", \"GR\", \"JU\", \"LU\", \"NE\", \"NW\", \"OW\", \"SG\", \"SH\", \"SO\", \"SZ\", \"TG\", \"TI\", \"UR\", \"VD\", \"VS\", \"ZG\", \"ZH\"], \"xaxis\": \"x\", \"y\": [21855, 29, 379, 21912, 1173, 403, 1677, 480, 383, 331, 734, 4813, 185, 61, 144, 4988, 1626, 7224, 1279, 657, 264, 22, 1836, 298, 280, 10261], \"yaxis\": \"y\", \"type\": \"bar\"}], \"name\": \"2012\"}, {\"data\": [{\"alignmentgroup\": \"True\", \"hovertemplate\": \"Type of Bank=BigBanks<br>Date=2013<br>Cantons=%{x}<br>CHF mill=%{y}<extra></extra>\", \"legendgroup\": \"BigBanks\", \"marker\": {\"color\": \"#636efa\"}, \"name\": \"BigBanks\", \"offsetgroup\": \"BigBanks\", \"orientation\": \"v\", \"showlegend\": true, \"textposition\": \"auto\", \"x\": [\"AG\", \"AI\", \"AR\", \"BE\", \"BL\", \"BS\", \"FR\", \"GE\", \"GL\", \"GR\", \"JU\", \"LU\", \"NE\", \"NW\", \"OW\", \"SG\", \"SH\", \"SO\", \"SZ\", \"TG\", \"TI\", \"UR\", \"VD\", \"VS\", \"ZG\", \"ZH\"], \"xaxis\": \"x\", \"y\": [14398, 119, 1495, 30256, 9027, 4943, 6963, 25033, 516, 8407, 1594, 7906, 4112, 760, 461, 7736, 1715, 6688, 3824, 4914, 13775, 512, 28632, 10609, 4163, 59854], \"yaxis\": \"y\", \"type\": \"bar\"}, {\"alignmentgroup\": \"True\", \"hovertemplate\": \"Type of Bank=CantonalBanks<br>Date=2013<br>Cantons=%{x}<br>CHF mill=%{y}<extra></extra>\", \"legendgroup\": \"CantonalBanks\", \"marker\": {\"color\": \"#EF553B\"}, \"name\": \"CantonalBanks\", \"offsetgroup\": \"CantonalBanks\", \"orientation\": \"v\", \"showlegend\": true, \"textposition\": \"auto\", \"x\": [\"AG\", \"AI\", \"AR\", \"BE\", \"BL\", \"BS\", \"FR\", \"GE\", \"GL\", \"GR\", \"JU\", \"LU\", \"NE\", \"NW\", \"OW\", \"SG\", \"SH\", \"SO\", \"SZ\", \"TG\", \"TI\", \"UR\", \"VD\", \"VS\", \"ZG\", \"ZH\"], \"xaxis\": \"x\", \"y\": [18911, 1173, 1623, 18459, 15563, 6852, 10729, 8930, 2132, 14074, 1810, 17843, 6334, 2523, 2610, 17789, 3419, 4043, 10887, 14530, 7615, 1896, 25466, 8501, 8835, 70904], \"yaxis\": \"y\", \"type\": \"bar\"}, {\"alignmentgroup\": \"True\", \"hovertemplate\": \"Type of Bank=Raiffeisen<br>Date=2013<br>Cantons=%{x}<br>CHF mill=%{y}<extra></extra>\", \"legendgroup\": \"Raiffeisen\", \"marker\": {\"color\": \"#00cc96\"}, \"name\": \"Raiffeisen\", \"offsetgroup\": \"Raiffeisen\", \"orientation\": \"v\", \"showlegend\": true, \"textposition\": \"auto\", \"x\": [\"AG\", \"AI\", \"AR\", \"BE\", \"BL\", \"BS\", \"FR\", \"GE\", \"GL\", \"GR\", \"JU\", \"LU\", \"NE\", \"NW\", \"OW\", \"SG\", \"SH\", \"SO\", \"SZ\", \"TG\", \"TI\", \"UR\", \"VD\", \"VS\", \"ZG\", \"ZH\"], \"xaxis\": \"x\", \"y\": [15483, 243, 1647, 13449, 3651, 1007, 7338, 3396, 481, 4599, 2227, 7756, 1568, 1115, 756, 15347, 667, 8174, 2645, 8900, 10121, 996, 8030, 10128, 2910, 10626], \"yaxis\": \"y\", \"type\": \"bar\"}, {\"alignmentgroup\": \"True\", \"hovertemplate\": \"Type of Bank=RegAndSavBanks<br>Date=2013<br>Cantons=%{x}<br>CHF mill=%{y}<extra></extra>\", \"legendgroup\": \"RegAndSavBanks\", \"marker\": {\"color\": \"#ab63fa\"}, \"name\": \"RegAndSavBanks\", \"offsetgroup\": \"RegAndSavBanks\", \"orientation\": \"v\", \"showlegend\": true, \"textposition\": \"auto\", \"x\": [\"AG\", \"AI\", \"AR\", \"BE\", \"BL\", \"BS\", \"FR\", \"GE\", \"GL\", \"GR\", \"JU\", \"LU\", \"NE\", \"NW\", \"OW\", \"SG\", \"SH\", \"SO\", \"SZ\", \"TG\", \"TI\", \"UR\", \"VD\", \"VS\", \"ZG\", \"ZH\"], \"xaxis\": \"x\", \"y\": [22170, 29, 424, 22543, 1206, 395, 1753, 479, 409, 376, 699, 4851, 209, 66, 167, 5236, 1724, 7412, 1323, 733, 306, 25, 2007, 314, 288, 10745], \"yaxis\": \"y\", \"type\": \"bar\"}], \"name\": \"2013\"}, {\"data\": [{\"alignmentgroup\": \"True\", \"hovertemplate\": \"Type of Bank=BigBanks<br>Date=2014<br>Cantons=%{x}<br>CHF mill=%{y}<extra></extra>\", \"legendgroup\": \"BigBanks\", \"marker\": {\"color\": \"#636efa\"}, \"name\": \"BigBanks\", \"offsetgroup\": \"BigBanks\", \"orientation\": \"v\", \"showlegend\": true, \"textposition\": \"auto\", \"x\": [\"AG\", \"AI\", \"AR\", \"BE\", \"BL\", \"BS\", \"FR\", \"GE\", \"GL\", \"GR\", \"JU\", \"LU\", \"NE\", \"NW\", \"OW\", \"SG\", \"SH\", \"SO\", \"SZ\", \"TG\", \"TI\", \"UR\", \"VD\", \"VS\", \"ZG\", \"ZH\"], \"xaxis\": \"x\", \"y\": [14707, 122, 1470, 30564, 9185, 4996, 7150, 25721, 513, 8540, 1602, 7890, 4197, 759, 468, 7768, 1695, 6753, 3942, 4898, 14111, 527, 29309, 10976, 4507, 61718], \"yaxis\": \"y\", \"type\": \"bar\"}, {\"alignmentgroup\": \"True\", \"hovertemplate\": \"Type of Bank=CantonalBanks<br>Date=2014<br>Cantons=%{x}<br>CHF mill=%{y}<extra></extra>\", \"legendgroup\": \"CantonalBanks\", \"marker\": {\"color\": \"#EF553B\"}, \"name\": \"CantonalBanks\", \"offsetgroup\": \"CantonalBanks\", \"orientation\": \"v\", \"showlegend\": true, \"textposition\": \"auto\", \"x\": [\"AG\", \"AI\", \"AR\", \"BE\", \"BL\", \"BS\", \"FR\", \"GE\", \"GL\", \"GR\", \"JU\", \"LU\", \"NE\", \"NW\", \"OW\", \"SG\", \"SH\", \"SO\", \"SZ\", \"TG\", \"TI\", \"UR\", \"VD\", \"VS\", \"ZG\", \"ZH\"], \"xaxis\": \"x\", \"y\": [19789, 1208, 1734, 19089, 15989, 6804, 11265, 9316, 2201, 14574, 1908, 18788, 6550, 2632, 2667, 18371, 3509, 4308, 11357, 15016, 8391, 1943, 26300, 8849, 9292, 73580], \"yaxis\": \"y\", \"type\": \"bar\"}, {\"alignmentgroup\": \"True\", \"hovertemplate\": \"Type of Bank=Raiffeisen<br>Date=2014<br>Cantons=%{x}<br>CHF mill=%{y}<extra></extra>\", \"legendgroup\": \"Raiffeisen\", \"marker\": {\"color\": \"#00cc96\"}, \"name\": \"Raiffeisen\", \"offsetgroup\": \"Raiffeisen\", \"orientation\": \"v\", \"showlegend\": true, \"textposition\": \"auto\", \"x\": [\"AG\", \"AI\", \"AR\", \"BE\", \"BL\", \"BS\", \"FR\", \"GE\", \"GL\", \"GR\", \"JU\", \"LU\", \"NE\", \"NW\", \"OW\", \"SG\", \"SH\", \"SO\", \"SZ\", \"TG\", \"TI\", \"UR\", \"VD\", \"VS\", \"ZG\", \"ZH\"], \"xaxis\": \"x\", \"y\": [15984, 258, 1761, 14105, 3817, 1056, 7747, 3660, 502, 4839, 2333, 8187, 1685, 1158, 793, 15856, 743, 8412, 2780, 9386, 10567, 1042, 8545, 10732, 3018, 11478], \"yaxis\": \"y\", \"type\": \"bar\"}, {\"alignmentgroup\": \"True\", \"hovertemplate\": \"Type of Bank=RegAndSavBanks<br>Date=2014<br>Cantons=%{x}<br>CHF mill=%{y}<extra></extra>\", \"legendgroup\": \"RegAndSavBanks\", \"marker\": {\"color\": \"#ab63fa\"}, \"name\": \"RegAndSavBanks\", \"offsetgroup\": \"RegAndSavBanks\", \"orientation\": \"v\", \"showlegend\": true, \"textposition\": \"auto\", \"x\": [\"AG\", \"AI\", \"AR\", \"BE\", \"BL\", \"BS\", \"FR\", \"GE\", \"GL\", \"GR\", \"JU\", \"LU\", \"NE\", \"NW\", \"OW\", \"SG\", \"SH\", \"SO\", \"SZ\", \"TG\", \"TI\", \"UR\", \"VD\", \"VS\", \"ZG\", \"ZH\"], \"xaxis\": \"x\", \"y\": [22817, 31, 427, 23039, 1217, 401, 1806, 467, 439, 407, 677, 4960, 240, 68, 169, 5506, 1760, 7594, 1357, 778, 328, 26, 2185, 333, 299, 11268], \"yaxis\": \"y\", \"type\": \"bar\"}], \"name\": \"2014\"}, {\"data\": [{\"alignmentgroup\": \"True\", \"hovertemplate\": \"Type of Bank=BigBanks<br>Date=2015<br>Cantons=%{x}<br>CHF mill=%{y}<extra></extra>\", \"legendgroup\": \"BigBanks\", \"marker\": {\"color\": \"#636efa\"}, \"name\": \"BigBanks\", \"offsetgroup\": \"BigBanks\", \"orientation\": \"v\", \"showlegend\": true, \"textposition\": \"auto\", \"x\": [\"AG\", \"AI\", \"AR\", \"BE\", \"BL\", \"BS\", \"FR\", \"GE\", \"GL\", \"GR\", \"JU\", \"LU\", \"NE\", \"NW\", \"OW\", \"SG\", \"SH\", \"SO\", \"SZ\", \"TG\", \"TI\", \"UR\", \"VD\", \"VS\", \"ZG\", \"ZH\"], \"xaxis\": \"x\", \"y\": [14454, 126, 1409, 30665, 9221, 4967, 7159, 25930, 508, 8583, 1624, 7670, 4227, 719, 460, 7612, 1637, 6788, 3860, 4793, 14289, 549, 29542, 11148, 4449, 58881], \"yaxis\": \"y\", \"type\": \"bar\"}, {\"alignmentgroup\": \"True\", \"hovertemplate\": \"Type of Bank=CantonalBanks<br>Date=2015<br>Cantons=%{x}<br>CHF mill=%{y}<extra></extra>\", \"legendgroup\": \"CantonalBanks\", \"marker\": {\"color\": \"#EF553B\"}, \"name\": \"CantonalBanks\", \"offsetgroup\": \"CantonalBanks\", \"orientation\": \"v\", \"showlegend\": true, \"textposition\": \"auto\", \"x\": [\"AG\", \"AI\", \"AR\", \"BE\", \"BL\", \"BS\", \"FR\", \"GE\", \"GL\", \"GR\", \"JU\", \"LU\", \"NE\", \"NW\", \"OW\", \"SG\", \"SH\", \"SO\", \"SZ\", \"TG\", \"TI\", \"UR\", \"VD\", \"VS\", \"ZG\", \"ZH\"], \"xaxis\": \"x\", \"y\": [20825, 1248, 1893, 19769, 16291, 6871, 11877, 9551, 2291, 15146, 1992, 20085, 6809, 2792, 2769, 19312, 3572, 4505, 11984, 15767, 8835, 2010, 27052, 9267, 9521, 76810], \"yaxis\": \"y\", \"type\": \"bar\"}, {\"alignmentgroup\": \"True\", \"hovertemplate\": \"Type of Bank=Raiffeisen<br>Date=2015<br>Cantons=%{x}<br>CHF mill=%{y}<extra></extra>\", \"legendgroup\": \"Raiffeisen\", \"marker\": {\"color\": \"#00cc96\"}, \"name\": \"Raiffeisen\", \"offsetgroup\": \"Raiffeisen\", \"orientation\": \"v\", \"showlegend\": true, \"textposition\": \"auto\", \"x\": [\"AG\", \"AI\", \"AR\", \"BE\", \"BL\", \"BS\", \"FR\", \"GE\", \"GL\", \"GR\", \"JU\", \"LU\", \"NE\", \"NW\", \"OW\", \"SG\", \"SH\", \"SO\", \"SZ\", \"TG\", \"TI\", \"UR\", \"VD\", \"VS\", \"ZG\", \"ZH\"], \"xaxis\": \"x\", \"y\": [16612, 269, 1879, 14852, 3988, 1174, 8141, 3785, 524, 5063, 2440, 8663, 1774, 1191, 836, 16443, 826, 8714, 2890, 9939, 11065, 1096, 9143, 11353, 3139, 12311], \"yaxis\": \"y\", \"type\": \"bar\"}, {\"alignmentgroup\": \"True\", \"hovertemplate\": \"Type of Bank=RegAndSavBanks<br>Date=2015<br>Cantons=%{x}<br>CHF mill=%{y}<extra></extra>\", \"legendgroup\": \"RegAndSavBanks\", \"marker\": {\"color\": \"#ab63fa\"}, \"name\": \"RegAndSavBanks\", \"offsetgroup\": \"RegAndSavBanks\", \"orientation\": \"v\", \"showlegend\": true, \"textposition\": \"auto\", \"x\": [\"AG\", \"AI\", \"AR\", \"BE\", \"BL\", \"BS\", \"FR\", \"GE\", \"GL\", \"GR\", \"JU\", \"LU\", \"NE\", \"NW\", \"OW\", \"SG\", \"SH\", \"SO\", \"SZ\", \"TG\", \"TI\", \"UR\", \"VD\", \"VS\", \"ZG\", \"ZH\"], \"xaxis\": \"x\", \"y\": [23249, 27, 424, 23752, 1296, 434, 1857, 462, 451, 423, 664, 5073, 246, 69, 168, 5413, 1778, 7675, 1358, 761, 346, 28, 2338, 359, 308, 11796], \"yaxis\": \"y\", \"type\": \"bar\"}], \"name\": \"2015\"}, {\"data\": [{\"alignmentgroup\": \"True\", \"hovertemplate\": \"Type of Bank=BigBanks<br>Date=2016<br>Cantons=%{x}<br>CHF mill=%{y}<extra></extra>\", \"legendgroup\": \"BigBanks\", \"marker\": {\"color\": \"#636efa\"}, \"name\": \"BigBanks\", \"offsetgroup\": \"BigBanks\", \"orientation\": \"v\", \"showlegend\": true, \"textposition\": \"auto\", \"x\": [\"AG\", \"AI\", \"AR\", \"BE\", \"BL\", \"BS\", \"FR\", \"GE\", \"GL\", \"GR\", \"JU\", \"LU\", \"NE\", \"NW\", \"OW\", \"SG\", \"SH\", \"SO\", \"SZ\", \"TG\", \"TI\", \"UR\", \"VD\", \"VS\", \"ZG\", \"ZH\"], \"xaxis\": \"x\", \"y\": [14259, 129, 1384, 30652, 9209, 4789, 7122, 25751, 490, 8494, 1659, 7478, 4306, 735, 460, 7328, 1637, 6720, 3887, 4736, 14361, 574, 29555, 11342, 4326, 59156], \"yaxis\": \"y\", \"type\": \"bar\"}, {\"alignmentgroup\": \"True\", \"hovertemplate\": \"Type of Bank=CantonalBanks<br>Date=2016<br>Cantons=%{x}<br>CHF mill=%{y}<extra></extra>\", \"legendgroup\": \"CantonalBanks\", \"marker\": {\"color\": \"#EF553B\"}, \"name\": \"CantonalBanks\", \"offsetgroup\": \"CantonalBanks\", \"orientation\": \"v\", \"showlegend\": true, \"textposition\": \"auto\", \"x\": [\"AG\", \"AI\", \"AR\", \"BE\", \"BL\", \"BS\", \"FR\", \"GE\", \"GL\", \"GR\", \"JU\", \"LU\", \"NE\", \"NW\", \"OW\", \"SG\", \"SH\", \"SO\", \"SZ\", \"TG\", \"TI\", \"UR\", \"VD\", \"VS\", \"ZG\", \"ZH\"], \"xaxis\": \"x\", \"y\": [22164, 1302, 2004, 20438, 16698, 7347, 12575, 10131, 2400, 15449, 2062, 21105, 7060, 2810, 2837, 20168, 3762, 4740, 12389, 16370, 9437, 2115, 27816, 9741, 9438, 80577], \"yaxis\": \"y\", \"type\": \"bar\"}, {\"alignmentgroup\": \"True\", \"hovertemplate\": \"Type of Bank=Raiffeisen<br>Date=2016<br>Cantons=%{x}<br>CHF mill=%{y}<extra></extra>\", \"legendgroup\": \"Raiffeisen\", \"marker\": {\"color\": \"#00cc96\"}, \"name\": \"Raiffeisen\", \"offsetgroup\": \"Raiffeisen\", \"orientation\": \"v\", \"showlegend\": true, \"textposition\": \"auto\", \"x\": [\"AG\", \"AI\", \"AR\", \"BE\", \"BL\", \"BS\", \"FR\", \"GE\", \"GL\", \"GR\", \"JU\", \"LU\", \"NE\", \"NW\", \"OW\", \"SG\", \"SH\", \"SO\", \"SZ\", \"TG\", \"TI\", \"UR\", \"VD\", \"VS\", \"ZG\", \"ZH\"], \"xaxis\": \"x\", \"y\": [17246, 286, 1958, 15518, 4124, 1260, 8479, 3892, 546, 5294, 2547, 9011, 1869, 1227, 866, 17005, 869, 8968, 2998, 10345, 11734, 1146, 9594, 11883, 3222, 12988], \"yaxis\": \"y\", \"type\": \"bar\"}, {\"alignmentgroup\": \"True\", \"hovertemplate\": \"Type of Bank=RegAndSavBanks<br>Date=2016<br>Cantons=%{x}<br>CHF mill=%{y}<extra></extra>\", \"legendgroup\": \"RegAndSavBanks\", \"marker\": {\"color\": \"#ab63fa\"}, \"name\": \"RegAndSavBanks\", \"offsetgroup\": \"RegAndSavBanks\", \"orientation\": \"v\", \"showlegend\": true, \"textposition\": \"auto\", \"x\": [\"AG\", \"AI\", \"AR\", \"BE\", \"BL\", \"BS\", \"FR\", \"GE\", \"GL\", \"GR\", \"JU\", \"LU\", \"NE\", \"NW\", \"OW\", \"SG\", \"SH\", \"SO\", \"SZ\", \"TG\", \"TI\", \"UR\", \"VD\", \"VS\", \"ZG\", \"ZH\"], \"xaxis\": \"x\", \"y\": [23451, 28, 448, 24239, 1319, 408, 1897, 475, 478, 448, 664, 5111, 261, 72, 169, 5576, 1800, 7808, 1382, 806, 360, 29, 2444, 384, 301, 12117], \"yaxis\": \"y\", \"type\": \"bar\"}], \"name\": \"2016\"}, {\"data\": [{\"alignmentgroup\": \"True\", \"hovertemplate\": \"Type of Bank=BigBanks<br>Date=2017<br>Cantons=%{x}<br>CHF mill=%{y}<extra></extra>\", \"legendgroup\": \"BigBanks\", \"marker\": {\"color\": \"#636efa\"}, \"name\": \"BigBanks\", \"offsetgroup\": \"BigBanks\", \"orientation\": \"v\", \"showlegend\": true, \"textposition\": \"auto\", \"x\": [\"AG\", \"AI\", \"AR\", \"BE\", \"BL\", \"BS\", \"FR\", \"GE\", \"GL\", \"GR\", \"JU\", \"LU\", \"NE\", \"NW\", \"OW\", \"SG\", \"SH\", \"SO\", \"SZ\", \"TG\", \"TI\", \"UR\", \"VD\", \"VS\", \"ZG\", \"ZH\"], \"xaxis\": \"x\", \"y\": [14259, 126, 1367, 30603, 9236, 4882, 7196, 25362, 501, 8468, 1661, 7377, 4339, 739, 471, 7085, 1532, 6890, 3774, 4632, 14324, 564, 30256, 11487, 4571, 58744], \"yaxis\": \"y\", \"type\": \"bar\"}, {\"alignmentgroup\": \"True\", \"hovertemplate\": \"Type of Bank=CantonalBanks<br>Date=2017<br>Cantons=%{x}<br>CHF mill=%{y}<extra></extra>\", \"legendgroup\": \"CantonalBanks\", \"marker\": {\"color\": \"#EF553B\"}, \"name\": \"CantonalBanks\", \"offsetgroup\": \"CantonalBanks\", \"orientation\": \"v\", \"showlegend\": true, \"textposition\": \"auto\", \"x\": [\"AG\", \"AI\", \"AR\", \"BE\", \"BL\", \"BS\", \"FR\", \"GE\", \"GL\", \"GR\", \"JU\", \"LU\", \"NE\", \"NW\", \"OW\", \"SG\", \"SH\", \"SO\", \"SZ\", \"TG\", \"TI\", \"UR\", \"VD\", \"VS\", \"ZG\", \"ZH\"], \"xaxis\": \"x\", \"y\": [23531, 1349, 2135, 21307, 17263, 7465, 13182, 10591, 2391, 15895, 2149, 21997, 7298, 2938, 2909, 20947, 3849, 5143, 12607, 16976, 10072, 2218, 28542, 10207, 9646, 83482], \"yaxis\": \"y\", \"type\": \"bar\"}, {\"alignmentgroup\": \"True\", \"hovertemplate\": \"Type of Bank=Raiffeisen<br>Date=2017<br>Cantons=%{x}<br>CHF mill=%{y}<extra></extra>\", \"legendgroup\": \"Raiffeisen\", \"marker\": {\"color\": \"#00cc96\"}, \"name\": \"Raiffeisen\", \"offsetgroup\": \"Raiffeisen\", \"orientation\": \"v\", \"showlegend\": true, \"textposition\": \"auto\", \"x\": [\"AG\", \"AI\", \"AR\", \"BE\", \"BL\", \"BS\", \"FR\", \"GE\", \"GL\", \"GR\", \"JU\", \"LU\", \"NE\", \"NW\", \"OW\", \"SG\", \"SH\", \"SO\", \"SZ\", \"TG\", \"TI\", \"UR\", \"VD\", \"VS\", \"ZG\", \"ZH\"], \"xaxis\": \"x\", \"y\": [17924, 291, 2025, 16048, 4390, 1265, 8811, 3902, 595, 5489, 2661, 9273, 1988, 1286, 981, 17765, 851, 9203, 3218, 10675, 12253, 1195, 10256, 12483, 3227, 14002], \"yaxis\": \"y\", \"type\": \"bar\"}, {\"alignmentgroup\": \"True\", \"hovertemplate\": \"Type of Bank=RegAndSavBanks<br>Date=2017<br>Cantons=%{x}<br>CHF mill=%{y}<extra></extra>\", \"legendgroup\": \"RegAndSavBanks\", \"marker\": {\"color\": \"#ab63fa\"}, \"name\": \"RegAndSavBanks\", \"offsetgroup\": \"RegAndSavBanks\", \"orientation\": \"v\", \"showlegend\": true, \"textposition\": \"auto\", \"x\": [\"AG\", \"AI\", \"AR\", \"BE\", \"BL\", \"BS\", \"FR\", \"GE\", \"GL\", \"GR\", \"JU\", \"LU\", \"NE\", \"NW\", \"OW\", \"SG\", \"SH\", \"SO\", \"SZ\", \"TG\", \"TI\", \"UR\", \"VD\", \"VS\", \"ZG\", \"ZH\"], \"xaxis\": \"x\", \"y\": [23455, 30, 449, 24823, 1357, 439, 1934, 521, 496, 467, 667, 5142, 295, 76, 173, 5681, 1833, 7891, 1439, 868, 380, 38, 2638, 416, 295, 12381], \"yaxis\": \"y\", \"type\": \"bar\"}], \"name\": \"2017\"}, {\"data\": [{\"alignmentgroup\": \"True\", \"hovertemplate\": \"Type of Bank=BigBanks<br>Date=2018<br>Cantons=%{x}<br>CHF mill=%{y}<extra></extra>\", \"legendgroup\": \"BigBanks\", \"marker\": {\"color\": \"#636efa\"}, \"name\": \"BigBanks\", \"offsetgroup\": \"BigBanks\", \"orientation\": \"v\", \"showlegend\": true, \"textposition\": \"auto\", \"x\": [\"AG\", \"AI\", \"AR\", \"BE\", \"BL\", \"BS\", \"FR\", \"GE\", \"GL\", \"GR\", \"JU\", \"LU\", \"NE\", \"NW\", \"OW\", \"SG\", \"SH\", \"SO\", \"SZ\", \"TG\", \"TI\", \"UR\", \"VD\", \"VS\", \"ZG\", \"ZH\"], \"xaxis\": \"x\", \"y\": [14310, 132, 1325, 30824, 9330, 5176, 7337, 26088, 502, 8622, 1682, 7556, 4463, 790, 473, 7213, 1519, 6815, 4036, 4584, 14605, 585, 31257, 11684, 4733, 61420], \"yaxis\": \"y\", \"type\": \"bar\"}, {\"alignmentgroup\": \"True\", \"hovertemplate\": \"Type of Bank=CantonalBanks<br>Date=2018<br>Cantons=%{x}<br>CHF mill=%{y}<extra></extra>\", \"legendgroup\": \"CantonalBanks\", \"marker\": {\"color\": \"#EF553B\"}, \"name\": \"CantonalBanks\", \"offsetgroup\": \"CantonalBanks\", \"orientation\": \"v\", \"showlegend\": true, \"textposition\": \"auto\", \"x\": [\"AG\", \"AI\", \"AR\", \"BE\", \"BL\", \"BS\", \"FR\", \"GE\", \"GL\", \"GR\", \"JU\", \"LU\", \"NE\", \"NW\", \"OW\", \"SG\", \"SH\", \"SO\", \"SZ\", \"TG\", \"TI\", \"UR\", \"VD\", \"VS\", \"ZG\", \"ZH\"], \"xaxis\": \"x\", \"y\": [24905, 1408, 2246, 22429, 17603, 7834, 13966, 10899, 2424, 16334, 2291, 23070, 7463, 3036, 3017, 21555, 3903, 5409, 12898, 17483, 10628, 2314, 29813, 10642, 9987, 87149], \"yaxis\": \"y\", \"type\": \"bar\"}, {\"alignmentgroup\": \"True\", \"hovertemplate\": \"Type of Bank=Raiffeisen<br>Date=2018<br>Cantons=%{x}<br>CHF mill=%{y}<extra></extra>\", \"legendgroup\": \"Raiffeisen\", \"marker\": {\"color\": \"#00cc96\"}, \"name\": \"Raiffeisen\", \"offsetgroup\": \"Raiffeisen\", \"orientation\": \"v\", \"showlegend\": true, \"textposition\": \"auto\", \"x\": [\"AG\", \"AI\", \"AR\", \"BE\", \"BL\", \"BS\", \"FR\", \"GE\", \"GL\", \"GR\", \"JU\", \"LU\", \"NE\", \"NW\", \"OW\", \"SG\", \"SH\", \"SO\", \"SZ\", \"TG\", \"TI\", \"UR\", \"VD\", \"VS\", \"ZG\", \"ZH\"], \"xaxis\": \"x\", \"y\": [18576, 307, 2144, 16718, 4527, 1389, 9162, 4236, 635, 5722, 2767, 9805, 2044, 1332, 935, 18643, 1001, 9419, 3301, 11150, 12669, 1231, 10649, 13062, 3322, 14798], \"yaxis\": \"y\", \"type\": \"bar\"}, {\"alignmentgroup\": \"True\", \"hovertemplate\": \"Type of Bank=RegAndSavBanks<br>Date=2018<br>Cantons=%{x}<br>CHF mill=%{y}<extra></extra>\", \"legendgroup\": \"RegAndSavBanks\", \"marker\": {\"color\": \"#ab63fa\"}, \"name\": \"RegAndSavBanks\", \"offsetgroup\": \"RegAndSavBanks\", \"orientation\": \"v\", \"showlegend\": true, \"textposition\": \"auto\", \"x\": [\"AG\", \"AI\", \"AR\", \"BE\", \"BL\", \"BS\", \"FR\", \"GE\", \"GL\", \"GR\", \"JU\", \"LU\", \"NE\", \"NW\", \"OW\", \"SG\", \"SH\", \"SO\", \"SZ\", \"TG\", \"TI\", \"UR\", \"VD\", \"VS\", \"ZG\", \"ZH\"], \"xaxis\": \"x\", \"y\": [23898, 33, 444, 25564, 1428, 456, 1988, 564, 522, 482, 675, 5171, 323, 75, 172, 5844, 1881, 8065, 1501, 951, 396, 40, 2805, 428, 301, 12855], \"yaxis\": \"y\", \"type\": \"bar\"}], \"name\": \"2018\"}, {\"data\": [{\"alignmentgroup\": \"True\", \"hovertemplate\": \"Type of Bank=BigBanks<br>Date=2019<br>Cantons=%{x}<br>CHF mill=%{y}<extra></extra>\", \"legendgroup\": \"BigBanks\", \"marker\": {\"color\": \"#636efa\"}, \"name\": \"BigBanks\", \"offsetgroup\": \"BigBanks\", \"orientation\": \"v\", \"showlegend\": true, \"textposition\": \"auto\", \"x\": [\"AG\", \"AI\", \"AR\", \"BE\", \"BL\", \"BS\", \"FR\", \"GE\", \"GL\", \"GR\", \"JU\", \"LU\", \"NE\", \"NW\", \"OW\", \"SG\", \"SH\", \"SO\", \"SZ\", \"TG\", \"TI\", \"UR\", \"VD\", \"VS\", \"ZG\", \"ZH\"], \"xaxis\": \"x\", \"y\": [14844, 172, 1290, 30760, 9560, 5247, 7567, 26797, 490, 8711, 1716, 7696, 4520, 773, 508, 7208, 1461, 6895, 4184, 4563, 14886, 628, 32625, 12366, 4855, 60859], \"yaxis\": \"y\", \"type\": \"bar\"}, {\"alignmentgroup\": \"True\", \"hovertemplate\": \"Type of Bank=CantonalBanks<br>Date=2019<br>Cantons=%{x}<br>CHF mill=%{y}<extra></extra>\", \"legendgroup\": \"CantonalBanks\", \"marker\": {\"color\": \"#EF553B\"}, \"name\": \"CantonalBanks\", \"offsetgroup\": \"CantonalBanks\", \"orientation\": \"v\", \"showlegend\": true, \"textposition\": \"auto\", \"x\": [\"AG\", \"AI\", \"AR\", \"BE\", \"BL\", \"BS\", \"FR\", \"GE\", \"GL\", \"GR\", \"JU\", \"LU\", \"NE\", \"NW\", \"OW\", \"SG\", \"SH\", \"SO\", \"SZ\", \"TG\", \"TI\", \"UR\", \"VD\", \"VS\", \"ZG\", \"ZH\"], \"xaxis\": \"x\", \"y\": [25940, 1450, 2317, 23373, 18569, 8208, 14794, 11470, 2453, 16678, 2393, 24086, 7614, 3106, 3151, 22708, 3936, 5774, 13348, 18155, 11100, 2314, 31015, 11075, 10204, 91126], \"yaxis\": \"y\", \"type\": \"bar\"}, {\"alignmentgroup\": \"True\", \"hovertemplate\": \"Type of Bank=Raiffeisen<br>Date=2019<br>Cantons=%{x}<br>CHF mill=%{y}<extra></extra>\", \"legendgroup\": \"Raiffeisen\", \"marker\": {\"color\": \"#00cc96\"}, \"name\": \"Raiffeisen\", \"offsetgroup\": \"Raiffeisen\", \"orientation\": \"v\", \"showlegend\": true, \"textposition\": \"auto\", \"x\": [\"AG\", \"AI\", \"AR\", \"BE\", \"BL\", \"BS\", \"FR\", \"GE\", \"GL\", \"GR\", \"JU\", \"LU\", \"NE\", \"NW\", \"OW\", \"SG\", \"SH\", \"SO\", \"SZ\", \"TG\", \"TI\", \"UR\", \"VD\", \"VS\", \"ZG\", \"ZH\"], \"xaxis\": \"x\", \"y\": [19031, 318, 2200, 17087, 4661, 1454, 9548, 4341, 654, 5861, 2841, 10130, 2128, 1380, 960, 19193, 1072, 9643, 3398, 11588, 13093, 1265, 10969, 13666, 3358, 15436], \"yaxis\": \"y\", \"type\": \"bar\"}, {\"alignmentgroup\": \"True\", \"hovertemplate\": \"Type of Bank=RegAndSavBanks<br>Date=2019<br>Cantons=%{x}<br>CHF mill=%{y}<extra></extra>\", \"legendgroup\": \"RegAndSavBanks\", \"marker\": {\"color\": \"#ab63fa\"}, \"name\": \"RegAndSavBanks\", \"offsetgroup\": \"RegAndSavBanks\", \"orientation\": \"v\", \"showlegend\": true, \"textposition\": \"auto\", \"x\": [\"AG\", \"AI\", \"AR\", \"BE\", \"BL\", \"BS\", \"FR\", \"GE\", \"GL\", \"GR\", \"JU\", \"LU\", \"NE\", \"NW\", \"OW\", \"SG\", \"SH\", \"SO\", \"SZ\", \"TG\", \"TI\", \"UR\", \"VD\", \"VS\", \"ZG\", \"ZH\"], \"xaxis\": \"x\", \"y\": [24365, 34, 463, 26340, 1546, 488, 2069, 649, 540, 516, 682, 5256, 345, 82, 185, 6112, 1929, 8186, 1535, 1001, 443, 48, 2974, 455, 311, 13379], \"yaxis\": \"y\", \"type\": \"bar\"}], \"name\": \"2019\"}]);\n",
       "                        }).then(function(){\n",
       "                            \n",
       "var gd = document.getElementById('fc29a266-2d98-4549-96aa-26225cf30ac8');\n",
       "var x = new MutationObserver(function (mutations, observer) {{\n",
       "        var display = window.getComputedStyle(gd).display;\n",
       "        if (!display || display === 'none') {{\n",
       "            console.log([gd, 'removed!']);\n",
       "            Plotly.purge(gd);\n",
       "            observer.disconnect();\n",
       "        }}\n",
       "}});\n",
       "\n",
       "// Listen for the removal of the full notebook cells\n",
       "var notebookContainer = gd.closest('#notebook-container');\n",
       "if (notebookContainer) {{\n",
       "    x.observe(notebookContainer, {childList: true});\n",
       "}}\n",
       "\n",
       "// Listen for the clearing of the current output cell\n",
       "var outputEl = gd.closest('.output');\n",
       "if (outputEl) {{\n",
       "    x.observe(outputEl, {childList: true});\n",
       "}}\n",
       "\n",
       "                        })                };                });            </script>        </div>"
      ]
     },
     "metadata": {},
     "output_type": "display_data"
    }
   ],
   "source": [
    "fig = px.bar(mor_Cant, x=\"Cantons\", y=[\"BigBanks\", \"CantonalBanks\", \"Raiffeisen\", \"RegAndSavBanks\"], \n",
    "             title=\"Mortgages per bank Switzerland\",animation_frame=\"Date\",labels={\"value\": \"CHF mill\", \"variable\": \"Type of Bank\"})\n",
    "fig.show()"
   ]
  },
  {
   "cell_type": "code",
   "execution_count": 22,
   "metadata": {},
   "outputs": [
    {
     "ename": "NameError",
     "evalue": "name 'st' is not defined",
     "output_type": "error",
     "traceback": [
      "\u001b[0;31m---------------------------------------------------------------------------\u001b[0m",
      "\u001b[0;31mNameError\u001b[0m                                 Traceback (most recent call last)",
      "\u001b[0;32m<ipython-input-22-437da97ae486>\u001b[0m in \u001b[0;36m<module>\u001b[0;34m\u001b[0m\n\u001b[0;32m----> 1\u001b[0;31m \u001b[0mst\u001b[0m\u001b[0;34m.\u001b[0m\u001b[0mtitle\u001b[0m\u001b[0;34m(\u001b[0m\u001b[0;34m'Rating exploration'\u001b[0m\u001b[0;34m)\u001b[0m\u001b[0;34m\u001b[0m\u001b[0;34m\u001b[0m\u001b[0m\n\u001b[0m\u001b[1;32m      2\u001b[0m \u001b[0mx_options\u001b[0m \u001b[0;34m=\u001b[0m \u001b[0mmor_Cant\u001b[0m\u001b[0;34m[\u001b[0m\u001b[0;34m'Cantons'\u001b[0m\u001b[0;34m]\u001b[0m\u001b[0;34m.\u001b[0m\u001b[0munique\u001b[0m\u001b[0;34m(\u001b[0m\u001b[0;34m)\u001b[0m\u001b[0;34m\u001b[0m\u001b[0;34m\u001b[0m\u001b[0m\n\u001b[1;32m      3\u001b[0m \u001b[0mx_axis\u001b[0m \u001b[0;34m=\u001b[0m \u001b[0mst\u001b[0m\u001b[0;34m.\u001b[0m\u001b[0msidebar\u001b[0m\u001b[0;34m.\u001b[0m\u001b[0mselectbox\u001b[0m\u001b[0;34m(\u001b[0m\u001b[0;34m'Mortgage development over time'\u001b[0m\u001b[0;34m,\u001b[0m \u001b[0mx_options\u001b[0m\u001b[0;34m)\u001b[0m\u001b[0;34m\u001b[0m\u001b[0;34m\u001b[0m\u001b[0m\n\u001b[1;32m      4\u001b[0m fig1 = px.area(mor_Cant, x=x_axis, y=[\"BigBanks\", \"CantonalBanks\", \"Raiffeisen\", \"RegAndSavBanks\"], \n\u001b[1;32m      5\u001b[0m              title=\"Mortgages per bank Switzerland\",labels={\"value\": \"CHF mill\", \"variable\": \"Type of Bank\"})\n",
      "\u001b[0;31mNameError\u001b[0m: name 'st' is not defined"
     ]
    }
   ],
   "source": [
    "st.title('Rating exploration')\n",
    "x_options = mor_Cant['Cantons'].unique()\n",
    "x_axis = st.sidebar.selectbox('Mortgage development over time', x_options)\n",
    "fig1 = px.area(mor_Cant, x=x_axis, y=[\"BigBanks\", \"CantonalBanks\", \"Raiffeisen\", \"RegAndSavBanks\"], \n",
    "             title=\"Mortgages per bank Switzerland\",labels={\"value\": \"CHF mill\", \"variable\": \"Type of Bank\"})\n",
    "fig1.show()"
   ]
  },
  {
   "cell_type": "code",
   "execution_count": null,
   "metadata": {},
   "outputs": [],
   "source": []
  },
  {
   "cell_type": "code",
   "execution_count": null,
   "metadata": {},
   "outputs": [],
   "source": []
  },
  {
   "cell_type": "code",
   "execution_count": null,
   "metadata": {},
   "outputs": [],
   "source": []
  },
  {
   "cell_type": "code",
   "execution_count": null,
   "metadata": {},
   "outputs": [],
   "source": []
  },
  {
   "cell_type": "code",
   "execution_count": null,
   "metadata": {},
   "outputs": [],
   "source": []
  },
  {
   "cell_type": "code",
   "execution_count": null,
   "metadata": {},
   "outputs": [],
   "source": []
  },
  {
   "cell_type": "code",
   "execution_count": null,
   "metadata": {},
   "outputs": [],
   "source": []
  },
  {
   "cell_type": "code",
   "execution_count": null,
   "metadata": {},
   "outputs": [],
   "source": []
  },
  {
   "cell_type": "code",
   "execution_count": null,
   "metadata": {},
   "outputs": [],
   "source": []
  },
  {
   "cell_type": "code",
   "execution_count": 10,
   "metadata": {},
   "outputs": [
    {
     "data": {
      "text/plain": [
       "[{'label': 'AG', 'value': 'AG'},\n",
       " {'label': 'AI', 'value': 'AI'},\n",
       " {'label': 'AR', 'value': 'AR'},\n",
       " {'label': 'BE', 'value': 'BE'},\n",
       " {'label': 'BL', 'value': 'BL'},\n",
       " {'label': 'BS', 'value': 'BS'},\n",
       " {'label': 'FR', 'value': 'FR'},\n",
       " {'label': 'GE', 'value': 'GE'},\n",
       " {'label': 'GL', 'value': 'GL'},\n",
       " {'label': 'GR', 'value': 'GR'},\n",
       " {'label': 'JU', 'value': 'JU'},\n",
       " {'label': 'LU', 'value': 'LU'},\n",
       " {'label': 'NE', 'value': 'NE'},\n",
       " {'label': 'NW', 'value': 'NW'},\n",
       " {'label': 'OW', 'value': 'OW'},\n",
       " {'label': 'SG', 'value': 'SG'},\n",
       " {'label': 'SH', 'value': 'SH'},\n",
       " {'label': 'SO', 'value': 'SO'},\n",
       " {'label': 'SZ', 'value': 'SZ'},\n",
       " {'label': 'TG', 'value': 'TG'},\n",
       " {'label': 'TI', 'value': 'TI'},\n",
       " {'label': 'UR', 'value': 'UR'},\n",
       " {'label': 'VD', 'value': 'VD'},\n",
       " {'label': 'VS', 'value': 'VS'},\n",
       " {'label': 'ZG', 'value': 'ZG'},\n",
       " {'label': 'ZH', 'value': 'ZH'}]"
      ]
     },
     "execution_count": 10,
     "metadata": {},
     "output_type": "execute_result"
    }
   ],
   "source": [
    "[{'label':x, 'value':x} for x in mor_Cant.sort_values('Cantons')['Cantons'].unique()]"
   ]
  },
  {
   "cell_type": "code",
   "execution_count": 11,
   "metadata": {},
   "outputs": [
    {
     "data": {
      "text/plain": [
       "[{'label': 'AllBanks', 'value': 'AllBanks'},\n",
       " {'label': 'BigBanks', 'value': 'BigBanks'},\n",
       " {'label': 'CantonalBanks', 'value': 'CantonalBanks'},\n",
       " {'label': 'Raiffeisen', 'value': 'Raiffeisen'},\n",
       " {'label': 'RegAndSavBanks', 'value': 'RegAndSavBanks'}]"
      ]
     },
     "execution_count": 11,
     "metadata": {},
     "output_type": "execute_result"
    }
   ],
   "source": [
    "[{'label':x, 'value':x} for x in df.sort_values('BANKENGRUPPE')['BANKENGRUPPE'].unique()]"
   ]
  },
  {
   "cell_type": "code",
   "execution_count": 4,
   "metadata": {},
   "outputs": [
    {
     "data": {
      "text/html": [
       "\n",
       "        <iframe\n",
       "            width=\"100%\"\n",
       "            height=\"650\"\n",
       "            src=\"http://127.0.0.1:8061/\"\n",
       "            frameborder=\"0\"\n",
       "            allowfullscreen\n",
       "        ></iframe>\n",
       "        "
      ],
      "text/plain": [
       "<IPython.lib.display.IFrame at 0x7f69181fcda0>"
      ]
     },
     "metadata": {},
     "output_type": "display_data"
    }
   ],
   "source": [
    "import dash\n",
    "import dash_core_components as dcc\n",
    "import dash_html_components as html\n",
    "from dash.dependencies import Input, Output\n",
    "import plotly.express as px\n",
    "\n",
    "import pandas as pd\n",
    "\n",
    "\n",
    "app = JupyterDash(__name__, external_stylesheets=[dbc.themes.LUMEN])\n",
    "\n",
    "df = pd.read_csv('https://plotly.github.io/datasets/country_indicators.csv')\n",
    "\n",
    "available_indicators = df['BANKENGRUPPE'].unique()\n",
    "available_indicators2 = mor_Cant[\"Cantons\"].unique()\n",
    "\n",
    "app.layout = html.Div([\n",
    "    html.Div([\n",
    "\n",
    "        html.Div([\n",
    "            dcc.Dropdown(\n",
    "                id='xaxis-column',\n",
    "                options=[{'label': i, 'value': i} for i in available_indicators],\n",
    "                value='AllBanks'\n",
    "            ),\n",
    "            dcc.RadioItems(\n",
    "                id='xaxis-type',\n",
    "                options=[{'label': i, 'value': i} for i in ['Linear', 'Log']],\n",
    "                value='Linear',\n",
    "                labelStyle={'display': 'inline-block'}\n",
    "            )\n",
    "        ],\n",
    "        style={'width': '48%', 'display': 'inline-block'}),\n",
    "\n",
    "        html.Div([\n",
    "            dcc.Dropdown(\n",
    "                id='yaxis-column',\n",
    "                options=[{'label': i, 'value': i} for i in available_indicators2],\n",
    "                value='Cantons'\n",
    "            ),\n",
    "            dcc.RadioItems(\n",
    "                id='yaxis-type',\n",
    "                options=[{'label': i, 'value': i} for i in ['Linear', 'Log']],\n",
    "                value='Linear',\n",
    "                labelStyle={'display': 'inline-block'}\n",
    "            )\n",
    "        ],style={'width': '48%', 'float': 'right', 'display': 'inline-block'})\n",
    "    ]),\n",
    "\n",
    "    #dcc.Graph(id='indicator-graphic'),\n",
    "\n",
    "    #dcc.Slider(\n",
    "        #id='year--slider',\n",
    "        #min=df['Year'].min(),\n",
    "        #max=df['Year'].max(),\n",
    "        #value=df['Year'].max(),\n",
    "        #marks={str(year): str(year) for year in df['Year'].unique()},\n",
    "        #step=None\n",
    "    )\n",
    "])\n",
    "\n",
    "@app.callback(\n",
    "    Output('indicator-graphic', 'figure'),\n",
    "    [Input('xaxis-column', 'value'),\n",
    "     Input('yaxis-column', 'value'),\n",
    "     Input('xaxis-type', 'value'),\n",
    "     Input('yaxis-type', 'value')])\n",
    "def update_graph(xaxis_column_name, yaxis_column_name,\n",
    "                 xaxis_type, yaxis_type,\n",
    "                 year_value):\n",
    "    dff = df[df['Year'] == year_value]\n",
    "\n",
    "    fig = px.line(x=dff[dff['Indicator Name'] == xaxis_column_name]['Value'],\n",
    "                     y=dff[dff['Indicator Name'] == yaxis_column_name]['Value'],\n",
    "                     hover_name=dff[dff['Indicator Name'] == yaxis_column_name]['Country Name'])\n",
    "\n",
    "    fig.update_layout(margin={'l': 40, 'b': 40, 't': 10, 'r': 0}, hovermode='closest')\n",
    "\n",
    "    fig.update_xaxes(title=xaxis_column_name, \n",
    "                     type='linear' if xaxis_type == 'Linear' else 'log') \n",
    "\n",
    "    fig.update_yaxes(title=yaxis_column_name, \n",
    "                     type='linear' if yaxis_type == 'Linear' else 'log') \n",
    "\n",
    "    return fig\n",
    "\n",
    "\n",
    "app.run_server(mode=\"inline\", port=\"8061\")"
   ]
  },
  {
   "cell_type": "code",
   "execution_count": 3,
   "metadata": {},
   "outputs": [
    {
     "data": {
      "text/plain": [
       "[{'label': 'Agriculture, value added (% of GDP)',\n",
       "  'value': 'Agriculture, value added (% of GDP)'},\n",
       " {'label': 'CO2 emissions (metric tons per capita)',\n",
       "  'value': 'CO2 emissions (metric tons per capita)'},\n",
       " {'label': 'Domestic credit provided by financial sector (% of GDP)',\n",
       "  'value': 'Domestic credit provided by financial sector (% of GDP)'},\n",
       " {'label': 'Electric power consumption (kWh per capita)',\n",
       "  'value': 'Electric power consumption (kWh per capita)'},\n",
       " {'label': 'Energy use (kg of oil equivalent per capita)',\n",
       "  'value': 'Energy use (kg of oil equivalent per capita)'},\n",
       " {'label': 'Exports of goods and services (% of GDP)',\n",
       "  'value': 'Exports of goods and services (% of GDP)'},\n",
       " {'label': 'Fertility rate, total (births per woman)',\n",
       "  'value': 'Fertility rate, total (births per woman)'},\n",
       " {'label': 'GDP growth (annual %)', 'value': 'GDP growth (annual %)'},\n",
       " {'label': 'Imports of goods and services (% of GDP)',\n",
       "  'value': 'Imports of goods and services (% of GDP)'},\n",
       " {'label': 'Industry, value added (% of GDP)',\n",
       "  'value': 'Industry, value added (% of GDP)'},\n",
       " {'label': 'Inflation, GDP deflator (annual %)',\n",
       "  'value': 'Inflation, GDP deflator (annual %)'},\n",
       " {'label': 'Life expectancy at birth, total (years)',\n",
       "  'value': 'Life expectancy at birth, total (years)'},\n",
       " {'label': 'Population density (people per sq. km of land area)',\n",
       "  'value': 'Population density (people per sq. km of land area)'},\n",
       " {'label': 'Services, etc., value added (% of GDP)',\n",
       "  'value': 'Services, etc., value added (% of GDP)'}]"
      ]
     },
     "execution_count": 3,
     "metadata": {},
     "output_type": "execute_result"
    }
   ],
   "source": [
    "[{'label': i, 'value': i} for i in available_indicators]"
   ]
  },
  {
   "cell_type": "code",
   "execution_count": null,
   "metadata": {},
   "outputs": [],
   "source": []
  },
  {
   "cell_type": "code",
   "execution_count": null,
   "metadata": {},
   "outputs": [],
   "source": []
  },
  {
   "cell_type": "code",
   "execution_count": null,
   "metadata": {},
   "outputs": [],
   "source": []
  },
  {
   "cell_type": "code",
   "execution_count": null,
   "metadata": {},
   "outputs": [],
   "source": []
  },
  {
   "cell_type": "code",
   "execution_count": null,
   "metadata": {},
   "outputs": [],
   "source": []
  }
 ],
 "metadata": {
  "kernelspec": {
   "display_name": "Python 3",
   "language": "python",
   "name": "python3"
  },
  "language_info": {
   "codemirror_mode": {
    "name": "ipython",
    "version": 3
   },
   "file_extension": ".py",
   "mimetype": "text/x-python",
   "name": "python",
   "nbconvert_exporter": "python",
   "pygments_lexer": "ipython3",
   "version": "3.6.9"
  }
 },
 "nbformat": 4,
 "nbformat_minor": 4
}
